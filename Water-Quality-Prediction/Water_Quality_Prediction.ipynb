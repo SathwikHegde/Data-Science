{
  "nbformat": 4,
  "nbformat_minor": 0,
  "metadata": {
    "colab": {
      "name": "WaterQualityPrediction.ipynb",
      "provenance": [],
      "collapsed_sections": [],
      "authorship_tag": "ABX9TyPNAUs3dg9WJkps2ZbrjlsY",
      "include_colab_link": true
    },
    "kernelspec": {
      "name": "python3",
      "display_name": "Python 3"
    },
    "language_info": {
      "name": "python"
    }
  },
  "cells": [
    {
      "cell_type": "markdown",
      "metadata": {
        "id": "view-in-github",
        "colab_type": "text"
      },
      "source": [
        "<a href=\"https://colab.research.google.com/github/SathwikHegde/DataScienceFinalProject/blob/main/WaterQualityPrediction.ipynb\" target=\"_parent\"><img src=\"https://colab.research.google.com/assets/colab-badge.svg\" alt=\"Open In Colab\"/></a>"
      ]
    },
    {
      "cell_type": "code",
      "execution_count": 83,
      "metadata": {
        "id": "rRBfF9rlNWzi"
      },
      "outputs": [],
      "source": [
        "# This Python 3 environment comes with many helpful analytics libraries installed\n",
        "# It is defined by the kaggle/python Docker image: https://github.com/kaggle/docker-python\n",
        "# For example, here's several helpful packages to load\n",
        "\n",
        "import numpy as np # linear algebra\n",
        "import pandas as pd # data processing, CSV file I/O (e.g. pd.read_csv)\n",
        "\n",
        "# Input data files are available in the read-only \"../input/\" directory\n",
        "# For example, running this (by clicking run or pressing Shift+Enter) will list all files under the input directory\n",
        "\n",
        "import os\n",
        "for dirname, _, filenames in os.walk('/kaggle/input'):\n",
        "    for filename in filenames:\n",
        "        print(os.path.join(dirname, filename))\n",
        "\n",
        "# You can write up to 20GB to the current directory (/kaggle/working/) that gets preserved as output when you create a version using \"Save & Run All\" \n",
        "# You can also write temporary files to /kaggle/temp/, but they won't be saved outside of the current session"
      ]
    },
    {
      "cell_type": "code",
      "source": [
        "import pandas as pd\n",
        "import numpy as np\n",
        "import seaborn as sns\n",
        "import matplotlib.pyplot as plt\n",
        "import plotly as pt\n",
        "from scipy import stats\n",
        "import sklearn\n",
        "from sklearn import preprocessing\n",
        "from sklearn.impute import SimpleImputer\n",
        "from math import floor,ceil\n",
        "import tabulate as tb\n",
        "from sklearn.preprocessing import StandardScaler\n",
        "from sklearn.model_selection import train_test_split\n",
        "from imblearn.over_sampling import SMOTE\n",
        "from sklearn.linear_model import LogisticRegression,RidgeClassifier,SGDClassifier,PassiveAggressiveClassifier\n",
        "from sklearn.svm import SVC,LinearSVC,NuSVC\n",
        "from sklearn.neighbors import KNeighborsClassifier\n",
        "from sklearn.tree import DecisionTreeClassifier\n",
        "from sklearn.ensemble import RandomForestClassifier,AdaBoostClassifier,GradientBoostingClassifier\n",
        "from xgboost import XGBClassifier\n",
        "from sklearn.naive_bayes import GaussianNB,BernoulliNB\n",
        "from sklearn.model_selection import GridSearchCV\n",
        "from sklearn.metrics import precision_score,accuracy_score\n",
        "from sklearn.metrics import classification_report\n",
        "import warnings\n",
        "warnings.filterwarnings('ignore')"
      ],
      "metadata": {
        "id": "CoUqdJHtNqT3"
      },
      "execution_count": 84,
      "outputs": []
    },
    {
      "cell_type": "code",
      "source": [
        "df=pd.read_csv('TexasWaterQuality.csv')"
      ],
      "metadata": {
        "id": "2Xc4k47INuQx"
      },
      "execution_count": 85,
      "outputs": []
    },
    {
      "cell_type": "code",
      "source": [
        "df.head()"
      ],
      "metadata": {
        "colab": {
          "base_uri": "https://localhost:8080/",
          "height": 206
        },
        "id": "4Jt8U6AZN7v3",
        "outputId": "a6f952f5-6eae-4035-9a55-7e2da6683ef4"
      },
      "execution_count": 86,
      "outputs": [
        {
          "output_type": "execute_result",
          "data": {
            "text/plain": [
              "    pH  Hardness  Solids  Sulfate  Conductivity  Organic carbon  \\\n",
              "0  6.6     129.0  390.00     42.9         650.0           12.00   \n",
              "1  8.1     810.0    0.53    622.0         687.0            0.41   \n",
              "2  8.3     101.0  367.00     15.4         650.0            1.44   \n",
              "3  7.7     129.0  372.00     30.9         532.0            0.42   \n",
              "4  8.4     124.0    0.50     31.9         557.0            8.40   \n",
              "\n",
              "   Trihalomethanes  Turbidity  Potability  \n",
              "0              0.2        1.0           1  \n",
              "1              0.4        4.8           0  \n",
              "2              NaN       26.0           1  \n",
              "3              NaN        4.5           0  \n",
              "4              NaN        6.9           1  "
            ],
            "text/html": [
              "\n",
              "  <div id=\"df-0707d2fe-584d-4eac-a28b-8159a85c2da5\">\n",
              "    <div class=\"colab-df-container\">\n",
              "      <div>\n",
              "<style scoped>\n",
              "    .dataframe tbody tr th:only-of-type {\n",
              "        vertical-align: middle;\n",
              "    }\n",
              "\n",
              "    .dataframe tbody tr th {\n",
              "        vertical-align: top;\n",
              "    }\n",
              "\n",
              "    .dataframe thead th {\n",
              "        text-align: right;\n",
              "    }\n",
              "</style>\n",
              "<table border=\"1\" class=\"dataframe\">\n",
              "  <thead>\n",
              "    <tr style=\"text-align: right;\">\n",
              "      <th></th>\n",
              "      <th>pH</th>\n",
              "      <th>Hardness</th>\n",
              "      <th>Solids</th>\n",
              "      <th>Sulfate</th>\n",
              "      <th>Conductivity</th>\n",
              "      <th>Organic carbon</th>\n",
              "      <th>Trihalomethanes</th>\n",
              "      <th>Turbidity</th>\n",
              "      <th>Potability</th>\n",
              "    </tr>\n",
              "  </thead>\n",
              "  <tbody>\n",
              "    <tr>\n",
              "      <th>0</th>\n",
              "      <td>6.6</td>\n",
              "      <td>129.0</td>\n",
              "      <td>390.00</td>\n",
              "      <td>42.9</td>\n",
              "      <td>650.0</td>\n",
              "      <td>12.00</td>\n",
              "      <td>0.2</td>\n",
              "      <td>1.0</td>\n",
              "      <td>1</td>\n",
              "    </tr>\n",
              "    <tr>\n",
              "      <th>1</th>\n",
              "      <td>8.1</td>\n",
              "      <td>810.0</td>\n",
              "      <td>0.53</td>\n",
              "      <td>622.0</td>\n",
              "      <td>687.0</td>\n",
              "      <td>0.41</td>\n",
              "      <td>0.4</td>\n",
              "      <td>4.8</td>\n",
              "      <td>0</td>\n",
              "    </tr>\n",
              "    <tr>\n",
              "      <th>2</th>\n",
              "      <td>8.3</td>\n",
              "      <td>101.0</td>\n",
              "      <td>367.00</td>\n",
              "      <td>15.4</td>\n",
              "      <td>650.0</td>\n",
              "      <td>1.44</td>\n",
              "      <td>NaN</td>\n",
              "      <td>26.0</td>\n",
              "      <td>1</td>\n",
              "    </tr>\n",
              "    <tr>\n",
              "      <th>3</th>\n",
              "      <td>7.7</td>\n",
              "      <td>129.0</td>\n",
              "      <td>372.00</td>\n",
              "      <td>30.9</td>\n",
              "      <td>532.0</td>\n",
              "      <td>0.42</td>\n",
              "      <td>NaN</td>\n",
              "      <td>4.5</td>\n",
              "      <td>0</td>\n",
              "    </tr>\n",
              "    <tr>\n",
              "      <th>4</th>\n",
              "      <td>8.4</td>\n",
              "      <td>124.0</td>\n",
              "      <td>0.50</td>\n",
              "      <td>31.9</td>\n",
              "      <td>557.0</td>\n",
              "      <td>8.40</td>\n",
              "      <td>NaN</td>\n",
              "      <td>6.9</td>\n",
              "      <td>1</td>\n",
              "    </tr>\n",
              "  </tbody>\n",
              "</table>\n",
              "</div>\n",
              "      <button class=\"colab-df-convert\" onclick=\"convertToInteractive('df-0707d2fe-584d-4eac-a28b-8159a85c2da5')\"\n",
              "              title=\"Convert this dataframe to an interactive table.\"\n",
              "              style=\"display:none;\">\n",
              "        \n",
              "  <svg xmlns=\"http://www.w3.org/2000/svg\" height=\"24px\"viewBox=\"0 0 24 24\"\n",
              "       width=\"24px\">\n",
              "    <path d=\"M0 0h24v24H0V0z\" fill=\"none\"/>\n",
              "    <path d=\"M18.56 5.44l.94 2.06.94-2.06 2.06-.94-2.06-.94-.94-2.06-.94 2.06-2.06.94zm-11 1L8.5 8.5l.94-2.06 2.06-.94-2.06-.94L8.5 2.5l-.94 2.06-2.06.94zm10 10l.94 2.06.94-2.06 2.06-.94-2.06-.94-.94-2.06-.94 2.06-2.06.94z\"/><path d=\"M17.41 7.96l-1.37-1.37c-.4-.4-.92-.59-1.43-.59-.52 0-1.04.2-1.43.59L10.3 9.45l-7.72 7.72c-.78.78-.78 2.05 0 2.83L4 21.41c.39.39.9.59 1.41.59.51 0 1.02-.2 1.41-.59l7.78-7.78 2.81-2.81c.8-.78.8-2.07 0-2.86zM5.41 20L4 18.59l7.72-7.72 1.47 1.35L5.41 20z\"/>\n",
              "  </svg>\n",
              "      </button>\n",
              "      \n",
              "  <style>\n",
              "    .colab-df-container {\n",
              "      display:flex;\n",
              "      flex-wrap:wrap;\n",
              "      gap: 12px;\n",
              "    }\n",
              "\n",
              "    .colab-df-convert {\n",
              "      background-color: #E8F0FE;\n",
              "      border: none;\n",
              "      border-radius: 50%;\n",
              "      cursor: pointer;\n",
              "      display: none;\n",
              "      fill: #1967D2;\n",
              "      height: 32px;\n",
              "      padding: 0 0 0 0;\n",
              "      width: 32px;\n",
              "    }\n",
              "\n",
              "    .colab-df-convert:hover {\n",
              "      background-color: #E2EBFA;\n",
              "      box-shadow: 0px 1px 2px rgba(60, 64, 67, 0.3), 0px 1px 3px 1px rgba(60, 64, 67, 0.15);\n",
              "      fill: #174EA6;\n",
              "    }\n",
              "\n",
              "    [theme=dark] .colab-df-convert {\n",
              "      background-color: #3B4455;\n",
              "      fill: #D2E3FC;\n",
              "    }\n",
              "\n",
              "    [theme=dark] .colab-df-convert:hover {\n",
              "      background-color: #434B5C;\n",
              "      box-shadow: 0px 1px 3px 1px rgba(0, 0, 0, 0.15);\n",
              "      filter: drop-shadow(0px 1px 2px rgba(0, 0, 0, 0.3));\n",
              "      fill: #FFFFFF;\n",
              "    }\n",
              "  </style>\n",
              "\n",
              "      <script>\n",
              "        const buttonEl =\n",
              "          document.querySelector('#df-0707d2fe-584d-4eac-a28b-8159a85c2da5 button.colab-df-convert');\n",
              "        buttonEl.style.display =\n",
              "          google.colab.kernel.accessAllowed ? 'block' : 'none';\n",
              "\n",
              "        async function convertToInteractive(key) {\n",
              "          const element = document.querySelector('#df-0707d2fe-584d-4eac-a28b-8159a85c2da5');\n",
              "          const dataTable =\n",
              "            await google.colab.kernel.invokeFunction('convertToInteractive',\n",
              "                                                     [key], {});\n",
              "          if (!dataTable) return;\n",
              "\n",
              "          const docLinkHtml = 'Like what you see? Visit the ' +\n",
              "            '<a target=\"_blank\" href=https://colab.research.google.com/notebooks/data_table.ipynb>data table notebook</a>'\n",
              "            + ' to learn more about interactive tables.';\n",
              "          element.innerHTML = '';\n",
              "          dataTable['output_type'] = 'display_data';\n",
              "          await google.colab.output.renderOutput(dataTable, element);\n",
              "          const docLink = document.createElement('div');\n",
              "          docLink.innerHTML = docLinkHtml;\n",
              "          element.appendChild(docLink);\n",
              "        }\n",
              "      </script>\n",
              "    </div>\n",
              "  </div>\n",
              "  "
            ]
          },
          "metadata": {},
          "execution_count": 86
        }
      ]
    },
    {
      "cell_type": "code",
      "source": [
        "df.columns"
      ],
      "metadata": {
        "colab": {
          "base_uri": "https://localhost:8080/"
        },
        "id": "-beHF6dCN-O_",
        "outputId": "0b043015-e3ad-4eaf-c018-3610a69dd340"
      },
      "execution_count": 87,
      "outputs": [
        {
          "output_type": "execute_result",
          "data": {
            "text/plain": [
              "Index(['pH', 'Hardness', 'Solids', 'Sulfate', 'Conductivity', 'Organic carbon',\n",
              "       'Trihalomethanes', 'Turbidity', 'Potability'],\n",
              "      dtype='object')"
            ]
          },
          "metadata": {},
          "execution_count": 87
        }
      ]
    },
    {
      "cell_type": "code",
      "source": [
        "df.shape"
      ],
      "metadata": {
        "colab": {
          "base_uri": "https://localhost:8080/"
        },
        "id": "jxpiwXgt-WLC",
        "outputId": "eac60411-cdc0-46fd-cd2e-1b5b40a2d82a"
      },
      "execution_count": 88,
      "outputs": [
        {
          "output_type": "execute_result",
          "data": {
            "text/plain": [
              "(11518, 9)"
            ]
          },
          "metadata": {},
          "execution_count": 88
        }
      ]
    },
    {
      "cell_type": "code",
      "source": [
        "df.isnull().sum().sort_values(ascending=False)"
      ],
      "metadata": {
        "colab": {
          "base_uri": "https://localhost:8080/"
        },
        "id": "JeNusnUaODNR",
        "outputId": "32863941-4416-423c-c8cc-eed55e0dca32"
      },
      "execution_count": 89,
      "outputs": [
        {
          "output_type": "execute_result",
          "data": {
            "text/plain": [
              "Trihalomethanes    11516\n",
              "Turbidity          10309\n",
              "Conductivity       10181\n",
              "Organic carbon     10050\n",
              "Hardness            9930\n",
              "Sulfate             9271\n",
              "Solids              8579\n",
              "pH                     0\n",
              "Potability             0\n",
              "dtype: int64"
            ]
          },
          "metadata": {},
          "execution_count": 89
        }
      ]
    },
    {
      "cell_type": "code",
      "source": [
        "percent_missing = df.isnull().sum() * 100 / len(df)\n",
        "missing_value_df = pd.DataFrame({'column_name': df.columns,'percent_missing': percent_missing})\n",
        "missing_value_df.sort_values(by='percent_missing', ascending=False)"
      ],
      "metadata": {
        "colab": {
          "base_uri": "https://localhost:8080/",
          "height": 331
        },
        "id": "BbAw-w8bONHU",
        "outputId": "0bd2b9dc-72dd-4471-ee5e-13216f50ffff"
      },
      "execution_count": 90,
      "outputs": [
        {
          "output_type": "execute_result",
          "data": {
            "text/plain": [
              "                     column_name  percent_missing\n",
              "Trihalomethanes  Trihalomethanes        99.982636\n",
              "Turbidity              Turbidity        89.503386\n",
              "Conductivity        Conductivity        88.392082\n",
              "Organic carbon    Organic carbon        87.254732\n",
              "Hardness                Hardness        86.212884\n",
              "Sulfate                  Sulfate        80.491405\n",
              "Solids                    Solids        74.483417\n",
              "pH                            pH         0.000000\n",
              "Potability            Potability         0.000000"
            ],
            "text/html": [
              "\n",
              "  <div id=\"df-c84e31e8-d4e8-4e9c-afaa-e9c5849628eb\">\n",
              "    <div class=\"colab-df-container\">\n",
              "      <div>\n",
              "<style scoped>\n",
              "    .dataframe tbody tr th:only-of-type {\n",
              "        vertical-align: middle;\n",
              "    }\n",
              "\n",
              "    .dataframe tbody tr th {\n",
              "        vertical-align: top;\n",
              "    }\n",
              "\n",
              "    .dataframe thead th {\n",
              "        text-align: right;\n",
              "    }\n",
              "</style>\n",
              "<table border=\"1\" class=\"dataframe\">\n",
              "  <thead>\n",
              "    <tr style=\"text-align: right;\">\n",
              "      <th></th>\n",
              "      <th>column_name</th>\n",
              "      <th>percent_missing</th>\n",
              "    </tr>\n",
              "  </thead>\n",
              "  <tbody>\n",
              "    <tr>\n",
              "      <th>Trihalomethanes</th>\n",
              "      <td>Trihalomethanes</td>\n",
              "      <td>99.982636</td>\n",
              "    </tr>\n",
              "    <tr>\n",
              "      <th>Turbidity</th>\n",
              "      <td>Turbidity</td>\n",
              "      <td>89.503386</td>\n",
              "    </tr>\n",
              "    <tr>\n",
              "      <th>Conductivity</th>\n",
              "      <td>Conductivity</td>\n",
              "      <td>88.392082</td>\n",
              "    </tr>\n",
              "    <tr>\n",
              "      <th>Organic carbon</th>\n",
              "      <td>Organic carbon</td>\n",
              "      <td>87.254732</td>\n",
              "    </tr>\n",
              "    <tr>\n",
              "      <th>Hardness</th>\n",
              "      <td>Hardness</td>\n",
              "      <td>86.212884</td>\n",
              "    </tr>\n",
              "    <tr>\n",
              "      <th>Sulfate</th>\n",
              "      <td>Sulfate</td>\n",
              "      <td>80.491405</td>\n",
              "    </tr>\n",
              "    <tr>\n",
              "      <th>Solids</th>\n",
              "      <td>Solids</td>\n",
              "      <td>74.483417</td>\n",
              "    </tr>\n",
              "    <tr>\n",
              "      <th>pH</th>\n",
              "      <td>pH</td>\n",
              "      <td>0.000000</td>\n",
              "    </tr>\n",
              "    <tr>\n",
              "      <th>Potability</th>\n",
              "      <td>Potability</td>\n",
              "      <td>0.000000</td>\n",
              "    </tr>\n",
              "  </tbody>\n",
              "</table>\n",
              "</div>\n",
              "      <button class=\"colab-df-convert\" onclick=\"convertToInteractive('df-c84e31e8-d4e8-4e9c-afaa-e9c5849628eb')\"\n",
              "              title=\"Convert this dataframe to an interactive table.\"\n",
              "              style=\"display:none;\">\n",
              "        \n",
              "  <svg xmlns=\"http://www.w3.org/2000/svg\" height=\"24px\"viewBox=\"0 0 24 24\"\n",
              "       width=\"24px\">\n",
              "    <path d=\"M0 0h24v24H0V0z\" fill=\"none\"/>\n",
              "    <path d=\"M18.56 5.44l.94 2.06.94-2.06 2.06-.94-2.06-.94-.94-2.06-.94 2.06-2.06.94zm-11 1L8.5 8.5l.94-2.06 2.06-.94-2.06-.94L8.5 2.5l-.94 2.06-2.06.94zm10 10l.94 2.06.94-2.06 2.06-.94-2.06-.94-.94-2.06-.94 2.06-2.06.94z\"/><path d=\"M17.41 7.96l-1.37-1.37c-.4-.4-.92-.59-1.43-.59-.52 0-1.04.2-1.43.59L10.3 9.45l-7.72 7.72c-.78.78-.78 2.05 0 2.83L4 21.41c.39.39.9.59 1.41.59.51 0 1.02-.2 1.41-.59l7.78-7.78 2.81-2.81c.8-.78.8-2.07 0-2.86zM5.41 20L4 18.59l7.72-7.72 1.47 1.35L5.41 20z\"/>\n",
              "  </svg>\n",
              "      </button>\n",
              "      \n",
              "  <style>\n",
              "    .colab-df-container {\n",
              "      display:flex;\n",
              "      flex-wrap:wrap;\n",
              "      gap: 12px;\n",
              "    }\n",
              "\n",
              "    .colab-df-convert {\n",
              "      background-color: #E8F0FE;\n",
              "      border: none;\n",
              "      border-radius: 50%;\n",
              "      cursor: pointer;\n",
              "      display: none;\n",
              "      fill: #1967D2;\n",
              "      height: 32px;\n",
              "      padding: 0 0 0 0;\n",
              "      width: 32px;\n",
              "    }\n",
              "\n",
              "    .colab-df-convert:hover {\n",
              "      background-color: #E2EBFA;\n",
              "      box-shadow: 0px 1px 2px rgba(60, 64, 67, 0.3), 0px 1px 3px 1px rgba(60, 64, 67, 0.15);\n",
              "      fill: #174EA6;\n",
              "    }\n",
              "\n",
              "    [theme=dark] .colab-df-convert {\n",
              "      background-color: #3B4455;\n",
              "      fill: #D2E3FC;\n",
              "    }\n",
              "\n",
              "    [theme=dark] .colab-df-convert:hover {\n",
              "      background-color: #434B5C;\n",
              "      box-shadow: 0px 1px 3px 1px rgba(0, 0, 0, 0.15);\n",
              "      filter: drop-shadow(0px 1px 2px rgba(0, 0, 0, 0.3));\n",
              "      fill: #FFFFFF;\n",
              "    }\n",
              "  </style>\n",
              "\n",
              "      <script>\n",
              "        const buttonEl =\n",
              "          document.querySelector('#df-c84e31e8-d4e8-4e9c-afaa-e9c5849628eb button.colab-df-convert');\n",
              "        buttonEl.style.display =\n",
              "          google.colab.kernel.accessAllowed ? 'block' : 'none';\n",
              "\n",
              "        async function convertToInteractive(key) {\n",
              "          const element = document.querySelector('#df-c84e31e8-d4e8-4e9c-afaa-e9c5849628eb');\n",
              "          const dataTable =\n",
              "            await google.colab.kernel.invokeFunction('convertToInteractive',\n",
              "                                                     [key], {});\n",
              "          if (!dataTable) return;\n",
              "\n",
              "          const docLinkHtml = 'Like what you see? Visit the ' +\n",
              "            '<a target=\"_blank\" href=https://colab.research.google.com/notebooks/data_table.ipynb>data table notebook</a>'\n",
              "            + ' to learn more about interactive tables.';\n",
              "          element.innerHTML = '';\n",
              "          dataTable['output_type'] = 'display_data';\n",
              "          await google.colab.output.renderOutput(dataTable, element);\n",
              "          const docLink = document.createElement('div');\n",
              "          docLink.innerHTML = docLinkHtml;\n",
              "          element.appendChild(docLink);\n",
              "        }\n",
              "      </script>\n",
              "    </div>\n",
              "  </div>\n",
              "  "
            ]
          },
          "metadata": {},
          "execution_count": 90
        }
      ]
    },
    {
      "cell_type": "code",
      "source": [
        "# df[:] = SimpleImputer(strategy='median').fit_transform(df) --Fill null values method 1"
      ],
      "metadata": {
        "id": "05tgUrmfOQ4r"
      },
      "execution_count": 91,
      "outputs": []
    },
    {
      "cell_type": "code",
      "source": [
        "#Fill null values method 2\n",
        "df.fillna(df.mean(),)"
      ],
      "metadata": {
        "colab": {
          "base_uri": "https://localhost:8080/",
          "height": 423
        },
        "id": "NCwFQ_uRCwtR",
        "outputId": "e189638b-e2cf-45e7-ca50-5df5e087bbba"
      },
      "execution_count": 92,
      "outputs": [
        {
          "output_type": "execute_result",
          "data": {
            "text/plain": [
              "        pH    Hardness      Solids     Sulfate  Conductivity  Organic carbon  \\\n",
              "0      6.6  129.000000  390.000000   42.900000    650.000000        12.00000   \n",
              "1      8.1  810.000000    0.530000  622.000000    687.000000         0.41000   \n",
              "2      8.3  101.000000  367.000000   15.400000    650.000000         1.44000   \n",
              "3      7.7  129.000000  372.000000   30.900000    532.000000         0.42000   \n",
              "4      8.4  124.000000    0.500000   31.900000    557.000000         8.40000   \n",
              "...    ...         ...         ...         ...           ...             ...   \n",
              "11513  8.1  171.285579  168.303015  174.515723    571.545415         5.95515   \n",
              "11514  7.7  171.285579  168.303015  174.515723    571.545415         5.95515   \n",
              "11515  7.8  171.285579  168.303015  174.515723    571.545415         5.95515   \n",
              "11516  7.5  171.285579  168.303015  174.515723    571.545415         5.95515   \n",
              "11517  7.5  171.285579  168.303015  174.515723    571.545415         5.95515   \n",
              "\n",
              "       Trihalomethanes  Turbidity  Potability  \n",
              "0                  0.2   1.000000           1  \n",
              "1                  0.4   4.800000           0  \n",
              "2                  0.3  26.000000           1  \n",
              "3                  0.3   4.500000           0  \n",
              "4                  0.3   6.900000           1  \n",
              "...                ...        ...         ...  \n",
              "11513              0.3  20.383209           1  \n",
              "11514              0.3  20.383209           1  \n",
              "11515              0.3  20.383209           0  \n",
              "11516              0.3  20.383209           1  \n",
              "11517              0.3  20.383209           1  \n",
              "\n",
              "[11518 rows x 9 columns]"
            ],
            "text/html": [
              "\n",
              "  <div id=\"df-40dad288-cc9f-42c6-abe8-8baefbe2320a\">\n",
              "    <div class=\"colab-df-container\">\n",
              "      <div>\n",
              "<style scoped>\n",
              "    .dataframe tbody tr th:only-of-type {\n",
              "        vertical-align: middle;\n",
              "    }\n",
              "\n",
              "    .dataframe tbody tr th {\n",
              "        vertical-align: top;\n",
              "    }\n",
              "\n",
              "    .dataframe thead th {\n",
              "        text-align: right;\n",
              "    }\n",
              "</style>\n",
              "<table border=\"1\" class=\"dataframe\">\n",
              "  <thead>\n",
              "    <tr style=\"text-align: right;\">\n",
              "      <th></th>\n",
              "      <th>pH</th>\n",
              "      <th>Hardness</th>\n",
              "      <th>Solids</th>\n",
              "      <th>Sulfate</th>\n",
              "      <th>Conductivity</th>\n",
              "      <th>Organic carbon</th>\n",
              "      <th>Trihalomethanes</th>\n",
              "      <th>Turbidity</th>\n",
              "      <th>Potability</th>\n",
              "    </tr>\n",
              "  </thead>\n",
              "  <tbody>\n",
              "    <tr>\n",
              "      <th>0</th>\n",
              "      <td>6.6</td>\n",
              "      <td>129.000000</td>\n",
              "      <td>390.000000</td>\n",
              "      <td>42.900000</td>\n",
              "      <td>650.000000</td>\n",
              "      <td>12.00000</td>\n",
              "      <td>0.2</td>\n",
              "      <td>1.000000</td>\n",
              "      <td>1</td>\n",
              "    </tr>\n",
              "    <tr>\n",
              "      <th>1</th>\n",
              "      <td>8.1</td>\n",
              "      <td>810.000000</td>\n",
              "      <td>0.530000</td>\n",
              "      <td>622.000000</td>\n",
              "      <td>687.000000</td>\n",
              "      <td>0.41000</td>\n",
              "      <td>0.4</td>\n",
              "      <td>4.800000</td>\n",
              "      <td>0</td>\n",
              "    </tr>\n",
              "    <tr>\n",
              "      <th>2</th>\n",
              "      <td>8.3</td>\n",
              "      <td>101.000000</td>\n",
              "      <td>367.000000</td>\n",
              "      <td>15.400000</td>\n",
              "      <td>650.000000</td>\n",
              "      <td>1.44000</td>\n",
              "      <td>0.3</td>\n",
              "      <td>26.000000</td>\n",
              "      <td>1</td>\n",
              "    </tr>\n",
              "    <tr>\n",
              "      <th>3</th>\n",
              "      <td>7.7</td>\n",
              "      <td>129.000000</td>\n",
              "      <td>372.000000</td>\n",
              "      <td>30.900000</td>\n",
              "      <td>532.000000</td>\n",
              "      <td>0.42000</td>\n",
              "      <td>0.3</td>\n",
              "      <td>4.500000</td>\n",
              "      <td>0</td>\n",
              "    </tr>\n",
              "    <tr>\n",
              "      <th>4</th>\n",
              "      <td>8.4</td>\n",
              "      <td>124.000000</td>\n",
              "      <td>0.500000</td>\n",
              "      <td>31.900000</td>\n",
              "      <td>557.000000</td>\n",
              "      <td>8.40000</td>\n",
              "      <td>0.3</td>\n",
              "      <td>6.900000</td>\n",
              "      <td>1</td>\n",
              "    </tr>\n",
              "    <tr>\n",
              "      <th>...</th>\n",
              "      <td>...</td>\n",
              "      <td>...</td>\n",
              "      <td>...</td>\n",
              "      <td>...</td>\n",
              "      <td>...</td>\n",
              "      <td>...</td>\n",
              "      <td>...</td>\n",
              "      <td>...</td>\n",
              "      <td>...</td>\n",
              "    </tr>\n",
              "    <tr>\n",
              "      <th>11513</th>\n",
              "      <td>8.1</td>\n",
              "      <td>171.285579</td>\n",
              "      <td>168.303015</td>\n",
              "      <td>174.515723</td>\n",
              "      <td>571.545415</td>\n",
              "      <td>5.95515</td>\n",
              "      <td>0.3</td>\n",
              "      <td>20.383209</td>\n",
              "      <td>1</td>\n",
              "    </tr>\n",
              "    <tr>\n",
              "      <th>11514</th>\n",
              "      <td>7.7</td>\n",
              "      <td>171.285579</td>\n",
              "      <td>168.303015</td>\n",
              "      <td>174.515723</td>\n",
              "      <td>571.545415</td>\n",
              "      <td>5.95515</td>\n",
              "      <td>0.3</td>\n",
              "      <td>20.383209</td>\n",
              "      <td>1</td>\n",
              "    </tr>\n",
              "    <tr>\n",
              "      <th>11515</th>\n",
              "      <td>7.8</td>\n",
              "      <td>171.285579</td>\n",
              "      <td>168.303015</td>\n",
              "      <td>174.515723</td>\n",
              "      <td>571.545415</td>\n",
              "      <td>5.95515</td>\n",
              "      <td>0.3</td>\n",
              "      <td>20.383209</td>\n",
              "      <td>0</td>\n",
              "    </tr>\n",
              "    <tr>\n",
              "      <th>11516</th>\n",
              "      <td>7.5</td>\n",
              "      <td>171.285579</td>\n",
              "      <td>168.303015</td>\n",
              "      <td>174.515723</td>\n",
              "      <td>571.545415</td>\n",
              "      <td>5.95515</td>\n",
              "      <td>0.3</td>\n",
              "      <td>20.383209</td>\n",
              "      <td>1</td>\n",
              "    </tr>\n",
              "    <tr>\n",
              "      <th>11517</th>\n",
              "      <td>7.5</td>\n",
              "      <td>171.285579</td>\n",
              "      <td>168.303015</td>\n",
              "      <td>174.515723</td>\n",
              "      <td>571.545415</td>\n",
              "      <td>5.95515</td>\n",
              "      <td>0.3</td>\n",
              "      <td>20.383209</td>\n",
              "      <td>1</td>\n",
              "    </tr>\n",
              "  </tbody>\n",
              "</table>\n",
              "<p>11518 rows × 9 columns</p>\n",
              "</div>\n",
              "      <button class=\"colab-df-convert\" onclick=\"convertToInteractive('df-40dad288-cc9f-42c6-abe8-8baefbe2320a')\"\n",
              "              title=\"Convert this dataframe to an interactive table.\"\n",
              "              style=\"display:none;\">\n",
              "        \n",
              "  <svg xmlns=\"http://www.w3.org/2000/svg\" height=\"24px\"viewBox=\"0 0 24 24\"\n",
              "       width=\"24px\">\n",
              "    <path d=\"M0 0h24v24H0V0z\" fill=\"none\"/>\n",
              "    <path d=\"M18.56 5.44l.94 2.06.94-2.06 2.06-.94-2.06-.94-.94-2.06-.94 2.06-2.06.94zm-11 1L8.5 8.5l.94-2.06 2.06-.94-2.06-.94L8.5 2.5l-.94 2.06-2.06.94zm10 10l.94 2.06.94-2.06 2.06-.94-2.06-.94-.94-2.06-.94 2.06-2.06.94z\"/><path d=\"M17.41 7.96l-1.37-1.37c-.4-.4-.92-.59-1.43-.59-.52 0-1.04.2-1.43.59L10.3 9.45l-7.72 7.72c-.78.78-.78 2.05 0 2.83L4 21.41c.39.39.9.59 1.41.59.51 0 1.02-.2 1.41-.59l7.78-7.78 2.81-2.81c.8-.78.8-2.07 0-2.86zM5.41 20L4 18.59l7.72-7.72 1.47 1.35L5.41 20z\"/>\n",
              "  </svg>\n",
              "      </button>\n",
              "      \n",
              "  <style>\n",
              "    .colab-df-container {\n",
              "      display:flex;\n",
              "      flex-wrap:wrap;\n",
              "      gap: 12px;\n",
              "    }\n",
              "\n",
              "    .colab-df-convert {\n",
              "      background-color: #E8F0FE;\n",
              "      border: none;\n",
              "      border-radius: 50%;\n",
              "      cursor: pointer;\n",
              "      display: none;\n",
              "      fill: #1967D2;\n",
              "      height: 32px;\n",
              "      padding: 0 0 0 0;\n",
              "      width: 32px;\n",
              "    }\n",
              "\n",
              "    .colab-df-convert:hover {\n",
              "      background-color: #E2EBFA;\n",
              "      box-shadow: 0px 1px 2px rgba(60, 64, 67, 0.3), 0px 1px 3px 1px rgba(60, 64, 67, 0.15);\n",
              "      fill: #174EA6;\n",
              "    }\n",
              "\n",
              "    [theme=dark] .colab-df-convert {\n",
              "      background-color: #3B4455;\n",
              "      fill: #D2E3FC;\n",
              "    }\n",
              "\n",
              "    [theme=dark] .colab-df-convert:hover {\n",
              "      background-color: #434B5C;\n",
              "      box-shadow: 0px 1px 3px 1px rgba(0, 0, 0, 0.15);\n",
              "      filter: drop-shadow(0px 1px 2px rgba(0, 0, 0, 0.3));\n",
              "      fill: #FFFFFF;\n",
              "    }\n",
              "  </style>\n",
              "\n",
              "      <script>\n",
              "        const buttonEl =\n",
              "          document.querySelector('#df-40dad288-cc9f-42c6-abe8-8baefbe2320a button.colab-df-convert');\n",
              "        buttonEl.style.display =\n",
              "          google.colab.kernel.accessAllowed ? 'block' : 'none';\n",
              "\n",
              "        async function convertToInteractive(key) {\n",
              "          const element = document.querySelector('#df-40dad288-cc9f-42c6-abe8-8baefbe2320a');\n",
              "          const dataTable =\n",
              "            await google.colab.kernel.invokeFunction('convertToInteractive',\n",
              "                                                     [key], {});\n",
              "          if (!dataTable) return;\n",
              "\n",
              "          const docLinkHtml = 'Like what you see? Visit the ' +\n",
              "            '<a target=\"_blank\" href=https://colab.research.google.com/notebooks/data_table.ipynb>data table notebook</a>'\n",
              "            + ' to learn more about interactive tables.';\n",
              "          element.innerHTML = '';\n",
              "          dataTable['output_type'] = 'display_data';\n",
              "          await google.colab.output.renderOutput(dataTable, element);\n",
              "          const docLink = document.createElement('div');\n",
              "          docLink.innerHTML = docLinkHtml;\n",
              "          element.appendChild(docLink);\n",
              "        }\n",
              "      </script>\n",
              "    </div>\n",
              "  </div>\n",
              "  "
            ]
          },
          "metadata": {},
          "execution_count": 92
        }
      ]
    },
    {
      "cell_type": "code",
      "source": [
        "# df.isnull().sum().sort_values(ascending=False)\n",
        "df=df.fillna(df.mean())"
      ],
      "metadata": {
        "id": "wJ1dyzGTOY7c"
      },
      "execution_count": 93,
      "outputs": []
    },
    {
      "cell_type": "code",
      "source": [
        " df.isnull().sum().sort_values(ascending=False)"
      ],
      "metadata": {
        "colab": {
          "base_uri": "https://localhost:8080/"
        },
        "id": "JHnkvjwRD1Rw",
        "outputId": "d95efb8d-77bc-497f-b39f-8d58963cd364"
      },
      "execution_count": 94,
      "outputs": [
        {
          "output_type": "execute_result",
          "data": {
            "text/plain": [
              "pH                 0\n",
              "Hardness           0\n",
              "Solids             0\n",
              "Sulfate            0\n",
              "Conductivity       0\n",
              "Organic carbon     0\n",
              "Trihalomethanes    0\n",
              "Turbidity          0\n",
              "Potability         0\n",
              "dtype: int64"
            ]
          },
          "metadata": {},
          "execution_count": 94
        }
      ]
    },
    {
      "cell_type": "code",
      "source": [
        "### checking if we need to perform dimensionality reduction"
      ],
      "metadata": {
        "id": "sXC3U5KPD5vp"
      },
      "execution_count": 95,
      "outputs": []
    },
    {
      "cell_type": "code",
      "source": [
        "#Checking corealtion\n",
        "sns.heatmap(df.corr(),annot=True, cmap='terrain')\n",
        "fig=plt.gcf()\n",
        "fig.set_size_inches(10,7)\n",
        "plt.show()"
      ],
      "metadata": {
        "colab": {
          "base_uri": "https://localhost:8080/",
          "height": 505
        },
        "id": "1K_Qp8CRGVzq",
        "outputId": "b4d61e15-b2e6-43a1-e9da-1981dc300027"
      },
      "execution_count": 96,
      "outputs": [
        {
          "output_type": "display_data",
          "data": {
            "text/plain": [
              "<Figure size 720x504 with 2 Axes>"
            ],
            "image/png": "[encoded data removed]"
          },
          "metadata": {
            "needs_background": "light"
          }
        }
      ]
    },
    {
      "cell_type": "code",
      "source": [
        "# cehck outliers using boxplot\n",
        "df.boxplot(figsize=(15,6))"
      ],
      "metadata": {
        "colab": {
          "base_uri": "https://localhost:8080/",
          "height": 391
        },
        "id": "P77P6U86Gaqk",
        "outputId": "5da3f8f7-5faf-4d66-fb20-e2ab94fc71da"
      },
      "execution_count": 97,
      "outputs": [
        {
          "output_type": "execute_result",
          "data": {
            "text/plain": [
              "<matplotlib.axes._subplots.AxesSubplot at 0x7f1a70403390>"
            ]
          },
          "metadata": {},
          "execution_count": 97
        },
        {
          "output_type": "display_data",
          "data": {
            "text/plain": [
              "<Figure size 1080x432 with 1 Axes>"
            ],
            "image/png": "[encoded data removed]"
          },
          "metadata": {
            "needs_background": "light"
          }
        }
      ]
    },
    {
      "cell_type": "code",
      "source": [
        "df['Potability'].value_counts()"
      ],
      "metadata": {
        "colab": {
          "base_uri": "https://localhost:8080/"
        },
        "id": "RiLWTBg6OAD5",
        "outputId": "d2caf8b4-c7a6-4547-c242-66973887a514"
      },
      "execution_count": 98,
      "outputs": [
        {
          "output_type": "execute_result",
          "data": {
            "text/plain": [
              "1    5775\n",
              "0    5743\n",
              "Name: Potability, dtype: int64"
            ]
          },
          "metadata": {},
          "execution_count": 98
        }
      ]
    },
    {
      "cell_type": "code",
      "source": [
        "sns.countplot(df['Potability'])\n",
        "plt.show()"
      ],
      "metadata": {
        "colab": {
          "base_uri": "https://localhost:8080/",
          "height": 281
        },
        "id": "2zQhQ95fQvyO",
        "outputId": "763f184b-3c54-4233-dd8e-7078b9081295"
      },
      "execution_count": 99,
      "outputs": [
        {
          "output_type": "display_data",
          "data": {
            "text/plain": [
              "<Figure size 432x288 with 1 Axes>"
            ],
            "image/png": "[encoded data removed]"
          },
          "metadata": {
            "needs_background": "light"
          }
        }
      ]
    },
    {
      "cell_type": "code",
      "source": [
        "#checking biased data\n",
        "df.hist(figsize=(14,7))\n",
        "plt.show()"
      ],
      "metadata": {
        "colab": {
          "base_uri": "https://localhost:8080/",
          "height": 444
        },
        "id": "YRFDEhoVQ7w9",
        "outputId": "e0a11161-5693-4ce3-e22f-bcc7e442c20f"
      },
      "execution_count": 100,
      "outputs": [
        {
          "output_type": "display_data",
          "data": {
            "text/plain": [
              "<Figure size 1008x504 with 9 Axes>"
            ],
            "image/png": "[encoded data removed]"
          },
          "metadata": {
            "needs_background": "light"
          }
        }
      ]
    },
    {
      "cell_type": "markdown",
      "source": [
        "Since in the above graph it is one sided we need to perform normalizzation before we move ahead"
      ],
      "metadata": {
        "id": "-wEH9pYQxNYm"
      }
    },
    {
      "cell_type": "code",
      "source": [
        "sns.barplot(x=df['pH'],\n",
        "            y=df['Hardness'],\n",
        "            hue=df['Potability'])\n",
        "plt.show()"
      ],
      "metadata": {
        "colab": {
          "base_uri": "https://localhost:8080/",
          "height": 279
        },
        "id": "5VATrblBRNwY",
        "outputId": "ff042dea-98fd-4a1f-c6f2-b6fbfb2b3519"
      },
      "execution_count": 101,
      "outputs": [
        {
          "output_type": "display_data",
          "data": {
            "text/plain": [
              "<Figure size 432x288 with 1 Axes>"
            ],
            "image/png": "[encoded data removed]"
          },
          "metadata": {
            "needs_background": "light"
          }
        }
      ]
    },
    {
      "cell_type": "code",
      "source": [
        "sns.scatterplot(x=df['pH'],\n",
        "            y=df['Potability'])\n",
        "plt.show()"
      ],
      "metadata": {
        "colab": {
          "base_uri": "https://localhost:8080/",
          "height": 279
        },
        "id": "1feKTfxjSAtN",
        "outputId": "21c20ed3-70cf-4c30-f62e-ae11aab86222"
      },
      "execution_count": 102,
      "outputs": [
        {
          "output_type": "display_data",
          "data": {
            "text/plain": [
              "<Figure size 432x288 with 1 Axes>"
            ],
            "image/png": "[encoded data removed]"
          },
          "metadata": {
            "needs_background": "light"
          }
        }
      ]
    },
    {
      "cell_type": "code",
      "source": [
        "#Normalization"
      ],
      "metadata": {
        "id": "9A-W5nUUqAK-"
      },
      "execution_count": 103,
      "outputs": []
    },
    {
      "cell_type": "code",
      "source": [
        ""
      ],
      "metadata": {
        "id": "zi2kwQuPqI6e"
      },
      "execution_count": 103,
      "outputs": []
    },
    {
      "cell_type": "code",
      "source": [
        ""
      ],
      "metadata": {
        "id": "lp3fXbUTqI9J"
      },
      "execution_count": 103,
      "outputs": []
    },
    {
      "cell_type": "code",
      "source": [
        "#Partitioning"
      ],
      "metadata": {
        "id": "nhEWgUT_qAND"
      },
      "execution_count": 104,
      "outputs": []
    },
    {
      "cell_type": "code",
      "source": [
        "X=df.drop('Potability', axis=1) #Input Data\n"
      ],
      "metadata": {
        "id": "P9Cy4_QuqAPJ"
      },
      "execution_count": 105,
      "outputs": []
    },
    {
      "cell_type": "code",
      "source": [
        "Y=df['Potability'] #Target Variable"
      ],
      "metadata": {
        "id": "oZ1DTznUqAcc"
      },
      "execution_count": 106,
      "outputs": []
    },
    {
      "cell_type": "code",
      "source": [
        "from sklearn.model_selection import train_test_split"
      ],
      "metadata": {
        "id": "gidGrfuJqAev"
      },
      "execution_count": 107,
      "outputs": []
    },
    {
      "cell_type": "code",
      "source": [
        "X_train, X_test, Y_train, Y_test = train_test_split(X, Y, test_size=0.2, shuffle=True, random_state= None )"
      ],
      "metadata": {
        "id": "r9Ve_OtAvnKN"
      },
      "execution_count": 108,
      "outputs": []
    },
    {
      "cell_type": "code",
      "source": [
        "X_train"
      ],
      "metadata": {
        "colab": {
          "base_uri": "https://localhost:8080/",
          "height": 423
        },
        "id": "rTnLgdblwzjO",
        "outputId": "b367ef28-c94d-420d-e588-2c87548792c6"
      },
      "execution_count": 109,
      "outputs": [
        {
          "output_type": "execute_result",
          "data": {
            "text/plain": [
              "         pH    Hardness       Solids     Sulfate  Conductivity  \\\n",
              "9445   7.01  171.285579   168.303015  174.515723    571.545415   \n",
              "3651   7.40  171.285579   168.303015  174.515723    571.545415   \n",
              "10959  7.30  171.285579   168.303015  174.515723    571.545415   \n",
              "10992  7.30  171.285579   168.303015  174.515723    571.545415   \n",
              "737    7.80   44.000000   429.000000  108.000000    690.000000   \n",
              "...     ...         ...          ...         ...           ...   \n",
              "2382   8.60  171.285579    35.000000  174.515723    571.545415   \n",
              "4810   8.00  171.285579   168.303015  174.515723    571.545415   \n",
              "6955   7.30  171.285579   168.303015  174.515723    571.545415   \n",
              "903    8.20  101.000000  2170.000000   35.600000    565.000000   \n",
              "7396   8.50  171.285579   168.303015  174.515723    571.545415   \n",
              "\n",
              "       Organic carbon  Trihalomethanes  Turbidity  \n",
              "9445          5.95515              0.3  20.383209  \n",
              "3651          5.95515              0.3  20.383209  \n",
              "10959         5.95515              0.3  20.383209  \n",
              "10992         5.95515              0.3  20.383209  \n",
              "737           6.00000              0.3   9.100000  \n",
              "...               ...              ...        ...  \n",
              "2382          5.95515              0.3  20.383209  \n",
              "4810          5.95515              0.3  20.383209  \n",
              "6955          5.95515              0.3  20.383209  \n",
              "903           4.00000              0.3   3.300000  \n",
              "7396          5.95515              0.3  20.383209  \n",
              "\n",
              "[9214 rows x 8 columns]"
            ],
            "text/html": [
              "\n",
              "  <div id=\"df-9ffb1b35-19b6-4ade-bbda-94b28e38881d\">\n",
              "    <div class=\"colab-df-container\">\n",
              "      <div>\n",
              "<style scoped>\n",
              "    .dataframe tbody tr th:only-of-type {\n",
              "        vertical-align: middle;\n",
              "    }\n",
              "\n",
              "    .dataframe tbody tr th {\n",
              "        vertical-align: top;\n",
              "    }\n",
              "\n",
              "    .dataframe thead th {\n",
              "        text-align: right;\n",
              "    }\n",
              "</style>\n",
              "<table border=\"1\" class=\"dataframe\">\n",
              "  <thead>\n",
              "    <tr style=\"text-align: right;\">\n",
              "      <th></th>\n",
              "      <th>pH</th>\n",
              "      <th>Hardness</th>\n",
              "      <th>Solids</th>\n",
              "      <th>Sulfate</th>\n",
              "      <th>Conductivity</th>\n",
              "      <th>Organic carbon</th>\n",
              "      <th>Trihalomethanes</th>\n",
              "      <th>Turbidity</th>\n",
              "    </tr>\n",
              "  </thead>\n",
              "  <tbody>\n",
              "    <tr>\n",
              "      <th>9445</th>\n",
              "      <td>7.01</td>\n",
              "      <td>171.285579</td>\n",
              "      <td>168.303015</td>\n",
              "      <td>174.515723</td>\n",
              "      <td>571.545415</td>\n",
              "      <td>5.95515</td>\n",
              "      <td>0.3</td>\n",
              "      <td>20.383209</td>\n",
              "    </tr>\n",
              "    <tr>\n",
              "      <th>3651</th>\n",
              "      <td>7.40</td>\n",
              "      <td>171.285579</td>\n",
              "      <td>168.303015</td>\n",
              "      <td>174.515723</td>\n",
              "      <td>571.545415</td>\n",
              "      <td>5.95515</td>\n",
              "      <td>0.3</td>\n",
              "      <td>20.383209</td>\n",
              "    </tr>\n",
              "    <tr>\n",
              "      <th>10959</th>\n",
              "      <td>7.30</td>\n",
              "      <td>171.285579</td>\n",
              "      <td>168.303015</td>\n",
              "      <td>174.515723</td>\n",
              "      <td>571.545415</td>\n",
              "      <td>5.95515</td>\n",
              "      <td>0.3</td>\n",
              "      <td>20.383209</td>\n",
              "    </tr>\n",
              "    <tr>\n",
              "      <th>10992</th>\n",
              "      <td>7.30</td>\n",
              "      <td>171.285579</td>\n",
              "      <td>168.303015</td>\n",
              "      <td>174.515723</td>\n",
              "      <td>571.545415</td>\n",
              "      <td>5.95515</td>\n",
              "      <td>0.3</td>\n",
              "      <td>20.383209</td>\n",
              "    </tr>\n",
              "    <tr>\n",
              "      <th>737</th>\n",
              "      <td>7.80</td>\n",
              "      <td>44.000000</td>\n",
              "      <td>429.000000</td>\n",
              "      <td>108.000000</td>\n",
              "      <td>690.000000</td>\n",
              "      <td>6.00000</td>\n",
              "      <td>0.3</td>\n",
              "      <td>9.100000</td>\n",
              "    </tr>\n",
              "    <tr>\n",
              "      <th>...</th>\n",
              "      <td>...</td>\n",
              "      <td>...</td>\n",
              "      <td>...</td>\n",
              "      <td>...</td>\n",
              "      <td>...</td>\n",
              "      <td>...</td>\n",
              "      <td>...</td>\n",
              "      <td>...</td>\n",
              "    </tr>\n",
              "    <tr>\n",
              "      <th>2382</th>\n",
              "      <td>8.60</td>\n",
              "      <td>171.285579</td>\n",
              "      <td>35.000000</td>\n",
              "      <td>174.515723</td>\n",
              "      <td>571.545415</td>\n",
              "      <td>5.95515</td>\n",
              "      <td>0.3</td>\n",
              "      <td>20.383209</td>\n",
              "    </tr>\n",
              "    <tr>\n",
              "      <th>4810</th>\n",
              "      <td>8.00</td>\n",
              "      <td>171.285579</td>\n",
              "      <td>168.303015</td>\n",
              "      <td>174.515723</td>\n",
              "      <td>571.545415</td>\n",
              "      <td>5.95515</td>\n",
              "      <td>0.3</td>\n",
              "      <td>20.383209</td>\n",
              "    </tr>\n",
              "    <tr>\n",
              "      <th>6955</th>\n",
              "      <td>7.30</td>\n",
              "      <td>171.285579</td>\n",
              "      <td>168.303015</td>\n",
              "      <td>174.515723</td>\n",
              "      <td>571.545415</td>\n",
              "      <td>5.95515</td>\n",
              "      <td>0.3</td>\n",
              "      <td>20.383209</td>\n",
              "    </tr>\n",
              "    <tr>\n",
              "      <th>903</th>\n",
              "      <td>8.20</td>\n",
              "      <td>101.000000</td>\n",
              "      <td>2170.000000</td>\n",
              "      <td>35.600000</td>\n",
              "      <td>565.000000</td>\n",
              "      <td>4.00000</td>\n",
              "      <td>0.3</td>\n",
              "      <td>3.300000</td>\n",
              "    </tr>\n",
              "    <tr>\n",
              "      <th>7396</th>\n",
              "      <td>8.50</td>\n",
              "      <td>171.285579</td>\n",
              "      <td>168.303015</td>\n",
              "      <td>174.515723</td>\n",
              "      <td>571.545415</td>\n",
              "      <td>5.95515</td>\n",
              "      <td>0.3</td>\n",
              "      <td>20.383209</td>\n",
              "    </tr>\n",
              "  </tbody>\n",
              "</table>\n",
              "<p>9214 rows × 8 columns</p>\n",
              "</div>\n",
              "      <button class=\"colab-df-convert\" onclick=\"convertToInteractive('df-9ffb1b35-19b6-4ade-bbda-94b28e38881d')\"\n",
              "              title=\"Convert this dataframe to an interactive table.\"\n",
              "              style=\"display:none;\">\n",
              "        \n",
              "  <svg xmlns=\"http://www.w3.org/2000/svg\" height=\"24px\"viewBox=\"0 0 24 24\"\n",
              "       width=\"24px\">\n",
              "    <path d=\"M0 0h24v24H0V0z\" fill=\"none\"/>\n",
              "    <path d=\"M18.56 5.44l.94 2.06.94-2.06 2.06-.94-2.06-.94-.94-2.06-.94 2.06-2.06.94zm-11 1L8.5 8.5l.94-2.06 2.06-.94-2.06-.94L8.5 2.5l-.94 2.06-2.06.94zm10 10l.94 2.06.94-2.06 2.06-.94-2.06-.94-.94-2.06-.94 2.06-2.06.94z\"/><path d=\"M17.41 7.96l-1.37-1.37c-.4-.4-.92-.59-1.43-.59-.52 0-1.04.2-1.43.59L10.3 9.45l-7.72 7.72c-.78.78-.78 2.05 0 2.83L4 21.41c.39.39.9.59 1.41.59.51 0 1.02-.2 1.41-.59l7.78-7.78 2.81-2.81c.8-.78.8-2.07 0-2.86zM5.41 20L4 18.59l7.72-7.72 1.47 1.35L5.41 20z\"/>\n",
              "  </svg>\n",
              "      </button>\n",
              "      \n",
              "  <style>\n",
              "    .colab-df-container {\n",
              "      display:flex;\n",
              "      flex-wrap:wrap;\n",
              "      gap: 12px;\n",
              "    }\n",
              "\n",
              "    .colab-df-convert {\n",
              "      background-color: #E8F0FE;\n",
              "      border: none;\n",
              "      border-radius: 50%;\n",
              "      cursor: pointer;\n",
              "      display: none;\n",
              "      fill: #1967D2;\n",
              "      height: 32px;\n",
              "      padding: 0 0 0 0;\n",
              "      width: 32px;\n",
              "    }\n",
              "\n",
              "    .colab-df-convert:hover {\n",
              "      background-color: #E2EBFA;\n",
              "      box-shadow: 0px 1px 2px rgba(60, 64, 67, 0.3), 0px 1px 3px 1px rgba(60, 64, 67, 0.15);\n",
              "      fill: #174EA6;\n",
              "    }\n",
              "\n",
              "    [theme=dark] .colab-df-convert {\n",
              "      background-color: #3B4455;\n",
              "      fill: #D2E3FC;\n",
              "    }\n",
              "\n",
              "    [theme=dark] .colab-df-convert:hover {\n",
              "      background-color: #434B5C;\n",
              "      box-shadow: 0px 1px 3px 1px rgba(0, 0, 0, 0.15);\n",
              "      filter: drop-shadow(0px 1px 2px rgba(0, 0, 0, 0.3));\n",
              "      fill: #FFFFFF;\n",
              "    }\n",
              "  </style>\n",
              "\n",
              "      <script>\n",
              "        const buttonEl =\n",
              "          document.querySelector('#df-9ffb1b35-19b6-4ade-bbda-94b28e38881d button.colab-df-convert');\n",
              "        buttonEl.style.display =\n",
              "          google.colab.kernel.accessAllowed ? 'block' : 'none';\n",
              "\n",
              "        async function convertToInteractive(key) {\n",
              "          const element = document.querySelector('#df-9ffb1b35-19b6-4ade-bbda-94b28e38881d');\n",
              "          const dataTable =\n",
              "            await google.colab.kernel.invokeFunction('convertToInteractive',\n",
              "                                                     [key], {});\n",
              "          if (!dataTable) return;\n",
              "\n",
              "          const docLinkHtml = 'Like what you see? Visit the ' +\n",
              "            '<a target=\"_blank\" href=https://colab.research.google.com/notebooks/data_table.ipynb>data table notebook</a>'\n",
              "            + ' to learn more about interactive tables.';\n",
              "          element.innerHTML = '';\n",
              "          dataTable['output_type'] = 'display_data';\n",
              "          await google.colab.output.renderOutput(dataTable, element);\n",
              "          const docLink = document.createElement('div');\n",
              "          docLink.innerHTML = docLinkHtml;\n",
              "          element.appendChild(docLink);\n",
              "        }\n",
              "      </script>\n",
              "    </div>\n",
              "  </div>\n",
              "  "
            ]
          },
          "metadata": {},
          "execution_count": 109
        }
      ]
    },
    {
      "cell_type": "code",
      "source": [
        "#Model Training\n",
        "from sklearn.tree import DecisionTreeClassifier\n",
        "dt = DecisionTreeClassifier()\n",
        "\n"
      ],
      "metadata": {
        "id": "VHuaWWqaSmGG"
      },
      "execution_count": 110,
      "outputs": []
    },
    {
      "cell_type": "code",
      "source": [
        "dt.fit(X_train,Y_train)"
      ],
      "metadata": {
        "colab": {
          "base_uri": "https://localhost:8080/"
        },
        "id": "o591PtsaxnEn",
        "outputId": "0ac8cd9a-7af3-4a09-9cdd-7139b8a2df36"
      },
      "execution_count": 111,
      "outputs": [
        {
          "output_type": "execute_result",
          "data": {
            "text/plain": [
              "DecisionTreeClassifier()"
            ]
          },
          "metadata": {},
          "execution_count": 111
        }
      ]
    },
    {
      "cell_type": "code",
      "source": [
        "Y_test"
      ],
      "metadata": {
        "colab": {
          "base_uri": "https://localhost:8080/"
        },
        "id": "GTAZGBbBxrTV",
        "outputId": "0940ca68-5a7c-4187-946f-d5e6b80d834c"
      },
      "execution_count": 113,
      "outputs": [
        {
          "output_type": "execute_result",
          "data": {
            "text/plain": [
              "10629    0\n",
              "3587     1\n",
              "3525     1\n",
              "1334     0\n",
              "1558     1\n",
              "        ..\n",
              "2052     1\n",
              "11506    0\n",
              "5950     1\n",
              "8806     0\n",
              "824      0\n",
              "Name: Potability, Length: 2304, dtype: int64"
            ]
          },
          "metadata": {},
          "execution_count": 113
        }
      ]
    },
    {
      "cell_type": "code",
      "source": [
        "Y_prediction= dt.predict(X_test)"
      ],
      "metadata": {
        "id": "k0ZFwPrsxx0m"
      },
      "execution_count": 115,
      "outputs": []
    },
    {
      "cell_type": "code",
      "source": [
        "from sklearn.metrics import accuracy_score, confusion_matrix"
      ],
      "metadata": {
        "id": "fuDTn3LJ1aGy"
      },
      "execution_count": 117,
      "outputs": []
    },
    {
      "cell_type": "code",
      "source": [
        "accuracy_score(Y_prediction,Y_test)"
      ],
      "metadata": {
        "colab": {
          "base_uri": "https://localhost:8080/"
        },
        "id": "qj6KNaxB1quX",
        "outputId": "c4a064b3-0fe1-4595-f372-727804da7a09"
      },
      "execution_count": 119,
      "outputs": [
        {
          "output_type": "execute_result",
          "data": {
            "text/plain": [
              "0.4973958333333333"
            ]
          },
          "metadata": {},
          "execution_count": 119
        }
      ]
    },
    {
      "cell_type": "code",
      "source": [
        "confusion_matrix(Y_prediction,Y_test)"
      ],
      "metadata": {
        "colab": {
          "base_uri": "https://localhost:8080/"
        },
        "id": "sRkLVJTh1xjo",
        "outputId": "2023ba5e-4b49-4914-cbe6-35994ed2c0a1"
      },
      "execution_count": 121,
      "outputs": [
        {
          "output_type": "execute_result",
          "data": {
            "text/plain": [
              "array([[634, 673],\n",
              "       [485, 512]])"
            ]
          },
          "metadata": {},
          "execution_count": 121
        }
      ]
    },
    {
      "cell_type": "code",
      "source": [
        "Y_test.shape"
      ],
      "metadata": {
        "colab": {
          "base_uri": "https://localhost:8080/"
        },
        "id": "dL5wo-od2Tkh",
        "outputId": "da0c0f4d-f151-45a7-961f-cbc077581239"
      },
      "execution_count": 122,
      "outputs": [
        {
          "output_type": "execute_result",
          "data": {
            "text/plain": [
              "(2304,)"
            ]
          },
          "metadata": {},
          "execution_count": 122
        }
      ]
    },
    {
      "cell_type": "code",
      "source": [
        ""
      ],
      "metadata": {
        "id": "shKU2OaP67N5"
      },
      "execution_count": null,
      "outputs": []
    },
    {
      "cell_type": "markdown",
      "source": [
        "Model Optimization / Hyper Parameter tuning"
      ],
      "metadata": {
        "id": "Ck5cg_FD7db3"
      }
    },
    {
      "cell_type": "code",
      "source": [
        "from sklearn.model_selection import GridSearchCV\n",
        "from sklearn.model_selection import RepeatedStratifiedKFold\n",
        "\n",
        "dt=DecisionTreeClassifier()\n",
        "criterion = [\"gini\", \"entropy\"]"
      ],
      "metadata": {
        "id": "brOow8O27j21"
      },
      "execution_count": 140,
      "outputs": []
    },
    {
      "cell_type": "code",
      "source": [
        "splitter = ['best','random']"
      ],
      "metadata": {
        "id": "Ek4DHHIt8AOq"
      },
      "execution_count": 141,
      "outputs": []
    },
    {
      "cell_type": "code",
      "source": [
        "min_samples_split=range(1,10)"
      ],
      "metadata": {
        "id": "1c-cy1Ax8LF_"
      },
      "execution_count": 146,
      "outputs": []
    },
    {
      "cell_type": "code",
      "source": [
        "parameters = dict(criterion=criterion, splitter=splitter, min_samples_split=min_samples_split)"
      ],
      "metadata": {
        "id": "SNZCVeVb8Pyv"
      },
      "execution_count": 147,
      "outputs": []
    },
    {
      "cell_type": "code",
      "source": [
        "#crossvalidation\n",
        "cv= RepeatedStratifiedKFold(n_splits = 5, random_state = 101)\n",
        "grid_search_cv_dt= GridSearchCV(estimator=dt, param_grid=parameters, scoring='accuracy', cv=cv)"
      ],
      "metadata": {
        "id": "cqTbrALS8bqK"
      },
      "execution_count": 148,
      "outputs": []
    },
    {
      "cell_type": "code",
      "source": [
        "grid_search_cv_dt.fit(X_train, Y_train)"
      ],
      "metadata": {
        "colab": {
          "base_uri": "https://localhost:8080/"
        },
        "id": "MpJ8tDzt96jn",
        "outputId": "8979da23-70fd-4abe-e437-e6e6ea15f55c"
      },
      "execution_count": 149,
      "outputs": [
        {
          "output_type": "execute_result",
          "data": {
            "text/plain": [
              "GridSearchCV(cv=RepeatedStratifiedKFold(n_repeats=10, n_splits=5, random_state=101),\n",
              "             estimator=DecisionTreeClassifier(),\n",
              "             param_grid={'criterion': ['gini', 'entropy'],\n",
              "                         'min_samples_split': range(1, 10),\n",
              "                         'splitter': ['best', 'random']},\n",
              "             scoring='accuracy')"
            ]
          },
          "metadata": {},
          "execution_count": 149
        }
      ]
    },
    {
      "cell_type": "code",
      "source": [
        "print(grid_search_cv_dt.best_params_)"
      ],
      "metadata": {
        "colab": {
          "base_uri": "https://localhost:8080/"
        },
        "id": "hu_GCM_uAykG",
        "outputId": "e29bf072-6d0f-48c9-8d3e-70f334ea0170"
      },
      "execution_count": 150,
      "outputs": [
        {
          "output_type": "stream",
          "name": "stdout",
          "text": [
            "{'criterion': 'gini', 'min_samples_split': 5, 'splitter': 'best'}\n"
          ]
        }
      ]
    },
    {
      "cell_type": "code",
      "source": [
        "prediction_grid = grid_search_cv_dt.predict(X_test)"
      ],
      "metadata": {
        "id": "6WEdvlBY8lGF"
      },
      "execution_count": 151,
      "outputs": []
    },
    {
      "cell_type": "code",
      "source": [
        "accuracy_score(Y_test,prediction_grid) * 100 "
      ],
      "metadata": {
        "colab": {
          "base_uri": "https://localhost:8080/"
        },
        "id": "dmqDDvUpBH69",
        "outputId": "f19b7add-6520-4f23-eeb2-697b753e1d8a"
      },
      "execution_count": 155,
      "outputs": [
        {
          "output_type": "execute_result",
          "data": {
            "text/plain": [
              "50.260416666666664"
            ]
          },
          "metadata": {},
          "execution_count": 155
        }
      ]
    },
    {
      "cell_type": "markdown",
      "source": [
        "Accuracy increased"
      ],
      "metadata": {
        "id": "CiawsCeeBozQ"
      }
    },
    {
      "cell_type": "code",
      "source": [
        "confusion_matrix(Y_prediction,Y_test)"
      ],
      "metadata": {
        "colab": {
          "base_uri": "https://localhost:8080/"
        },
        "id": "GIgpBupFBOY2",
        "outputId": "0e1855e8-5068-44b3-b46f-eaf146f33eb0"
      },
      "execution_count": 156,
      "outputs": [
        {
          "output_type": "execute_result",
          "data": {
            "text/plain": [
              "array([[634, 673],\n",
              "       [485, 512]])"
            ]
          },
          "metadata": {},
          "execution_count": 156
        }
      ]
    },
    {
      "cell_type": "code",
      "source": [
        ""
      ],
      "metadata": {
        "id": "5fpHRWo_DZTV"
      },
      "execution_count": null,
      "outputs": []
    }
  ]
}