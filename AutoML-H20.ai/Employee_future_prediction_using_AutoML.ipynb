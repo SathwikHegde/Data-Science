{
  "cells": [
    {
      "cell_type": "markdown",
      "metadata": {
        "id": "e9bV9shSjP3s"
      },
      "source": [
        "# About The Data\n",
        "HR departments of companies would want to predict how likely are their employees decide to leave the company. Using different paremeters like Education, Experience and salary we can identify the chances of them leaving or not. We will use this dataset to create a regression model  to predict the likelihood of them leaving the company and also analysing the data to create graphs and charts."
      ]
    },
    {
      "cell_type": "code",
      "execution_count": 828,
      "metadata": {
        "colab": {
          "base_uri": "https://localhost:8080/"
        },
        "id": "6fAraZL1AUCi",
        "outputId": "bd70d436-8d11-444a-848b-11ea7667ec43"
      },
      "outputs": [
        {
          "name": "stdout",
          "output_type": "stream",
          "text": [
            "Requirement already satisfied: requests in /usr/local/lib/python3.7/dist-packages (2.23.0)\n",
            "Requirement already satisfied: urllib3!=1.25.0,!=1.25.1,<1.26,>=1.21.1 in /usr/local/lib/python3.7/dist-packages (from requests) (1.24.3)\n",
            "Requirement already satisfied: idna<3,>=2.5 in /usr/local/lib/python3.7/dist-packages (from requests) (2.10)\n",
            "Requirement already satisfied: chardet<4,>=3.0.2 in /usr/local/lib/python3.7/dist-packages (from requests) (3.0.4)\n",
            "Requirement already satisfied: certifi>=2017.4.17 in /usr/local/lib/python3.7/dist-packages (from requests) (2021.10.8)\n",
            "Requirement already satisfied: colorama>=0.3.8 in /usr/local/lib/python3.7/dist-packages (0.4.4)\n",
            "Requirement already satisfied: future in /usr/local/lib/python3.7/dist-packages (0.16.0)\n",
            "Looking in links: http://h2o-release.s3.amazonaws.com/h2o/latest_stable_Py.html\n",
            "Requirement already satisfied: h2o in /usr/local/lib/python3.7/dist-packages (3.36.0.2)\n",
            "Requirement already satisfied: future in /usr/local/lib/python3.7/dist-packages (from h2o) (0.16.0)\n",
            "Requirement already satisfied: tabulate in /usr/local/lib/python3.7/dist-packages (from h2o) (0.8.9)\n",
            "Requirement already satisfied: requests in /usr/local/lib/python3.7/dist-packages (from h2o) (2.23.0)\n",
            "Requirement already satisfied: urllib3!=1.25.0,!=1.25.1,<1.26,>=1.21.1 in /usr/local/lib/python3.7/dist-packages (from requests->h2o) (1.24.3)\n",
            "Requirement already satisfied: idna<3,>=2.5 in /usr/local/lib/python3.7/dist-packages (from requests->h2o) (2.10)\n",
            "Requirement already satisfied: chardet<4,>=3.0.2 in /usr/local/lib/python3.7/dist-packages (from requests->h2o) (3.0.4)\n",
            "Requirement already satisfied: certifi>=2017.4.17 in /usr/local/lib/python3.7/dist-packages (from requests->h2o) (2021.10.8)\n"
          ]
        }
      ],
      "source": [
        "!pip install requests\n",
        "!pip install \"colorama>=0.3.8\"\n",
        "!pip install future\n",
        "!pip install -f http://h2o-release.s3.amazonaws.com/h2o/latest_stable_Py.html h2o"
      ]
    },
    {
      "cell_type": "code",
      "execution_count": 829,
      "metadata": {
        "id": "8yNxdwDL0pFF"
      },
      "outputs": [],
      "source": [
        "import h2o\n",
        "from h2o.automl import H2OAutoML\n",
        "import random, os, sys\n",
        "from datetime import datetime\n",
        "import pandas as pd\n",
        "import logging\n",
        "import csv\n",
        "import optparse\n",
        "import time\n",
        "import json\n",
        "from distutils.util import strtobool\n",
        "import psutil\n",
        "import numpy as np\n",
        "import matplotlib.pyplot as plt"
      ]
    },
    {
      "cell_type": "code",
      "execution_count": 830,
      "metadata": {
        "id": "qKaxu9Du051o"
      },
      "outputs": [],
      "source": [
        "min_mem_size=6 \n",
        "run_time=222"
      ]
    },
    {
      "cell_type": "code",
      "execution_count": 831,
      "metadata": {
        "colab": {
          "base_uri": "https://localhost:8080/"
        },
        "id": "TJ-yCQye082M",
        "outputId": "98194976-25f4-4241-947f-c72f8557dbc2"
      },
      "outputs": [
        {
          "name": "stdout",
          "output_type": "stream",
          "text": [
            "1\n"
          ]
        }
      ],
      "source": [
        "pct_memory=0.5\n",
        "virtual_memory=psutil.virtual_memory()\n",
        "min_mem_size=int(round(int(pct_memory*virtual_memory.available)/1073741824,0))\n",
        "print(min_mem_size)"
      ]
    },
    {
      "cell_type": "code",
      "execution_count": 832,
      "metadata": {
        "colab": {
          "base_uri": "https://localhost:8080/",
          "height": 547
        },
        "id": "GMJj6SWA0-sj",
        "outputId": "3155ec73-f410-49f4-db03-913d4c9e274b"
      },
      "outputs": [
        {
          "name": "stdout",
          "output_type": "stream",
          "text": [
            "Checking whether there is an H2O instance running at http://localhost:16727 ..... not found.\n",
            "Attempting to start a local H2O server...\n",
            "  Java Version: openjdk version \"11.0.13\" 2021-10-19; OpenJDK Runtime Environment (build 11.0.13+8-Ubuntu-0ubuntu1.18.04); OpenJDK 64-Bit Server VM (build 11.0.13+8-Ubuntu-0ubuntu1.18.04, mixed mode, sharing)\n",
            "  Starting server from /usr/local/lib/python3.7/dist-packages/h2o/backend/bin/h2o.jar\n",
            "  Ice root: /tmp/tmpf8bp_vw5\n",
            "  JVM stdout: /tmp/tmpf8bp_vw5/h2o_unknownUser_started_from_python.out\n",
            "  JVM stderr: /tmp/tmpf8bp_vw5/h2o_unknownUser_started_from_python.err\n",
            "  Server is running at http://127.0.0.1:16727\n",
            "Connecting to H2O server at http://127.0.0.1:16727 ... successful.\n"
          ]
        },
        {
          "data": {
            "text/html": [
              "<div style=\"overflow:auto\"><table style=\"width:50%\"><tr><td>H2O_cluster_uptime:</td>\n",
              "<td>04 secs</td></tr>\n",
              "<tr><td>H2O_cluster_timezone:</td>\n",
              "<td>Etc/UTC</td></tr>\n",
              "<tr><td>H2O_data_parsing_timezone:</td>\n",
              "<td>UTC</td></tr>\n",
              "<tr><td>H2O_cluster_version:</td>\n",
              "<td>3.36.0.2</td></tr>\n",
              "<tr><td>H2O_cluster_version_age:</td>\n",
              "<td>19 days </td></tr>\n",
              "<tr><td>H2O_cluster_name:</td>\n",
              "<td>H2O_from_python_unknownUser_8x6vd3</td></tr>\n",
              "<tr><td>H2O_cluster_total_nodes:</td>\n",
              "<td>1</td></tr>\n",
              "<tr><td>H2O_cluster_free_memory:</td>\n",
              "<td>3.172 Gb</td></tr>\n",
              "<tr><td>H2O_cluster_total_cores:</td>\n",
              "<td>2</td></tr>\n",
              "<tr><td>H2O_cluster_allowed_cores:</td>\n",
              "<td>2</td></tr>\n",
              "<tr><td>H2O_cluster_status:</td>\n",
              "<td>locked, healthy</td></tr>\n",
              "<tr><td>H2O_connection_url:</td>\n",
              "<td>http://127.0.0.1:16727</td></tr>\n",
              "<tr><td>H2O_connection_proxy:</td>\n",
              "<td>{\"http\": null, \"https\": null}</td></tr>\n",
              "<tr><td>H2O_internal_security:</td>\n",
              "<td>False</td></tr>\n",
              "<tr><td>H2O_API_Extensions:</td>\n",
              "<td>Amazon S3, XGBoost, Algos, Infogram, AutoML, Core V3, TargetEncoder, Core V4</td></tr>\n",
              "<tr><td>Python_version:</td>\n",
              "<td>3.7.12 final</td></tr></table></div>"
            ],
            "text/plain": [
              "--------------------------  ----------------------------------------------------------------------------\n",
              "H2O_cluster_uptime:         04 secs\n",
              "H2O_cluster_timezone:       Etc/UTC\n",
              "H2O_data_parsing_timezone:  UTC\n",
              "H2O_cluster_version:        3.36.0.2\n",
              "H2O_cluster_version_age:    19 days\n",
              "H2O_cluster_name:           H2O_from_python_unknownUser_8x6vd3\n",
              "H2O_cluster_total_nodes:    1\n",
              "H2O_cluster_free_memory:    3.172 Gb\n",
              "H2O_cluster_total_cores:    2\n",
              "H2O_cluster_allowed_cores:  2\n",
              "H2O_cluster_status:         locked, healthy\n",
              "H2O_connection_url:         http://127.0.0.1:16727\n",
              "H2O_connection_proxy:       {\"http\": null, \"https\": null}\n",
              "H2O_internal_security:      False\n",
              "H2O_API_Extensions:         Amazon S3, XGBoost, Algos, Infogram, AutoML, Core V3, TargetEncoder, Core V4\n",
              "Python_version:             3.7.12 final\n",
              "--------------------------  ----------------------------------------------------------------------------"
            ]
          },
          "metadata": {},
          "output_type": "display_data"
        }
      ],
      "source": [
        "# 65535 Highest port no\n",
        "# Start the H2O server on a random port\n",
        "port_no=random.randint(5555,55555)\n",
        "\n",
        "#  h2o.init(strict_version_check=False,min_mem_size_GB=min_mem_size,port=port_no) # start h2o\n",
        "try:\n",
        "  h2o.init(strict_version_check=False,min_mem_size_GB=min_mem_size,port=port_no) # start h2o\n",
        "except:\n",
        "  logging.critical('h2o.init')\n",
        "  h2o.download_all_logs(dirname=logs_path, filename=logfile)      \n",
        "  h2o.cluster().shutdown()\n",
        "  sys.exit(2)"
      ]
    },
    {
      "cell_type": "code",
      "execution_count": 833,
      "metadata": {
        "colab": {
          "base_uri": "https://localhost:8080/",
          "height": 389
        },
        "id": "Mly4Rz4L1Cx_",
        "outputId": "9fc85981-fa74-4a63-bfa1-7844ae933140"
      },
      "outputs": [
        {
          "name": "stdout",
          "output_type": "stream",
          "text": [
            "Checking whether there is an H2O instance running at http://localhost:54321 . connected.\n"
          ]
        },
        {
          "data": {
            "text/html": [
              "<div style=\"overflow:auto\"><table style=\"width:50%\"><tr><td>H2O_cluster_uptime:</td>\n",
              "<td>5 hours 2 mins</td></tr>\n",
              "<tr><td>H2O_cluster_timezone:</td>\n",
              "<td>Etc/UTC</td></tr>\n",
              "<tr><td>H2O_data_parsing_timezone:</td>\n",
              "<td>UTC</td></tr>\n",
              "<tr><td>H2O_cluster_version:</td>\n",
              "<td>3.36.0.2</td></tr>\n",
              "<tr><td>H2O_cluster_version_age:</td>\n",
              "<td>19 days </td></tr>\n",
              "<tr><td>H2O_cluster_name:</td>\n",
              "<td>H2O_from_python_unknownUser_1832rt</td></tr>\n",
              "<tr><td>H2O_cluster_total_nodes:</td>\n",
              "<td>1</td></tr>\n",
              "<tr><td>H2O_cluster_free_memory:</td>\n",
              "<td>2.564 Gb</td></tr>\n",
              "<tr><td>H2O_cluster_total_cores:</td>\n",
              "<td>2</td></tr>\n",
              "<tr><td>H2O_cluster_allowed_cores:</td>\n",
              "<td>2</td></tr>\n",
              "<tr><td>H2O_cluster_status:</td>\n",
              "<td>locked, healthy</td></tr>\n",
              "<tr><td>H2O_connection_url:</td>\n",
              "<td>http://localhost:54321</td></tr>\n",
              "<tr><td>H2O_connection_proxy:</td>\n",
              "<td>{\"http\": null, \"https\": null}</td></tr>\n",
              "<tr><td>H2O_internal_security:</td>\n",
              "<td>False</td></tr>\n",
              "<tr><td>H2O_API_Extensions:</td>\n",
              "<td>Amazon S3, XGBoost, Algos, Infogram, AutoML, Core V3, TargetEncoder, Core V4</td></tr>\n",
              "<tr><td>Python_version:</td>\n",
              "<td>3.7.12 final</td></tr></table></div>"
            ],
            "text/plain": [
              "--------------------------  ----------------------------------------------------------------------------\n",
              "H2O_cluster_uptime:         5 hours 2 mins\n",
              "H2O_cluster_timezone:       Etc/UTC\n",
              "H2O_data_parsing_timezone:  UTC\n",
              "H2O_cluster_version:        3.36.0.2\n",
              "H2O_cluster_version_age:    19 days\n",
              "H2O_cluster_name:           H2O_from_python_unknownUser_1832rt\n",
              "H2O_cluster_total_nodes:    1\n",
              "H2O_cluster_free_memory:    2.564 Gb\n",
              "H2O_cluster_total_cores:    2\n",
              "H2O_cluster_allowed_cores:  2\n",
              "H2O_cluster_status:         locked, healthy\n",
              "H2O_connection_url:         http://localhost:54321\n",
              "H2O_connection_proxy:       {\"http\": null, \"https\": null}\n",
              "H2O_internal_security:      False\n",
              "H2O_API_Extensions:         Amazon S3, XGBoost, Algos, Infogram, AutoML, Core V3, TargetEncoder, Core V4\n",
              "Python_version:             3.7.12 final\n",
              "--------------------------  ----------------------------------------------------------------------------"
            ]
          },
          "metadata": {},
          "output_type": "display_data"
        }
      ],
      "source": [
        "import h2o\n",
        "h2o.init()"
      ]
    },
    {
      "cell_type": "code",
      "execution_count": 834,
      "metadata": {
        "colab": {
          "base_uri": "https://localhost:8080/"
        },
        "id": "QntoFCxUPV3I",
        "outputId": "9aa23e55-7bfd-4a5a-861a-4ea8c30cfba3"
      },
      "outputs": [
        {
          "name": "stdout",
          "output_type": "stream",
          "text": [
            "Parse progress: |████████████████████████████████████████████████████████████████| (done) 100%\n"
          ]
        }
      ],
      "source": [
        "url = \"https://raw.githubusercontent.com/SathwikHegde/Data-Science/main/AutoML-H20.ai/Dataset/Datasets-Employee/Employee.csv\"\n",
        "df = h2o.import_file(path = url)"
      ]
    },
    {
      "cell_type": "code",
      "execution_count": 835,
      "metadata": {
        "colab": {
          "base_uri": "https://localhost:8080/",
          "height": 249
        },
        "id": "gawUupE9P8-o",
        "outputId": "2f294e79-ac89-42dd-ac03-b520b25f5b9b"
      },
      "outputs": [
        {
          "data": {
            "text/html": [
              "<table>\n",
              "<thead>\n",
              "<tr><th>Education  </th><th style=\"text-align: right;\">  JoiningYear</th><th>City     </th><th style=\"text-align: right;\">  PaymentTier</th><th style=\"text-align: right;\">  Age</th><th>Gender  </th><th>EverBenched  </th><th style=\"text-align: right;\">  ExperienceInCurrentDomain</th><th style=\"text-align: right;\">  LeaveOrNot</th><th style=\"text-align: right;\">  Churn</th></tr>\n",
              "</thead>\n",
              "<tbody>\n",
              "<tr><td>Bachelors  </td><td style=\"text-align: right;\">         2017</td><td>Bangalore</td><td style=\"text-align: right;\">            3</td><td style=\"text-align: right;\">   34</td><td>Male    </td><td>No           </td><td style=\"text-align: right;\">                          0</td><td style=\"text-align: right;\">           0</td><td style=\"text-align: right;\">    nan</td></tr>\n",
              "<tr><td>Bachelors  </td><td style=\"text-align: right;\">         2013</td><td>Pune     </td><td style=\"text-align: right;\">            1</td><td style=\"text-align: right;\">   28</td><td>Female  </td><td>No           </td><td style=\"text-align: right;\">                          3</td><td style=\"text-align: right;\">           1</td><td style=\"text-align: right;\">    nan</td></tr>\n",
              "<tr><td>Bachelors  </td><td style=\"text-align: right;\">         2014</td><td>New Delhi</td><td style=\"text-align: right;\">            3</td><td style=\"text-align: right;\">   38</td><td>Female  </td><td>No           </td><td style=\"text-align: right;\">                          2</td><td style=\"text-align: right;\">           0</td><td style=\"text-align: right;\">    nan</td></tr>\n",
              "<tr><td>Masters    </td><td style=\"text-align: right;\">         2016</td><td>Bangalore</td><td style=\"text-align: right;\">            3</td><td style=\"text-align: right;\">   27</td><td>Male    </td><td>No           </td><td style=\"text-align: right;\">                          5</td><td style=\"text-align: right;\">           1</td><td style=\"text-align: right;\">    nan</td></tr>\n",
              "<tr><td>Masters    </td><td style=\"text-align: right;\">         2017</td><td>Pune     </td><td style=\"text-align: right;\">            3</td><td style=\"text-align: right;\">   24</td><td>Male    </td><td>Yes          </td><td style=\"text-align: right;\">                          2</td><td style=\"text-align: right;\">           1</td><td style=\"text-align: right;\">    nan</td></tr>\n",
              "<tr><td>Bachelors  </td><td style=\"text-align: right;\">         2016</td><td>Bangalore</td><td style=\"text-align: right;\">            3</td><td style=\"text-align: right;\">   22</td><td>Male    </td><td>No           </td><td style=\"text-align: right;\">                          0</td><td style=\"text-align: right;\">           0</td><td style=\"text-align: right;\">    nan</td></tr>\n",
              "<tr><td>Bachelors  </td><td style=\"text-align: right;\">         2015</td><td>New Delhi</td><td style=\"text-align: right;\">            3</td><td style=\"text-align: right;\">   38</td><td>Male    </td><td>No           </td><td style=\"text-align: right;\">                          0</td><td style=\"text-align: right;\">           0</td><td style=\"text-align: right;\">    nan</td></tr>\n",
              "<tr><td>Bachelors  </td><td style=\"text-align: right;\">         2016</td><td>Bangalore</td><td style=\"text-align: right;\">            3</td><td style=\"text-align: right;\">   34</td><td>Female  </td><td>No           </td><td style=\"text-align: right;\">                          2</td><td style=\"text-align: right;\">           1</td><td style=\"text-align: right;\">    nan</td></tr>\n",
              "<tr><td>Bachelors  </td><td style=\"text-align: right;\">         2016</td><td>Pune     </td><td style=\"text-align: right;\">            3</td><td style=\"text-align: right;\">   23</td><td>Male    </td><td>No           </td><td style=\"text-align: right;\">                          1</td><td style=\"text-align: right;\">           0</td><td style=\"text-align: right;\">    nan</td></tr>\n",
              "<tr><td>Masters    </td><td style=\"text-align: right;\">         2017</td><td>New Delhi</td><td style=\"text-align: right;\">            2</td><td style=\"text-align: right;\">   37</td><td>Male    </td><td>No           </td><td style=\"text-align: right;\">                          2</td><td style=\"text-align: right;\">           0</td><td style=\"text-align: right;\">    nan</td></tr>\n",
              "</tbody>\n",
              "</table>"
            ]
          },
          "metadata": {},
          "output_type": "display_data"
        },
        {
          "data": {
            "text/plain": []
          },
          "execution_count": 835,
          "metadata": {},
          "output_type": "execute_result"
        }
      ],
      "source": [
        "df.head()"
      ]
    },
    {
      "cell_type": "code",
      "execution_count": 836,
      "metadata": {
        "colab": {
          "base_uri": "https://localhost:8080/"
        },
        "id": "TmQHpL9EP_OO",
        "outputId": "2a46d89e-9e16-4277-d5bd-ab8f8686034b"
      },
      "outputs": [
        {
          "data": {
            "text/plain": [
              "{'Age': 'int',\n",
              " 'Churn': 'int',\n",
              " 'City': 'enum',\n",
              " 'Education': 'enum',\n",
              " 'EverBenched': 'enum',\n",
              " 'ExperienceInCurrentDomain': 'int',\n",
              " 'Gender': 'enum',\n",
              " 'JoiningYear': 'int',\n",
              " 'LeaveOrNot': 'int',\n",
              " 'PaymentTier': 'int'}"
            ]
          },
          "execution_count": 836,
          "metadata": {},
          "output_type": "execute_result"
        }
      ],
      "source": [
        "df.types"
      ]
    },
    {
      "cell_type": "code",
      "execution_count": 837,
      "metadata": {
        "colab": {
          "base_uri": "https://localhost:8080/",
          "height": 465
        },
        "id": "JPRnLv9HQBAR",
        "outputId": "59f19fa0-76b2-4d8e-863f-c8610d89a4d0"
      },
      "outputs": [
        {
          "name": "stdout",
          "output_type": "stream",
          "text": [
            "Rows:4653\n",
            "Cols:10\n",
            "\n",
            "\n"
          ]
        },
        {
          "data": {
            "text/html": [
              "<table>\n",
              "<thead>\n",
              "<tr><th>       </th><th>Education  </th><th>JoiningYear       </th><th>City     </th><th>PaymentTier       </th><th>Age               </th><th>Gender  </th><th>EverBenched  </th><th>ExperienceInCurrentDomain  </th><th>LeaveOrNot         </th><th>Churn  </th></tr>\n",
              "</thead>\n",
              "<tbody>\n",
              "<tr><td>type   </td><td>enum       </td><td>int               </td><td>enum     </td><td>int               </td><td>int               </td><td>enum    </td><td>enum         </td><td>int                        </td><td>int                </td><td>int    </td></tr>\n",
              "<tr><td>mins   </td><td>           </td><td>2012.0            </td><td>         </td><td>1.0               </td><td>22.0              </td><td>        </td><td>             </td><td>0.0                        </td><td>0.0                </td><td>NaN    </td></tr>\n",
              "<tr><td>mean   </td><td>           </td><td>2015.0629701267999</td><td>         </td><td>2.6982591876208906</td><td>29.393294648613786</td><td>        </td><td>             </td><td>2.905652267354396          </td><td>0.3438641736514077 </td><td>0.0    </td></tr>\n",
              "<tr><td>maxs   </td><td>           </td><td>2018.0            </td><td>         </td><td>3.0               </td><td>41.0              </td><td>        </td><td>             </td><td>7.0                        </td><td>1.0                </td><td>NaN    </td></tr>\n",
              "<tr><td>sigma  </td><td>           </td><td>1.8633768286863306</td><td>         </td><td>0.5614354643364909</td><td>4.826087009126051 </td><td>        </td><td>             </td><td>1.5582403309268564         </td><td>0.47504747514881035</td><td>-0.0   </td></tr>\n",
              "<tr><td>zeros  </td><td>           </td><td>0                 </td><td>         </td><td>0                 </td><td>0                 </td><td>        </td><td>             </td><td>355                        </td><td>3053               </td><td>0      </td></tr>\n",
              "<tr><td>missing</td><td>0          </td><td>0                 </td><td>0        </td><td>0                 </td><td>0                 </td><td>0       </td><td>0            </td><td>0                          </td><td>0                  </td><td>4653   </td></tr>\n",
              "<tr><td>0      </td><td>Bachelors  </td><td>2017.0            </td><td>Bangalore</td><td>3.0               </td><td>34.0              </td><td>Male    </td><td>No           </td><td>0.0                        </td><td>0.0                </td><td>nan    </td></tr>\n",
              "<tr><td>1      </td><td>Bachelors  </td><td>2013.0            </td><td>Pune     </td><td>1.0               </td><td>28.0              </td><td>Female  </td><td>No           </td><td>3.0                        </td><td>1.0                </td><td>nan    </td></tr>\n",
              "<tr><td>2      </td><td>Bachelors  </td><td>2014.0            </td><td>New Delhi</td><td>3.0               </td><td>38.0              </td><td>Female  </td><td>No           </td><td>2.0                        </td><td>0.0                </td><td>nan    </td></tr>\n",
              "<tr><td>3      </td><td>Masters    </td><td>2016.0            </td><td>Bangalore</td><td>3.0               </td><td>27.0              </td><td>Male    </td><td>No           </td><td>5.0                        </td><td>1.0                </td><td>nan    </td></tr>\n",
              "<tr><td>4      </td><td>Masters    </td><td>2017.0            </td><td>Pune     </td><td>3.0               </td><td>24.0              </td><td>Male    </td><td>Yes          </td><td>2.0                        </td><td>1.0                </td><td>nan    </td></tr>\n",
              "<tr><td>5      </td><td>Bachelors  </td><td>2016.0            </td><td>Bangalore</td><td>3.0               </td><td>22.0              </td><td>Male    </td><td>No           </td><td>0.0                        </td><td>0.0                </td><td>nan    </td></tr>\n",
              "<tr><td>6      </td><td>Bachelors  </td><td>2015.0            </td><td>New Delhi</td><td>3.0               </td><td>38.0              </td><td>Male    </td><td>No           </td><td>0.0                        </td><td>0.0                </td><td>nan    </td></tr>\n",
              "<tr><td>7      </td><td>Bachelors  </td><td>2016.0            </td><td>Bangalore</td><td>3.0               </td><td>34.0              </td><td>Female  </td><td>No           </td><td>2.0                        </td><td>1.0                </td><td>nan    </td></tr>\n",
              "<tr><td>8      </td><td>Bachelors  </td><td>2016.0            </td><td>Pune     </td><td>3.0               </td><td>23.0              </td><td>Male    </td><td>No           </td><td>1.0                        </td><td>0.0                </td><td>nan    </td></tr>\n",
              "<tr><td>9      </td><td>Masters    </td><td>2017.0            </td><td>New Delhi</td><td>2.0               </td><td>37.0              </td><td>Male    </td><td>No           </td><td>2.0                        </td><td>0.0                </td><td>nan    </td></tr>\n",
              "</tbody>\n",
              "</table>"
            ]
          },
          "metadata": {},
          "output_type": "display_data"
        }
      ],
      "source": [
        "df.describe()"
      ]
    },
    {
      "cell_type": "code",
      "execution_count": 838,
      "metadata": {
        "colab": {
          "base_uri": "https://localhost:8080/"
        },
        "id": "yqgteIRxQdzK",
        "outputId": "5ddbfbd0-f532-4bb4-badd-afc888fa6fd1"
      },
      "outputs": [
        {
          "data": {
            "text/plain": [
              "(4653, 10)"
            ]
          },
          "execution_count": 838,
          "metadata": {},
          "output_type": "execute_result"
        }
      ],
      "source": [
        "df.shape"
      ]
    },
    {
      "cell_type": "code",
      "execution_count": 839,
      "metadata": {
        "id": "al4Yp1zJQf5f"
      },
      "outputs": [],
      "source": [
        "# Create a 80/20 train/test split\n",
        "pct_rows=0.80\n",
        "df_train, df_test = df.split_frame([pct_rows])"
      ]
    },
    {
      "cell_type": "code",
      "execution_count": 840,
      "metadata": {
        "colab": {
          "base_uri": "https://localhost:8080/"
        },
        "id": "_jM3j--TQh2-",
        "outputId": "0afe942e-a7ed-49d5-bf8b-e1b80522c3aa"
      },
      "outputs": [
        {
          "name": "stdout",
          "output_type": "stream",
          "text": [
            "(3751, 10)\n",
            "(902, 10)\n"
          ]
        }
      ],
      "source": [
        "print(df_train.shape)\n",
        "print(df_test.shape)"
      ]
    },
    {
      "cell_type": "code",
      "execution_count": 841,
      "metadata": {
        "colab": {
          "base_uri": "https://localhost:8080/",
          "height": 249
        },
        "id": "tk6LWs0lQnuy",
        "outputId": "c433d98d-9336-4954-ca42-24391aa971f8"
      },
      "outputs": [
        {
          "data": {
            "text/html": [
              "<table>\n",
              "<thead>\n",
              "<tr><th>Education  </th><th style=\"text-align: right;\">  JoiningYear</th><th>City     </th><th style=\"text-align: right;\">  PaymentTier</th><th style=\"text-align: right;\">  Age</th><th>Gender  </th><th>EverBenched  </th><th style=\"text-align: right;\">  ExperienceInCurrentDomain</th><th style=\"text-align: right;\">  LeaveOrNot</th><th style=\"text-align: right;\">  Churn</th></tr>\n",
              "</thead>\n",
              "<tbody>\n",
              "<tr><td>Bachelors  </td><td style=\"text-align: right;\">         2017</td><td>Bangalore</td><td style=\"text-align: right;\">            3</td><td style=\"text-align: right;\">   34</td><td>Male    </td><td>No           </td><td style=\"text-align: right;\">                          0</td><td style=\"text-align: right;\">           0</td><td style=\"text-align: right;\">    nan</td></tr>\n",
              "<tr><td>Masters    </td><td style=\"text-align: right;\">         2016</td><td>Bangalore</td><td style=\"text-align: right;\">            3</td><td style=\"text-align: right;\">   27</td><td>Male    </td><td>No           </td><td style=\"text-align: right;\">                          5</td><td style=\"text-align: right;\">           1</td><td style=\"text-align: right;\">    nan</td></tr>\n",
              "<tr><td>Masters    </td><td style=\"text-align: right;\">         2017</td><td>Pune     </td><td style=\"text-align: right;\">            3</td><td style=\"text-align: right;\">   24</td><td>Male    </td><td>Yes          </td><td style=\"text-align: right;\">                          2</td><td style=\"text-align: right;\">           1</td><td style=\"text-align: right;\">    nan</td></tr>\n",
              "<tr><td>Bachelors  </td><td style=\"text-align: right;\">         2016</td><td>Bangalore</td><td style=\"text-align: right;\">            3</td><td style=\"text-align: right;\">   22</td><td>Male    </td><td>No           </td><td style=\"text-align: right;\">                          0</td><td style=\"text-align: right;\">           0</td><td style=\"text-align: right;\">    nan</td></tr>\n",
              "<tr><td>Bachelors  </td><td style=\"text-align: right;\">         2015</td><td>New Delhi</td><td style=\"text-align: right;\">            3</td><td style=\"text-align: right;\">   38</td><td>Male    </td><td>No           </td><td style=\"text-align: right;\">                          0</td><td style=\"text-align: right;\">           0</td><td style=\"text-align: right;\">    nan</td></tr>\n",
              "<tr><td>Bachelors  </td><td style=\"text-align: right;\">         2016</td><td>Bangalore</td><td style=\"text-align: right;\">            3</td><td style=\"text-align: right;\">   34</td><td>Female  </td><td>No           </td><td style=\"text-align: right;\">                          2</td><td style=\"text-align: right;\">           1</td><td style=\"text-align: right;\">    nan</td></tr>\n",
              "<tr><td>Bachelors  </td><td style=\"text-align: right;\">         2016</td><td>Pune     </td><td style=\"text-align: right;\">            3</td><td style=\"text-align: right;\">   23</td><td>Male    </td><td>No           </td><td style=\"text-align: right;\">                          1</td><td style=\"text-align: right;\">           0</td><td style=\"text-align: right;\">    nan</td></tr>\n",
              "<tr><td>Masters    </td><td style=\"text-align: right;\">         2012</td><td>Bangalore</td><td style=\"text-align: right;\">            3</td><td style=\"text-align: right;\">   27</td><td>Male    </td><td>No           </td><td style=\"text-align: right;\">                          5</td><td style=\"text-align: right;\">           1</td><td style=\"text-align: right;\">    nan</td></tr>\n",
              "<tr><td>Bachelors  </td><td style=\"text-align: right;\">         2016</td><td>Pune     </td><td style=\"text-align: right;\">            3</td><td style=\"text-align: right;\">   34</td><td>Male    </td><td>No           </td><td style=\"text-align: right;\">                          3</td><td style=\"text-align: right;\">           0</td><td style=\"text-align: right;\">    nan</td></tr>\n",
              "<tr><td>Bachelors  </td><td style=\"text-align: right;\">         2016</td><td>Bangalore</td><td style=\"text-align: right;\">            3</td><td style=\"text-align: right;\">   39</td><td>Male    </td><td>No           </td><td style=\"text-align: right;\">                          2</td><td style=\"text-align: right;\">           0</td><td style=\"text-align: right;\">    nan</td></tr>\n",
              "</tbody>\n",
              "</table>"
            ]
          },
          "metadata": {},
          "output_type": "display_data"
        },
        {
          "data": {
            "text/plain": []
          },
          "execution_count": 841,
          "metadata": {},
          "output_type": "execute_result"
        }
      ],
      "source": [
        "df_train.head()"
      ]
    },
    {
      "cell_type": "code",
      "execution_count": 842,
      "metadata": {
        "colab": {
          "base_uri": "https://localhost:8080/"
        },
        "id": "JikjtjfjQptu",
        "outputId": "cd1edff8-b68c-4477-9058-64c2aca4ccdb"
      },
      "outputs": [
        {
          "name": "stdout",
          "output_type": "stream",
          "text": [
            "['Education', 'JoiningYear', 'City', 'PaymentTier', 'Age', 'Gender', 'EverBenched', 'ExperienceInCurrentDomain', 'LeaveOrNot', 'Churn']\n"
          ]
        }
      ],
      "source": [
        "# Set the features and target\n",
        "X=df.columns\n",
        "print(X)"
      ]
    },
    {
      "cell_type": "code",
      "execution_count": 843,
      "metadata": {
        "colab": {
          "base_uri": "https://localhost:8080/"
        },
        "id": "Bv8QAX-5FPIQ",
        "outputId": "3af19905-1f3d-476e-c628-258dc13aba25"
      },
      "outputs": [
        {
          "name": "stdout",
          "output_type": "stream",
          "text": [
            "['Education', 'JoiningYear', 'City', 'PaymentTier', 'Age', 'Gender', 'EverBenched', 'ExperienceInCurrentDomain', 'Churn']\n"
          ]
        }
      ],
      "source": [
        "# Set target and predictor variables\n",
        "# y ='churn'\n",
        "y_numeric ='LeaveOrNot'\n",
        "# X.remove(y) \n",
        "X.remove(y_numeric) \n",
        "print(X)"
      ]
    },
    {
      "cell_type": "code",
      "execution_count": 844,
      "metadata": {
        "id": "1b0x9FZach3_"
      },
      "outputs": [],
      "source": [
        "# Set up AutoML\n",
        "aml = H2OAutoML(max_runtime_secs=run_time, seed=1)"
      ]
    },
    {
      "cell_type": "code",
      "execution_count": 845,
      "metadata": {
        "colab": {
          "base_uri": "https://localhost:8080/"
        },
        "id": "NGtnDTsy2n68",
        "outputId": "ac073a5d-477a-4f4e-88ae-9b9d8a327918"
      },
      "outputs": [
        {
          "name": "stdout",
          "output_type": "stream",
          "text": [
            "AutoML progress: |\n",
            "02:53:40.979: _train param, Dropping bad and constant columns: [Churn]\n",
            "02:53:40.979: _response param, Response is numeric, so the regression model will be trained. However, the cardinality is equaled to two, so if you want to train a classification model, convert the response column to categorical before training.\n",
            "\n",
            "███\n",
            "02:53:50.3: _train param, Dropping bad and constant columns: [Churn]\n",
            "02:53:50.3: _response param, Response is numeric, so the regression model will be trained. However, the cardinality is equaled to two, so if you want to train a classification model, convert the response column to categorical before training.\n",
            "\n",
            "█\n",
            "02:53:52.12: _train param, Dropping bad and constant columns: [Churn]\n",
            "02:53:52.13: _response param, Response is numeric, so the regression model will be trained. However, the cardinality is equaled to two, so if you want to train a classification model, convert the response column to categorical before training.\n",
            "\n",
            "█\n",
            "02:53:57.15: _train param, Dropping unused columns: [Churn]\n",
            "02:53:57.15: _response param, Response is numeric, so the regression model will be trained. However, the cardinality is equaled to two, so if you want to train a classification model, convert the response column to categorical before training.\n",
            "\n",
            "\n",
            "02:53:58.22: _train param, Dropping bad and constant columns: [Churn]\n",
            "02:53:58.22: _response param, Response is numeric, so the regression model will be trained. However, the cardinality is equaled to two, so if you want to train a classification model, convert the response column to categorical before training.\n",
            "\n",
            "███\n",
            "02:54:06.76: _train param, Dropping bad and constant columns: [Churn]\n",
            "02:54:06.76: _response param, Response is numeric, so the regression model will be trained. However, the cardinality is equaled to two, so if you want to train a classification model, convert the response column to categorical before training.\n",
            "\n",
            "██\n",
            "02:54:13.80: _train param, Dropping bad and constant columns: [Churn]\n",
            "02:54:13.80: _response param, Response is numeric, so the regression model will be trained. However, the cardinality is equaled to two, so if you want to train a classification model, convert the response column to categorical before training.\n",
            "\n",
            "\n",
            "02:54:15.82: _train param, Dropping bad and constant columns: [Churn]\n",
            "02:54:15.82: _response param, Response is numeric, so the regression model will be trained. However, the cardinality is equaled to two, so if you want to train a classification model, convert the response column to categorical before training.\n",
            "\n",
            "█\n",
            "02:54:17.84: _train param, Dropping bad and constant columns: [Churn]\n",
            "02:54:17.84: _response param, Response is numeric, so the regression model will be trained. However, the cardinality is equaled to two, so if you want to train a classification model, convert the response column to categorical before training.\n",
            "\n",
            "█\n",
            "02:54:21.86: _train param, Dropping unused columns: [Churn]\n",
            "02:54:21.86: _response param, Response is numeric, so the regression model will be trained. However, the cardinality is equaled to two, so if you want to train a classification model, convert the response column to categorical before training.\n",
            "\n",
            "\n",
            "02:54:22.88: _train param, Dropping unused columns: [Churn]\n",
            "02:54:22.88: _response param, Response is numeric, so the regression model will be trained. However, the cardinality is equaled to two, so if you want to train a classification model, convert the response column to categorical before training.\n",
            "02:54:23.91: _train param, Dropping bad and constant columns: [Churn]\n",
            "02:54:23.91: _response param, Response is numeric, so the regression model will be trained. However, the cardinality is equaled to two, so if you want to train a classification model, convert the response column to categorical before training.\n",
            "\n",
            "█\n",
            "02:54:26.94: _train param, Dropping bad and constant columns: [Churn]\n",
            "02:54:26.94: _response param, Response is numeric, so the regression model will be trained. However, the cardinality is equaled to two, so if you want to train a classification model, convert the response column to categorical before training.\n",
            "\n",
            "█\n",
            "02:54:30.96: _train param, Dropping bad and constant columns: [Churn]\n",
            "02:54:30.96: _response param, Response is numeric, so the regression model will be trained. However, the cardinality is equaled to two, so if you want to train a classification model, convert the response column to categorical before training.\n",
            "\n",
            "█\n",
            "02:54:32.98: _train param, Dropping bad and constant columns: [Churn]\n",
            "02:54:32.98: _response param, Response is numeric, so the regression model will be trained. However, the cardinality is equaled to two, so if you want to train a classification model, convert the response column to categorical before training.\n",
            "\n",
            "\n",
            "02:54:34.101: _train param, Dropping unused columns: [Churn]\n",
            "02:54:34.101: _response param, Response is numeric, so the regression model will be trained. However, the cardinality is equaled to two, so if you want to train a classification model, convert the response column to categorical before training.\n",
            "\n",
            "█\n",
            "02:54:35.103: _train param, Dropping unused columns: [Churn]\n",
            "02:54:35.103: _response param, Response is numeric, so the regression model will be trained. However, the cardinality is equaled to two, so if you want to train a classification model, convert the response column to categorical before training.\n",
            "\n",
            "███████████████████████████████████████████\n",
            "02:57:11.447: _train param, Dropping unused columns: [Churn]\n",
            "02:57:11.447: _response param, Response is numeric, so the regression model will be trained. However, the cardinality is equaled to two, so if you want to train a classification model, convert the response column to categorical before training.\n",
            "\n",
            "█\n",
            "02:57:12.454: _train param, Dropping unused columns: [Churn]\n",
            "02:57:12.454: _response param, Response is numeric, so the regression model will be trained. However, the cardinality is equaled to two, so if you want to train a classification model, convert the response column to categorical before training.\n",
            "\n",
            "███| (done) 100%\n",
            "Model Details\n",
            "=============\n",
            "H2OStackedEnsembleEstimator :  Stacked Ensemble\n",
            "Model Key:  StackedEnsemble_BestOfFamily_4_AutoML_12_20220214_25340\n",
            "\n",
            "No model summary for this model\n",
            "\n",
            "ModelMetricsRegressionGLM: stackedensemble\n",
            "** Reported on train data. **\n",
            "\n",
            "MSE: 0.09377286254849322\n",
            "RMSE: 0.30622354995736895\n",
            "MAE: 0.209235968596574\n",
            "RMSLE: 0.21420900660229242\n",
            "R^2: 0.5854692353710236\n",
            "Mean Residual Deviance: 0.09377286254849322\n",
            "Null degrees of freedom: 3750\n",
            "Residual degrees of freedom: 3746\n",
            "Null deviance: 848.5305251932837\n",
            "Residual deviance: 351.7420074193981\n",
            "AIC: 1778.7108337805614\n",
            "\n",
            "ModelMetricsRegressionGLM: stackedensemble\n",
            "** Reported on cross-validation data. **\n",
            "\n",
            "MSE: 0.11406915670754776\n",
            "RMSE: 0.3377412570408711\n",
            "MAE: 0.23170572260700656\n",
            "RMSLE: 0.23749496242222215\n",
            "R^2: 0.4957477732312001\n",
            "Mean Residual Deviance: 0.11406915670754776\n",
            "Null degrees of freedom: 3750\n",
            "Residual degrees of freedom: 3747\n",
            "Null deviance: 849.4650820674015\n",
            "Residual deviance: 427.87340681001166\n",
            "AIC: 2511.6420129780195\n"
          ]
        },
        {
          "data": {
            "text/plain": []
          },
          "execution_count": 845,
          "metadata": {},
          "output_type": "execute_result"
        }
      ],
      "source": [
        "aml.train(x=X,y=y_numeric,training_frame=df_train) "
      ]
    },
    {
      "attachments": {},
      "cell_type": "markdown",
      "metadata": {
        "id": "TSPxhababg-V"
      },
      "source": [
        "# 1) Does the model make sense? \n",
        "Ans. In the below table we can see the mean_residual_deviance, rmse, mse, mae, rmsle to check the performance if the model.\n",
        "\n",
        "1) Root Mean square error (Rmse):  It is always positive, and a lower value indicates better performance. Ideal value would be 0 and our values are very close to 0.\n",
        "\n",
        "2) Mean square error (MSE):  is always positive and a value closer to 0 or a lower value is better. In our model our mse is just a little over 0, so our model is better.\n",
        "\n",
        "3) Mean absolute error (MAE): The value is near to 0 so we can say better performaance\n",
        "\n",
        "4) Root mean squared log error (RMSLE): The value is near to 0 so we can say better performaance"
      ]
    },
    {
      "cell_type": "code",
      "execution_count": 846,
      "metadata": {
        "colab": {
          "base_uri": "https://localhost:8080/",
          "height": 266
        },
        "id": "weIzb3kLcmR8",
        "outputId": "e4720cef-ec41-4e3a-9cef-1eb1067519d1"
      },
      "outputs": [
        {
          "data": {
            "text/html": [
              "<table>\n",
              "<thead>\n",
              "<tr><th>model_id                                               </th><th style=\"text-align: right;\">  mean_residual_deviance</th><th style=\"text-align: right;\">    rmse</th><th style=\"text-align: right;\">     mse</th><th style=\"text-align: right;\">     mae</th><th style=\"text-align: right;\">   rmsle</th></tr>\n",
              "</thead>\n",
              "<tbody>\n",
              "<tr><td>StackedEnsemble_BestOfFamily_4_AutoML_12_20220214_25340</td><td style=\"text-align: right;\">                0.114069</td><td style=\"text-align: right;\">0.337741</td><td style=\"text-align: right;\">0.114069</td><td style=\"text-align: right;\">0.231706</td><td style=\"text-align: right;\">0.237495</td></tr>\n",
              "<tr><td>StackedEnsemble_AllModels_3_AutoML_12_20220214_25340   </td><td style=\"text-align: right;\">                0.114237</td><td style=\"text-align: right;\">0.337989</td><td style=\"text-align: right;\">0.114237</td><td style=\"text-align: right;\">0.232045</td><td style=\"text-align: right;\">0.23762 </td></tr>\n",
              "<tr><td>GBM_grid_1_AutoML_12_20220214_25340_model_12           </td><td style=\"text-align: right;\">                0.11466 </td><td style=\"text-align: right;\">0.338615</td><td style=\"text-align: right;\">0.11466 </td><td style=\"text-align: right;\">0.232051</td><td style=\"text-align: right;\">0.238112</td></tr>\n",
              "<tr><td>StackedEnsemble_AllModels_2_AutoML_12_20220214_25340   </td><td style=\"text-align: right;\">                0.115659</td><td style=\"text-align: right;\">0.340087</td><td style=\"text-align: right;\">0.115659</td><td style=\"text-align: right;\">0.237423</td><td style=\"text-align: right;\">0.239192</td></tr>\n",
              "<tr><td>GBM_5_AutoML_12_20220214_25340                         </td><td style=\"text-align: right;\">                0.115866</td><td style=\"text-align: right;\">0.340391</td><td style=\"text-align: right;\">0.115866</td><td style=\"text-align: right;\">0.2431  </td><td style=\"text-align: right;\">0.239622</td></tr>\n",
              "<tr><td>StackedEnsemble_BestOfFamily_3_AutoML_12_20220214_25340</td><td style=\"text-align: right;\">                0.115954</td><td style=\"text-align: right;\">0.34052 </td><td style=\"text-align: right;\">0.115954</td><td style=\"text-align: right;\">0.237455</td><td style=\"text-align: right;\">0.239465</td></tr>\n",
              "<tr><td>XGBoost_grid_1_AutoML_12_20220214_25340_model_30       </td><td style=\"text-align: right;\">                0.11597 </td><td style=\"text-align: right;\">0.340544</td><td style=\"text-align: right;\">0.11597 </td><td style=\"text-align: right;\">0.238607</td><td style=\"text-align: right;\">0.23979 </td></tr>\n",
              "<tr><td>StackedEnsemble_AllModels_1_AutoML_12_20220214_25340   </td><td style=\"text-align: right;\">                0.116441</td><td style=\"text-align: right;\">0.341235</td><td style=\"text-align: right;\">0.116441</td><td style=\"text-align: right;\">0.238779</td><td style=\"text-align: right;\">0.240256</td></tr>\n",
              "<tr><td>StackedEnsemble_BestOfFamily_2_AutoML_12_20220214_25340</td><td style=\"text-align: right;\">                0.116732</td><td style=\"text-align: right;\">0.341661</td><td style=\"text-align: right;\">0.116732</td><td style=\"text-align: right;\">0.237724</td><td style=\"text-align: right;\">0.240898</td></tr>\n",
              "<tr><td>GBM_2_AutoML_12_20220214_25340                         </td><td style=\"text-align: right;\">                0.116793</td><td style=\"text-align: right;\">0.34175 </td><td style=\"text-align: right;\">0.116793</td><td style=\"text-align: right;\">0.242139</td><td style=\"text-align: right;\">0.240809</td></tr>\n",
              "</tbody>\n",
              "</table>"
            ]
          },
          "metadata": {},
          "output_type": "display_data"
        },
        {
          "name": "stdout",
          "output_type": "stream",
          "text": [
            "\n"
          ]
        }
      ],
      "source": [
        "print(aml.leaderboard)"
      ]
    },
    {
      "cell_type": "code",
      "execution_count": 847,
      "metadata": {
        "colab": {
          "base_uri": "https://localhost:8080/"
        },
        "id": "Csen5evwfzpI",
        "outputId": "1f05b66e-20af-434e-ff45-78c31d215f55"
      },
      "outputs": [
        {
          "data": {
            "text/plain": [
              "{'GBM_grid_1_AutoML_12_20220214_25340_model_12': 2,\n",
              " 'GLM_1_AutoML_12_20220214_25340': 75,\n",
              " 'StackedEnsemble_AllModels_3_AutoML_12_20220214_25340': 1,\n",
              " 'StackedEnsemble_BestOfFamily_4_AutoML_12_20220214_25340': 0}"
            ]
          },
          "execution_count": 847,
          "metadata": {},
          "output_type": "execute_result"
        }
      ],
      "source": [
        "model_index=0\n",
        "glm_index=0\n",
        "glm_model=''\n",
        "aml_leaderboard_df=aml.leaderboard.as_data_frame()\n",
        "models_dict={}\n",
        "for m in aml_leaderboard_df['model_id']:\n",
        "  models_dict[m]=model_index\n",
        "  if 'StackedEnsemble' not in m:\n",
        "    break \n",
        "  model_index=model_index+1  \n",
        "\n",
        "for m in aml_leaderboard_df['model_id']:\n",
        "  if 'GLM' in m:\n",
        "    models_dict[m]=glm_index\n",
        "    break  \n",
        "  glm_index=glm_index+1     \n",
        "models_dict"
      ]
    },
    {
      "cell_type": "code",
      "execution_count": 848,
      "metadata": {
        "colab": {
          "base_uri": "https://localhost:8080/"
        },
        "id": "EWHBDkzjf2pw",
        "outputId": "6427ab00-63bc-483c-c74d-4238ba428d21"
      },
      "outputs": [
        {
          "name": "stdout",
          "output_type": "stream",
          "text": [
            "2\n"
          ]
        }
      ],
      "source": [
        "print(model_index)\n",
        "best_model = h2o.get_model(aml.leaderboard[model_index,'model_id'])"
      ]
    },
    {
      "cell_type": "code",
      "execution_count": 849,
      "metadata": {
        "colab": {
          "base_uri": "https://localhost:8080/",
          "height": 35
        },
        "id": "IXdJIfOff58N",
        "outputId": "f1e4c319-1050-473d-c0e7-832ec662dfd1"
      },
      "outputs": [
        {
          "data": {
            "application/vnd.google.colaboratory.intrinsic+json": {
              "type": "string"
            },
            "text/plain": [
              "'gbm'"
            ]
          },
          "execution_count": 849,
          "metadata": {},
          "output_type": "execute_result"
        }
      ],
      "source": [
        "best_model.algo"
      ]
    },
    {
      "cell_type": "code",
      "execution_count": 850,
      "metadata": {
        "id": "avBOZgL5f7o9"
      },
      "outputs": [],
      "source": [
        "import matplotlib.pyplot as plt\n",
        "%matplotlib inline\n",
        "\n",
        "import warnings\n",
        "import matplotlib.cbook\n",
        "warnings.filterwarnings(\"ignore\", category = matplotlib.cbook.mplDeprecation)"
      ]
    },
    {
      "cell_type": "code",
      "execution_count": 851,
      "metadata": {
        "colab": {
          "base_uri": "https://localhost:8080/",
          "height": 630
        },
        "id": "OgAHVuCAf9t8",
        "outputId": "f03bea50-b0c6-48a0-b1db-d278b03087cc"
      },
      "outputs": [
        {
          "data": {
            "image/png": "[encoded data removed]",
            "text/plain": [
              "<Figure size 1008x720 with 1 Axes>"
            ]
          },
          "metadata": {
            "needs_background": "light"
          },
          "output_type": "display_data"
        },
        {
          "data": {
            "text/plain": [
              "<Figure size 432x288 with 0 Axes>"
            ]
          },
          "metadata": {},
          "output_type": "display_data"
        }
      ],
      "source": [
        "if best_model.algo in ['gbm','drf','xrt','xgboost']:\n",
        "  best_model.varimp_plot()"
      ]
    },
    {
      "attachments": {},
      "cell_type": "markdown",
      "metadata": {
        "id": "n8vpCPbDQKgm"
      },
      "source": [
        "# 2) In multivariate models, rank the most significant predictor variables and exclude insignificant ones from the model.\n",
        "Ans. The most significant variable is\n",
        "1) \"Joining Year\".\n",
        "2) Payment Tier\n",
        "3)City\n",
        "4) Education\n",
        "5) Gender\n",
        "6) Age\n",
        "7) Experience in Current Domain\n",
        "8) Ever Benched"
      ]
    },
    {
      "cell_type": "code",
      "execution_count": 852,
      "metadata": {
        "colab": {
          "base_uri": "https://localhost:8080/",
          "height": 646
        },
        "id": "qHWqYXxgf__H",
        "outputId": "350fca76-1aef-434c-c542-d3ff789f0026"
      },
      "outputs": [
        {
          "name": "stdout",
          "output_type": "stream",
          "text": [
            "75\n",
            "glm\n"
          ]
        },
        {
          "data": {
            "image/png": "[encoded data removed]",
            "text/plain": [
              "<Figure size 1008x720 with 1 Axes>"
            ]
          },
          "metadata": {
            "needs_background": "light"
          },
          "output_type": "display_data"
        }
      ],
      "source": [
        "if glm_index is not 0:\n",
        "  print(glm_index)\n",
        "  glm_model=h2o.get_model(aml.leaderboard[glm_index,'model_id'])\n",
        "  print(glm_model.algo) \n",
        "  glm_model.std_coef_plot()"
      ]
    },
    {
      "cell_type": "code",
      "execution_count": 853,
      "metadata": {
        "colab": {
          "base_uri": "https://localhost:8080/"
        },
        "id": "B3xdhF4cgCSw",
        "outputId": "2faece08-1606-467d-9837-ed7e5344d02e"
      },
      "outputs": [
        {
          "name": "stdout",
          "output_type": "stream",
          "text": [
            "0.3035634757266774\n"
          ]
        }
      ],
      "source": [
        "print(best_model.rmse(train = True))"
      ]
    },
    {
      "cell_type": "code",
      "execution_count": 854,
      "metadata": {
        "id": "3WQW8yrmgFCJ"
      },
      "outputs": [],
      "source": [
        "def model_performance_stats(perf):\n",
        "    d={}\n",
        "    try:    \n",
        "      d['mse']=perf.mse()\n",
        "    except:\n",
        "      pass      \n",
        "    try:    \n",
        "      d['rmse']=perf.rmse() \n",
        "    except:\n",
        "      pass      \n",
        "    try:    \n",
        "      d['null_degrees_of_freedom']=perf.null_degrees_of_freedom()\n",
        "    except:\n",
        "      pass      \n",
        "    try:    \n",
        "      d['residual_degrees_of_freedom']=perf.residual_degrees_of_freedom()\n",
        "    except:\n",
        "      pass      \n",
        "    try:    \n",
        "      d['residual_deviance']=perf.residual_deviance() \n",
        "    except:\n",
        "      pass      \n",
        "    try:    \n",
        "      d['null_deviance']=perf.null_deviance() \n",
        "    except:\n",
        "      pass      \n",
        "    try:    \n",
        "      d['aic']=perf.aic() \n",
        "    except:\n",
        "      pass      \n",
        "    try:\n",
        "      d['logloss']=perf.logloss() \n",
        "    except:\n",
        "      pass    \n",
        "    try:\n",
        "      d['auc']=perf.auc()\n",
        "    except:\n",
        "      pass  \n",
        "    try:\n",
        "      d['gini']=perf.gini()\n",
        "    except:\n",
        "      pass    \n",
        "    return d"
      ]
    },
    {
      "cell_type": "code",
      "execution_count": 855,
      "metadata": {
        "colab": {
          "base_uri": "https://localhost:8080/"
        },
        "id": "N0pDHbXigIU2",
        "outputId": "e0796dd0-ee8b-4310-c323-cad3a63fddc4"
      },
      "outputs": [
        {
          "data": {
            "text/plain": [
              "{'mse': 0.10516271131476491,\n",
              " 'null_degrees_of_freedom': None,\n",
              " 'null_deviance': None,\n",
              " 'residual_degrees_of_freedom': None,\n",
              " 'residual_deviance': None,\n",
              " 'rmse': 0.32428800673901725}"
            ]
          },
          "execution_count": 855,
          "metadata": {},
          "output_type": "execute_result"
        }
      ],
      "source": [
        "mod_perf=best_model.model_performance(df_test)\n",
        "stats_test={}\n",
        "stats_test=model_performance_stats(mod_perf)\n",
        "stats_test"
      ]
    },
    {
      "cell_type": "code",
      "execution_count": 856,
      "metadata": {
        "colab": {
          "base_uri": "https://localhost:8080/"
        },
        "id": "M-cGxKYDgKmY",
        "outputId": "9556d54f-0fc0-4fdc-cbdf-afba7ea9c06f"
      },
      "outputs": [
        {
          "name": "stdout",
          "output_type": "stream",
          "text": [
            "gbm prediction progress: |███████████████████████████████████████████████████████| (done) 100%\n"
          ]
        }
      ],
      "source": [
        "predictions = best_model.predict(df_test)"
      ]
    },
    {
      "cell_type": "code",
      "execution_count": 857,
      "metadata": {
        "colab": {
          "base_uri": "https://localhost:8080/",
          "height": 206
        },
        "id": "-Pou0TS6gNBd",
        "outputId": "33eaf5c6-2527-4a7d-af9c-0c0d0d8f0a95"
      },
      "outputs": [
        {
          "data": {
            "text/html": [
              "\n",
              "  <div id=\"df-2001f816-60cc-4f35-b18a-c7a9e8c485b2\">\n",
              "    <div class=\"colab-df-container\">\n",
              "      <div>\n",
              "<style scoped>\n",
              "    .dataframe tbody tr th:only-of-type {\n",
              "        vertical-align: middle;\n",
              "    }\n",
              "\n",
              "    .dataframe tbody tr th {\n",
              "        vertical-align: top;\n",
              "    }\n",
              "\n",
              "    .dataframe thead th {\n",
              "        text-align: right;\n",
              "    }\n",
              "</style>\n",
              "<table border=\"1\" class=\"dataframe\">\n",
              "  <thead>\n",
              "    <tr style=\"text-align: right;\">\n",
              "      <th></th>\n",
              "      <th>predict</th>\n",
              "    </tr>\n",
              "  </thead>\n",
              "  <tbody>\n",
              "    <tr>\n",
              "      <th>0</th>\n",
              "      <td>1.004875</td>\n",
              "    </tr>\n",
              "    <tr>\n",
              "      <th>1</th>\n",
              "      <td>0.211164</td>\n",
              "    </tr>\n",
              "    <tr>\n",
              "      <th>2</th>\n",
              "      <td>0.210290</td>\n",
              "    </tr>\n",
              "    <tr>\n",
              "      <th>3</th>\n",
              "      <td>0.979776</td>\n",
              "    </tr>\n",
              "    <tr>\n",
              "      <th>4</th>\n",
              "      <td>-0.002040</td>\n",
              "    </tr>\n",
              "  </tbody>\n",
              "</table>\n",
              "</div>\n",
              "      <button class=\"colab-df-convert\" onclick=\"convertToInteractive('df-2001f816-60cc-4f35-b18a-c7a9e8c485b2')\"\n",
              "              title=\"Convert this dataframe to an interactive table.\"\n",
              "              style=\"display:none;\">\n",
              "        \n",
              "  <svg xmlns=\"http://www.w3.org/2000/svg\" height=\"24px\"viewBox=\"0 0 24 24\"\n",
              "       width=\"24px\">\n",
              "    <path d=\"M0 0h24v24H0V0z\" fill=\"none\"/>\n",
              "    <path d=\"M18.56 5.44l.94 2.06.94-2.06 2.06-.94-2.06-.94-.94-2.06-.94 2.06-2.06.94zm-11 1L8.5 8.5l.94-2.06 2.06-.94-2.06-.94L8.5 2.5l-.94 2.06-2.06.94zm10 10l.94 2.06.94-2.06 2.06-.94-2.06-.94-.94-2.06-.94 2.06-2.06.94z\"/><path d=\"M17.41 7.96l-1.37-1.37c-.4-.4-.92-.59-1.43-.59-.52 0-1.04.2-1.43.59L10.3 9.45l-7.72 7.72c-.78.78-.78 2.05 0 2.83L4 21.41c.39.39.9.59 1.41.59.51 0 1.02-.2 1.41-.59l7.78-7.78 2.81-2.81c.8-.78.8-2.07 0-2.86zM5.41 20L4 18.59l7.72-7.72 1.47 1.35L5.41 20z\"/>\n",
              "  </svg>\n",
              "      </button>\n",
              "      \n",
              "  <style>\n",
              "    .colab-df-container {\n",
              "      display:flex;\n",
              "      flex-wrap:wrap;\n",
              "      gap: 12px;\n",
              "    }\n",
              "\n",
              "    .colab-df-convert {\n",
              "      background-color: #E8F0FE;\n",
              "      border: none;\n",
              "      border-radius: 50%;\n",
              "      cursor: pointer;\n",
              "      display: none;\n",
              "      fill: #1967D2;\n",
              "      height: 32px;\n",
              "      padding: 0 0 0 0;\n",
              "      width: 32px;\n",
              "    }\n",
              "\n",
              "    .colab-df-convert:hover {\n",
              "      background-color: #E2EBFA;\n",
              "      box-shadow: 0px 1px 2px rgba(60, 64, 67, 0.3), 0px 1px 3px 1px rgba(60, 64, 67, 0.15);\n",
              "      fill: #174EA6;\n",
              "    }\n",
              "\n",
              "    [theme=dark] .colab-df-convert {\n",
              "      background-color: #3B4455;\n",
              "      fill: #D2E3FC;\n",
              "    }\n",
              "\n",
              "    [theme=dark] .colab-df-convert:hover {\n",
              "      background-color: #434B5C;\n",
              "      box-shadow: 0px 1px 3px 1px rgba(0, 0, 0, 0.15);\n",
              "      filter: drop-shadow(0px 1px 2px rgba(0, 0, 0, 0.3));\n",
              "      fill: #FFFFFF;\n",
              "    }\n",
              "  </style>\n",
              "\n",
              "      <script>\n",
              "        const buttonEl =\n",
              "          document.querySelector('#df-2001f816-60cc-4f35-b18a-c7a9e8c485b2 button.colab-df-convert');\n",
              "        buttonEl.style.display =\n",
              "          google.colab.kernel.accessAllowed ? 'block' : 'none';\n",
              "\n",
              "        async function convertToInteractive(key) {\n",
              "          const element = document.querySelector('#df-2001f816-60cc-4f35-b18a-c7a9e8c485b2');\n",
              "          const dataTable =\n",
              "            await google.colab.kernel.invokeFunction('convertToInteractive',\n",
              "                                                     [key], {});\n",
              "          if (!dataTable) return;\n",
              "\n",
              "          const docLinkHtml = 'Like what you see? Visit the ' +\n",
              "            '<a target=\"_blank\" href=https://colab.research.google.com/notebooks/data_table.ipynb>data table notebook</a>'\n",
              "            + ' to learn more about interactive tables.';\n",
              "          element.innerHTML = '';\n",
              "          dataTable['output_type'] = 'display_data';\n",
              "          await google.colab.output.renderOutput(dataTable, element);\n",
              "          const docLink = document.createElement('div');\n",
              "          docLink.innerHTML = docLinkHtml;\n",
              "          element.appendChild(docLink);\n",
              "        }\n",
              "      </script>\n",
              "    </div>\n",
              "  </div>\n",
              "  "
            ],
            "text/plain": [
              "    predict\n",
              "0  1.004875\n",
              "1  0.211164\n",
              "2  0.210290\n",
              "3  0.979776\n",
              "4 -0.002040"
            ]
          },
          "execution_count": 857,
          "metadata": {},
          "output_type": "execute_result"
        }
      ],
      "source": [
        "y_pred=h2o.as_list(predictions)\n",
        "y_pred[0:5]"
      ]
    },
    {
      "cell_type": "code",
      "execution_count": 858,
      "metadata": {
        "colab": {
          "base_uri": "https://localhost:8080/",
          "height": 206
        },
        "id": "K7iDAuo7gOtD",
        "outputId": "f8847f62-201e-4e48-a5ac-6f345ba06a82"
      },
      "outputs": [
        {
          "data": {
            "text/html": [
              "\n",
              "  <div id=\"df-99b8bbd5-99b5-40c9-826e-114363f7cc82\">\n",
              "    <div class=\"colab-df-container\">\n",
              "      <div>\n",
              "<style scoped>\n",
              "    .dataframe tbody tr th:only-of-type {\n",
              "        vertical-align: middle;\n",
              "    }\n",
              "\n",
              "    .dataframe tbody tr th {\n",
              "        vertical-align: top;\n",
              "    }\n",
              "\n",
              "    .dataframe thead th {\n",
              "        text-align: right;\n",
              "    }\n",
              "</style>\n",
              "<table border=\"1\" class=\"dataframe\">\n",
              "  <thead>\n",
              "    <tr style=\"text-align: right;\">\n",
              "      <th></th>\n",
              "      <th>LeaveOrNot</th>\n",
              "    </tr>\n",
              "  </thead>\n",
              "  <tbody>\n",
              "    <tr>\n",
              "      <th>0</th>\n",
              "      <td>1</td>\n",
              "    </tr>\n",
              "    <tr>\n",
              "      <th>1</th>\n",
              "      <td>0</td>\n",
              "    </tr>\n",
              "    <tr>\n",
              "      <th>2</th>\n",
              "      <td>0</td>\n",
              "    </tr>\n",
              "    <tr>\n",
              "      <th>3</th>\n",
              "      <td>1</td>\n",
              "    </tr>\n",
              "    <tr>\n",
              "      <th>4</th>\n",
              "      <td>0</td>\n",
              "    </tr>\n",
              "  </tbody>\n",
              "</table>\n",
              "</div>\n",
              "      <button class=\"colab-df-convert\" onclick=\"convertToInteractive('df-99b8bbd5-99b5-40c9-826e-114363f7cc82')\"\n",
              "              title=\"Convert this dataframe to an interactive table.\"\n",
              "              style=\"display:none;\">\n",
              "        \n",
              "  <svg xmlns=\"http://www.w3.org/2000/svg\" height=\"24px\"viewBox=\"0 0 24 24\"\n",
              "       width=\"24px\">\n",
              "    <path d=\"M0 0h24v24H0V0z\" fill=\"none\"/>\n",
              "    <path d=\"M18.56 5.44l.94 2.06.94-2.06 2.06-.94-2.06-.94-.94-2.06-.94 2.06-2.06.94zm-11 1L8.5 8.5l.94-2.06 2.06-.94-2.06-.94L8.5 2.5l-.94 2.06-2.06.94zm10 10l.94 2.06.94-2.06 2.06-.94-2.06-.94-.94-2.06-.94 2.06-2.06.94z\"/><path d=\"M17.41 7.96l-1.37-1.37c-.4-.4-.92-.59-1.43-.59-.52 0-1.04.2-1.43.59L10.3 9.45l-7.72 7.72c-.78.78-.78 2.05 0 2.83L4 21.41c.39.39.9.59 1.41.59.51 0 1.02-.2 1.41-.59l7.78-7.78 2.81-2.81c.8-.78.8-2.07 0-2.86zM5.41 20L4 18.59l7.72-7.72 1.47 1.35L5.41 20z\"/>\n",
              "  </svg>\n",
              "      </button>\n",
              "      \n",
              "  <style>\n",
              "    .colab-df-container {\n",
              "      display:flex;\n",
              "      flex-wrap:wrap;\n",
              "      gap: 12px;\n",
              "    }\n",
              "\n",
              "    .colab-df-convert {\n",
              "      background-color: #E8F0FE;\n",
              "      border: none;\n",
              "      border-radius: 50%;\n",
              "      cursor: pointer;\n",
              "      display: none;\n",
              "      fill: #1967D2;\n",
              "      height: 32px;\n",
              "      padding: 0 0 0 0;\n",
              "      width: 32px;\n",
              "    }\n",
              "\n",
              "    .colab-df-convert:hover {\n",
              "      background-color: #E2EBFA;\n",
              "      box-shadow: 0px 1px 2px rgba(60, 64, 67, 0.3), 0px 1px 3px 1px rgba(60, 64, 67, 0.15);\n",
              "      fill: #174EA6;\n",
              "    }\n",
              "\n",
              "    [theme=dark] .colab-df-convert {\n",
              "      background-color: #3B4455;\n",
              "      fill: #D2E3FC;\n",
              "    }\n",
              "\n",
              "    [theme=dark] .colab-df-convert:hover {\n",
              "      background-color: #434B5C;\n",
              "      box-shadow: 0px 1px 3px 1px rgba(0, 0, 0, 0.15);\n",
              "      filter: drop-shadow(0px 1px 2px rgba(0, 0, 0, 0.3));\n",
              "      fill: #FFFFFF;\n",
              "    }\n",
              "  </style>\n",
              "\n",
              "      <script>\n",
              "        const buttonEl =\n",
              "          document.querySelector('#df-99b8bbd5-99b5-40c9-826e-114363f7cc82 button.colab-df-convert');\n",
              "        buttonEl.style.display =\n",
              "          google.colab.kernel.accessAllowed ? 'block' : 'none';\n",
              "\n",
              "        async function convertToInteractive(key) {\n",
              "          const element = document.querySelector('#df-99b8bbd5-99b5-40c9-826e-114363f7cc82');\n",
              "          const dataTable =\n",
              "            await google.colab.kernel.invokeFunction('convertToInteractive',\n",
              "                                                     [key], {});\n",
              "          if (!dataTable) return;\n",
              "\n",
              "          const docLinkHtml = 'Like what you see? Visit the ' +\n",
              "            '<a target=\"_blank\" href=https://colab.research.google.com/notebooks/data_table.ipynb>data table notebook</a>'\n",
              "            + ' to learn more about interactive tables.';\n",
              "          element.innerHTML = '';\n",
              "          dataTable['output_type'] = 'display_data';\n",
              "          await google.colab.output.renderOutput(dataTable, element);\n",
              "          const docLink = document.createElement('div');\n",
              "          docLink.innerHTML = docLinkHtml;\n",
              "          element.appendChild(docLink);\n",
              "        }\n",
              "      </script>\n",
              "    </div>\n",
              "  </div>\n",
              "  "
            ],
            "text/plain": [
              "   LeaveOrNot\n",
              "0           1\n",
              "1           0\n",
              "2           0\n",
              "3           1\n",
              "4           0"
            ]
          },
          "execution_count": 858,
          "metadata": {},
          "output_type": "execute_result"
        }
      ],
      "source": [
        "y_test=h2o.as_list(df_test[y_numeric])\n",
        "y_test[0:5]"
      ]
    },
    {
      "cell_type": "code",
      "execution_count": 859,
      "metadata": {
        "colab": {
          "base_uri": "https://localhost:8080/"
        },
        "id": "sG1euq8KgQO8",
        "outputId": "65ed60b4-e932-4f7e-92ae-cd59a6b0801f"
      },
      "outputs": [
        {
          "name": "stdout",
          "output_type": "stream",
          "text": [
            "['Education', 'JoiningYear', 'City', 'PaymentTier', 'Age', 'Gender', 'EverBenched', 'ExperienceInCurrentDomain', 'Churn']\n"
          ]
        }
      ],
      "source": [
        "print(X)"
      ]
    },
    {
      "cell_type": "code",
      "execution_count": 860,
      "metadata": {
        "colab": {
          "base_uri": "https://localhost:8080/",
          "height": 939
        },
        "id": "k1lvt-sKgSPd",
        "outputId": "5e05c8bf-3199-41ab-a2a4-f3d892931633"
      },
      "outputs": [
        {
          "name": "stdout",
          "output_type": "stream",
          "text": [
            "PartialDependencePlot progress: |████████████████████████████████████████████████| (done) 100%\n",
            "\n",
            "PartialDependence: Partial Dependence Plot of model GBM_grid_1_AutoML_12_20220214_25340_model_12 on column 'Education'.\n"
          ]
        },
        {
          "data": {
            "text/html": [
              "\n",
              "  <div id=\"df-86637f6a-5b70-4c40-974b-c9160d725351\">\n",
              "    <div class=\"colab-df-container\">\n",
              "      <div>\n",
              "<style scoped>\n",
              "    .dataframe tbody tr th:only-of-type {\n",
              "        vertical-align: middle;\n",
              "    }\n",
              "\n",
              "    .dataframe tbody tr th {\n",
              "        vertical-align: top;\n",
              "    }\n",
              "\n",
              "    .dataframe thead th {\n",
              "        text-align: right;\n",
              "    }\n",
              "</style>\n",
              "<table border=\"1\" class=\"dataframe\">\n",
              "  <thead>\n",
              "    <tr style=\"text-align: right;\">\n",
              "      <th></th>\n",
              "      <th>education</th>\n",
              "      <th>mean_response</th>\n",
              "      <th>stddev_response</th>\n",
              "      <th>std_error_mean_response</th>\n",
              "    </tr>\n",
              "  </thead>\n",
              "  <tbody>\n",
              "    <tr>\n",
              "      <th>0</th>\n",
              "      <td>Bachelors</td>\n",
              "      <td>0.320849</td>\n",
              "      <td>0.341500</td>\n",
              "      <td>0.005006</td>\n",
              "    </tr>\n",
              "    <tr>\n",
              "      <th>1</th>\n",
              "      <td>Masters</td>\n",
              "      <td>0.596086</td>\n",
              "      <td>0.268275</td>\n",
              "      <td>0.003933</td>\n",
              "    </tr>\n",
              "    <tr>\n",
              "      <th>2</th>\n",
              "      <td>PHD</td>\n",
              "      <td>0.227299</td>\n",
              "      <td>0.266848</td>\n",
              "      <td>0.003912</td>\n",
              "    </tr>\n",
              "  </tbody>\n",
              "</table>\n",
              "</div>\n",
              "      <button class=\"colab-df-convert\" onclick=\"convertToInteractive('df-86637f6a-5b70-4c40-974b-c9160d725351')\"\n",
              "              title=\"Convert this dataframe to an interactive table.\"\n",
              "              style=\"display:none;\">\n",
              "        \n",
              "  <svg xmlns=\"http://www.w3.org/2000/svg\" height=\"24px\"viewBox=\"0 0 24 24\"\n",
              "       width=\"24px\">\n",
              "    <path d=\"M0 0h24v24H0V0z\" fill=\"none\"/>\n",
              "    <path d=\"M18.56 5.44l.94 2.06.94-2.06 2.06-.94-2.06-.94-.94-2.06-.94 2.06-2.06.94zm-11 1L8.5 8.5l.94-2.06 2.06-.94-2.06-.94L8.5 2.5l-.94 2.06-2.06.94zm10 10l.94 2.06.94-2.06 2.06-.94-2.06-.94-.94-2.06-.94 2.06-2.06.94z\"/><path d=\"M17.41 7.96l-1.37-1.37c-.4-.4-.92-.59-1.43-.59-.52 0-1.04.2-1.43.59L10.3 9.45l-7.72 7.72c-.78.78-.78 2.05 0 2.83L4 21.41c.39.39.9.59 1.41.59.51 0 1.02-.2 1.41-.59l7.78-7.78 2.81-2.81c.8-.78.8-2.07 0-2.86zM5.41 20L4 18.59l7.72-7.72 1.47 1.35L5.41 20z\"/>\n",
              "  </svg>\n",
              "      </button>\n",
              "      \n",
              "  <style>\n",
              "    .colab-df-container {\n",
              "      display:flex;\n",
              "      flex-wrap:wrap;\n",
              "      gap: 12px;\n",
              "    }\n",
              "\n",
              "    .colab-df-convert {\n",
              "      background-color: #E8F0FE;\n",
              "      border: none;\n",
              "      border-radius: 50%;\n",
              "      cursor: pointer;\n",
              "      display: none;\n",
              "      fill: #1967D2;\n",
              "      height: 32px;\n",
              "      padding: 0 0 0 0;\n",
              "      width: 32px;\n",
              "    }\n",
              "\n",
              "    .colab-df-convert:hover {\n",
              "      background-color: #E2EBFA;\n",
              "      box-shadow: 0px 1px 2px rgba(60, 64, 67, 0.3), 0px 1px 3px 1px rgba(60, 64, 67, 0.15);\n",
              "      fill: #174EA6;\n",
              "    }\n",
              "\n",
              "    [theme=dark] .colab-df-convert {\n",
              "      background-color: #3B4455;\n",
              "      fill: #D2E3FC;\n",
              "    }\n",
              "\n",
              "    [theme=dark] .colab-df-convert:hover {\n",
              "      background-color: #434B5C;\n",
              "      box-shadow: 0px 1px 3px 1px rgba(0, 0, 0, 0.15);\n",
              "      filter: drop-shadow(0px 1px 2px rgba(0, 0, 0, 0.3));\n",
              "      fill: #FFFFFF;\n",
              "    }\n",
              "  </style>\n",
              "\n",
              "      <script>\n",
              "        const buttonEl =\n",
              "          document.querySelector('#df-86637f6a-5b70-4c40-974b-c9160d725351 button.colab-df-convert');\n",
              "        buttonEl.style.display =\n",
              "          google.colab.kernel.accessAllowed ? 'block' : 'none';\n",
              "\n",
              "        async function convertToInteractive(key) {\n",
              "          const element = document.querySelector('#df-86637f6a-5b70-4c40-974b-c9160d725351');\n",
              "          const dataTable =\n",
              "            await google.colab.kernel.invokeFunction('convertToInteractive',\n",
              "                                                     [key], {});\n",
              "          if (!dataTable) return;\n",
              "\n",
              "          const docLinkHtml = 'Like what you see? Visit the ' +\n",
              "            '<a target=\"_blank\" href=https://colab.research.google.com/notebooks/data_table.ipynb>data table notebook</a>'\n",
              "            + ' to learn more about interactive tables.';\n",
              "          element.innerHTML = '';\n",
              "          dataTable['output_type'] = 'display_data';\n",
              "          await google.colab.output.renderOutput(dataTable, element);\n",
              "          const docLink = document.createElement('div');\n",
              "          docLink.innerHTML = docLinkHtml;\n",
              "          element.appendChild(docLink);\n",
              "        }\n",
              "      </script>\n",
              "    </div>\n",
              "  </div>\n",
              "  "
            ],
            "text/plain": [
              "   education  mean_response  stddev_response  std_error_mean_response\n",
              "0  Bachelors       0.320849         0.341500                 0.005006\n",
              "1    Masters       0.596086         0.268275                 0.003933\n",
              "2        PHD       0.227299         0.266848                 0.003912"
            ]
          },
          "metadata": {},
          "output_type": "display_data"
        },
        {
          "data": {
            "text/plain": [
              "[]"
            ]
          },
          "execution_count": 860,
          "metadata": {},
          "output_type": "execute_result"
        },
        {
          "data": {
            "image/png": "[encoded data removed]",
            "text/plain": [
              "<Figure size 504x720 with 1 Axes>"
            ]
          },
          "metadata": {
            "needs_background": "light"
          },
          "output_type": "display_data"
        }
      ],
      "source": [
        "best_model.partial_plot(df, cols=['Education'])"
      ]
    },
    {
      "attachments": {},
      "cell_type": "markdown",
      "metadata": {
        "id": "lKORFyVnBkuE"
      },
      "source": [
        "# 2) Is the relationship significant? \n",
        "Ans.We will use One Sample T-test to identify the relationship significance, to find out the significance of our most significant variable joining year."
      ]
    },
    {
      "cell_type": "code",
      "execution_count": 894,
      "metadata": {
        "id": "vic1gV9OKaZl"
      },
      "outputs": [],
      "source": [
        "from scipy import stats\n",
        "from matplotlib import pyplot as plt\n",
        "import numpy as np\n",
        "import pandas as pd\n",
        "import math"
      ]
    },
    {
      "cell_type": "code",
      "execution_count": 895,
      "metadata": {
        "colab": {
          "base_uri": "https://localhost:8080/"
        },
        "id": "degfLrbJD4SI",
        "outputId": "cd83da04-6b00-47ce-efe8-5dd4e9149f69"
      },
      "outputs": [
        {
          "data": {
            "text/plain": [
              "[2015.0629701267999]"
            ]
          },
          "execution_count": 895,
          "metadata": {},
          "output_type": "execute_result"
        }
      ],
      "source": [
        "#Calculatin p-value for 1 independent variable \"Age\"\n",
        "df[\"JoiningYear\"].mean()"
      ]
    },
    {
      "cell_type": "code",
      "execution_count": 898,
      "metadata": {
        "colab": {
          "base_uri": "https://localhost:8080/"
        },
        "id": "8gHk-tRRFfeL",
        "outputId": "1a5ea05e-0751-4ae9-8943-e67e980c0b38"
      },
      "outputs": [
        {
          "name": "stdout",
          "output_type": "stream",
          "text": [
            "[2017, 2013, 2014, 2016, 2017, 2016, 2015, 2016, 2016, 2017, 2012, 2016, 2018, 2016, 2012, 2017, 2014, 2014, 2015, 2016, 2012, 2017, 2017, 2015, 2017, 2013, 2016, 2015, 2013, 2017, 2013, 2014, 2018, 2016, 2017, 2014, 2012, 2018, 2017, 2014, 2015, 2017, 2013, 2014, 2015, 2014, 2012, 2013, 2017, 2013, 2017, 2015, 2016, 2014, 2017, 2013, 2016, 2014, 2013, 2017, 2013, 2015, 2013, 2014, 2016, 2018, 2013, 2014, 2015, 2017, 2018, 2017, 2014, 2014, 2017, 2015, 2014, 2017, 2012, 2015, 2017, 2013, 2016, 2017, 2015, 2016, 2017, 2015, 2014, 2012, 2018, 2015, 2017, 2013, 2014, 2018, 2016, 2014, 2014, 2015, 2012, 2013, 2017, 2015, 2017, 2015, 2015, 2017, 2013, 2015, 2015, 2017, 2013, 2012, 2017, 2014, 2015, 2013, 2017, 2017, 2012, 2015, 2015, 2012, 2014, 2014, 2013, 2015, 2018, 2013, 2017, 2013, 2016, 2017, 2017, 2018, 2017, 2012, 2017, 2013, 2013, 2017, 2017, 2016, 2013, 2015, 2014, 2016, 2013, 2015, 2018, 2016, 2012, 2014, 2016, 2012, 2013, 2012, 2015, 2016, 2014, 2013, 2017, 2016, 2015, 2014, 2012, 2014, 2015, 2015, 2014, 2015, 2015, 2014, 2013, 2016, 2012, 2015, 2014, 2012, 2017, 2015, 2018, 2017, 2017, 2017, 2016, 2015, 2017, 2013, 2015, 2015, 2013, 2015, 2013, 2013, 2017, 2013, 2015, 2015, 2014, 2014, 2017, 2014, 2013, 2015, 2017, 2013, 2017, 2012, 2017, 2017, 2013, 2017, 2018, 2014, 2017, 2013, 2013, 2012, 2016, 2013, 2018, 2013, 2015, 2013, 2015, 2018, 2014, 2013, 2014, 2015, 2014, 2018, 2015, 2015, 2014, 2017, 2012, 2017, 2016, 2017, 2013, 2014, 2014, 2014, 2015, 2015, 2016, 2015, 2016, 2014, 2014, 2017, 2018, 2017, 2018, 2017, 2013, 2017, 2017, 2016, 2018, 2012, 2016, 2016, 2015, 2012, 2013, 2018, 2017, 2017, 2013, 2013, 2018, 2013, 2012, 2014, 2017, 2017, 2014, 2017, 2015, 2013, 2014, 2017, 2018, 2012, 2015, 2018, 2016, 2017, 2017, 2012, 2013, 2015, 2014, 2016, 2012, 2012, 2013, 2014, 2014, 2015, 2014, 2015, 2015, 2012, 2017, 2016, 2015, 2017, 2017, 2017, 2015, 2017, 2014, 2014, 2018, 2016, 2017, 2012, 2012, 2013, 2015, 2017, 2018, 2017, 2013, 2017, 2017, 2013, 2015, 2016, 2015, 2018, 2013, 2013, 2013, 2013, 2017, 2015, 2012, 2016, 2012, 2017, 2012, 2017, 2017, 2016, 2015, 2016, 2012, 2017, 2012, 2017, 2017, 2017, 2015, 2017, 2017, 2016, 2017, 2015, 2017, 2017, 2015, 2015, 2014, 2014, 2017, 2015, 2014, 2018, 2016, 2018, 2015, 2017, 2014, 2014, 2016, 2015, 2013, 2015, 2014, 2012, 2013, 2015, 2015, 2014, 2013, 2018, 2015, 2014, 2016, 2013, 2014, 2017, 2015, 2017, 2014, 2012, 2017, 2015, 2012, 2015, 2014, 2015, 2016, 2016, 2015, 2013, 2017, 2015, 2015, 2012, 2017, 2016, 2016, 2016, 2013, 2015, 2016, 2017, 2012, 2018, 2014, 2013, 2017, 2016, 2014, 2017, 2013, 2014, 2017, 2015, 2014, 2012, 2017, 2017, 2017, 2016, 2016, 2014, 2017, 2012, 2014, 2013, 2012, 2017, 2013, 2016, 2014, 2015, 2012, 2013, 2015, 2016, 2015, 2012, 2013, 2017, 2014, 2018, 2017, 2013, 2013, 2018, 2012, 2013, 2018, 2014, 2014, 2013, 2015, 2015, 2017, 2012, 2017, 2013, 2017, 2017, 2016, 2012, 2012, 2017, 2015, 2015, 2013, 2013, 2015, 2016, 2017, 2016, 2017, 2014, 2016, 2016, 2018, 2013, 2015, 2017, 2012, 2014, 2017, 2018, 2014, 2013, 2017, 2018, 2016, 2012, 2015, 2014, 2013, 2016, 2012, 2012, 2018, 2014, 2016, 2015, 2014, 2013, 2017, 2015, 2017, 2017, 2016, 2014, 2017, 2018, 2014, 2014, 2018, 2017, 2013, 2014, 2017, 2013, 2016, 2018, 2017, 2013, 2013, 2015, 2015, 2014, 2017, 2012, 2015, 2013, 2012, 2013, 2017, 2017, 2012, 2017, 2014, 2015, 2015, 2017, 2016, 2012, 2018, 2015, 2014, 2017, 2012, 2016, 2017, 2014, 2013, 2017, 2018, 2017, 2017, 2017, 2015, 2017, 2015, 2012, 2016, 2017, 2014, 2014, 2018, 2016, 2014, 2012, 2012, 2016, 2017, 2014, 2018, 2018, 2016, 2012, 2017, 2016, 2017, 2013, 2013, 2018, 2016, 2015, 2015, 2017, 2015, 2013, 2017, 2014, 2016, 2014, 2015, 2012, 2017, 2017, 2016, 2013, 2014, 2014, 2014, 2016, 2017, 2015, 2014, 2012, 2017, 2013, 2015, 2013, 2012, 2016, 2017, 2017, 2017, 2015, 2018, 2014, 2018, 2015, 2018, 2016, 2016, 2018, 2018, 2017, 2015, 2017, 2016, 2013, 2015, 2014, 2015, 2016, 2018, 2017, 2014, 2017, 2016, 2014, 2017, 2017, 2013, 2017, 2017, 2015, 2016, 2014, 2018, 2016, 2017, 2017, 2016, 2017, 2018, 2014, 2018, 2017, 2013, 2012, 2012, 2013, 2018, 2016, 2016, 2014, 2013, 2014, 2014, 2013, 2018, 2015, 2016, 2015, 2017, 2017, 2017, 2017, 2017, 2015, 2015, 2017, 2017, 2014, 2015, 2017, 2013, 2013, 2017, 2015, 2014, 2016, 2017, 2016, 2015, 2015, 2018, 2016, 2014, 2013, 2012, 2015, 2018, 2016, 2017, 2016, 2013, 2015, 2018, 2016, 2013, 2013, 2016, 2017, 2013, 2018, 2017, 2014, 2012, 2017, 2014, 2015, 2014, 2012, 2012, 2015, 2013, 2013, 2012, 2017, 2015, 2012, 2017, 2012, 2016, 2015, 2017, 2015, 2014, 2016, 2016, 2015, 2015, 2013, 2014, 2018, 2013, 2015, 2017, 2016, 2013, 2017, 2013, 2013, 2014, 2013, 2016, 2015, 2017, 2013, 2013, 2015, 2016, 2017, 2016, 2018, 2015, 2017, 2017, 2017, 2013, 2012, 2013, 2015, 2016, 2017, 2016, 2013, 2012, 2014, 2017, 2017, 2013, 2015, 2017, 2015, 2017, 2017, 2017, 2014, 2016, 2015, 2017, 2017, 2017, 2013, 2018, 2016, 2017, 2017, 2017, 2017, 2014, 2012, 2012, 2017, 2012, 2012, 2018, 2016, 2017, 2013, 2015, 2015, 2014, 2013, 2015, 2012, 2012, 2015, 2013, 2017, 2017, 2014, 2018, 2014, 2013, 2015, 2017, 2017, 2013, 2017, 2013, 2014, 2016, 2017, 2014, 2014, 2015, 2015, 2018, 2013, 2012, 2017, 2017, 2016, 2012, 2015, 2012, 2014, 2017, 2012, 2015, 2014, 2015, 2012, 2017, 2016, 2017, 2014, 2017, 2017, 2014, 2018, 2014, 2017, 2015, 2017, 2017, 2014, 2017, 2018, 2013, 2017, 2013, 2017, 2014, 2017, 2012, 2017, 2014, 2014, 2018, 2017, 2018, 2017, 2016, 2013, 2018, 2014, 2012, 2013, 2013, 2014, 2017, 2017, 2015, 2014, 2018, 2015, 2015, 2015, 2018, 2016, 2015, 2017, 2014, 2012, 2012, 2012, 2012, 2012, 2018, 2018, 2017, 2013, 2017, 2017, 2017, 2016, 2014, 2018, 2017, 2015, 2017, 2012, 2017, 2013, 2013, 2014, 2017, 2015, 2017, 2017, 2017, 2015, 2013, 2015, 2017, 2016, 2018, 2014, 2012, 2017, 2014, 2018, 2013, 2013, 2015, 2017, 2018, 2013, 2018, 2016, 2014, 2015, 2013, 2016, 2014, 2016, 2015, 2013, 2015, 2015, 2016, 2013, 2016, 2018, 2017, 2014, 2013, 2014, 2014, 2012, 2014, 2016, 2015, 2012, 2013, 2013, 2017, 2012, 2017, 2012, 2015, 2013, 2017, 2014, 2015, 2013, 2014, 2017, 2015, 2014, 2014, 2017, 2014, 2013, 2012, 2015, 2012, 2013, 2014, 2014, 2014, 2014, 2018, 2017, 2015, 2017, 2017, 2016, 2015, 2017, 2015, 2014, 2013, 2016, 2013, 2013, 2014, 2018, 2013, 2016, 2012, 2017, 2018, 2012, 2017, 2014, 2014, 2013, 2017, 2015, 2017, 2018, 2016, 2014, 2017, 2012, 2016, 2014, 2014, 2013, 2015, 2018, 2017, 2015, 2017, 2013, 2014, 2018, 2015, 2012, 2012, 2015, 2012, 2018, 2014, 2012, 2012, 2017, 2013, 2018, 2016, 2013, 2016, 2017, 2018, 2014, 2017, 2017, 2015, 2013, 2017, 2013, 2012, 2017, 2017, 2013, 2012, 2017, 2017, 2018, 2016, 2017, 2014, 2016, 2014, 2013, 2012, 2018, 2017, 2015, 2013, 2012, 2013, 2013, 2016, 2015, 2015, 2014, 2017, 2012, 2013, 2012, 2015, 2016, 2017, 2017, 2017, 2013, 2014, 2016, 2018, 2012, 2013, 2014, 2017, 2012, 2017, 2014, 2013, 2015, 2017, 2012, 2013, 2017, 2018, 2013, 2013, 2015, 2014, 2012, 2015, 2017, 2013, 2016, 2012, 2015, 2017, 2017, 2017, 2016, 2015, 2016, 2018, 2015, 2014, 2013, 2015, 2012, 2012, 2015, 2017, 2014, 2017, 2014, 2015, 2013, 2013, 2015, 2015, 2013, 2018, 2012, 2014, 2018, 2018, 2017, 2014, 2012, 2014, 2014, 2018, 2013, 2013, 2018, 2013, 2014, 2017, 2017, 2012, 2017, 2017, 2017, 2017, 2017, 2013, 2016, 2015, 2014, 2012, 2016, 2017, 2017, 2017, 2018, 2017, 2015, 2018, 2013, 2016, 2018, 2016, 2017, 2012, 2016, 2017, 2015, 2013, 2017, 2015, 2017, 2016, 2018, 2015, 2014, 2012, 2013, 2015, 2017, 2015, 2015, 2016, 2013, 2014, 2015, 2017, 2014, 2013, 2016, 2016, 2013, 2017, 2017, 2015, 2014, 2016, 2017, 2017, 2016, 2014, 2013, 2014, 2015, 2014, 2015, 2014, 2018, 2015, 2013, 2014, 2015, 2016, 2014, 2017, 2014, 2015, 2017, 2017, 2012, 2016, 2015, 2014, 2015, 2014, 2017, 2017, 2012, 2014, 2017, 2015, 2015, 2017, 2015, 2016, 2013, 2017, 2015, 2012, 2012, 2012, 2017, 2017, 2012, 2017, 2017, 2015, 2013, 2017, 2014, 2016, 2018, 2012, 2017, 2016, 2016, 2017, 2016, 2013, 2017, 2015, 2012, 2017, 2014, 2017, 2016, 2014, 2012, 2012, 2015, 2014, 2015, 2014, 2015, 2018, 2017, 2014, 2013, 2017, 2012, 2012, 2014, 2013, 2014, 2016, 2015, 2012, 2014, 2017, 2017, 2012, 2012, 2013, 2015, 2017, 2013, 2015, 2018, 2015, 2014, 2013, 2013, 2018, 2013, 2012, 2013, 2013, 2015, 2013, 2012, 2018, 2013, 2015, 2016, 2018, 2015, 2015, 2015, 2013, 2016, 2013, 2015, 2015, 2016, 2017, 2017, 2012, 2014, 2015, 2013, 2017, 2014, 2013, 2013, 2013, 2017, 2014, 2015, 2013, 2013, 2017, 2016, 2017, 2017, 2012, 2018, 2016, 2017, 2017, 2015, 2015, 2015, 2015, 2016, 2013, 2018, 2014, 2017, 2015, 2015, 2015, 2014, 2017, 2014, 2018, 2015, 2016, 2017, 2015, 2018, 2015, 2017, 2017, 2015, 2012, 2013, 2016, 2016, 2013, 2017, 2017, 2018, 2018, 2015, 2013, 2013, 2018, 2014, 2016, 2014, 2014, 2017, 2012, 2016, 2018, 2017, 2012, 2016, 2012, 2014, 2017, 2012, 2017, 2014, 2015, 2017, 2015, 2015, 2015, 2015, 2012, 2013, 2016, 2018, 2014, 2017, 2015, 2014, 2017, 2017, 2014, 2012, 2018, 2015, 2015, 2015, 2015, 2015, 2016, 2017, 2017, 2015, 2018, 2012, 2017, 2013, 2016, 2012, 2015, 2016, 2016, 2014, 2013, 2017, 2017, 2013, 2013, 2012, 2015, 2017, 2013, 2014, 2016, 2017, 2016, 2014, 2017, 2016, 2014, 2014, 2017, 2015, 2015, 2017, 2014, 2015, 2013, 2013, 2012, 2017, 2012, 2015, 2015, 2015, 2018, 2017, 2012, 2012, 2013, 2015, 2013, 2016, 2018, 2015, 2018, 2012, 2017, 2012, 2013, 2015, 2018, 2014, 2013, 2015, 2013, 2016, 2013, 2016, 2017, 2018, 2017, 2013, 2017, 2017, 2018, 2016, 2013, 2012, 2016, 2016, 2017, 2017, 2017, 2015, 2013, 2017, 2013, 2013, 2017, 2012, 2014, 2015, 2013, 2014, 2017, 2014, 2013, 2014, 2014, 2015, 2015, 2017, 2014, 2015, 2017, 2016, 2016, 2013, 2014, 2017, 2015, 2013, 2014, 2014, 2013, 2012, 2012, 2012, 2017, 2014, 2016, 2017, 2017, 2018, 2017, 2014, 2015, 2016, 2016, 2012, 2015, 2017, 2015, 2017, 2017, 2015, 2017, 2015, 2015, 2013, 2015, 2012, 2016, 2016, 2018, 2017, 2018, 2013, 2013, 2013, 2017, 2016, 2017, 2014, 2017, 2017, 2018, 2016, 2017, 2017, 2016, 2015, 2014, 2017, 2016, 2016, 2018, 2017, 2013, 2014, 2012, 2014, 2013, 2017, 2016, 2014, 2013, 2017, 2015, 2014, 2017, 2017, 2017, 2015, 2017, 2017, 2017, 2014, 2016, 2013, 2012, 2014, 2018, 2012, 2016, 2015, 2017, 2015, 2017, 2016, 2018, 2018, 2017, 2014, 2014, 2012, 2017, 2014, 2017, 2014, 2012, 2014, 2017, 2017, 2017, 2018, 2014, 2017, 2015, 2013, 2018, 2017, 2016, 2016, 2015, 2015, 2015, 2013, 2017, 2015, 2015, 2017, 2014, 2012, 2015, 2015, 2017, 2016, 2012, 2015, 2015, 2017, 2013, 2017, 2017, 2015, 2017, 2016, 2017, 2014, 2013, 2014, 2013, 2017, 2014, 2013, 2012, 2017, 2012, 2014, 2017, 2016, 2017, 2014, 2013, 2017, 2012, 2013, 2017, 2014, 2013, 2015, 2017, 2017, 2018, 2013, 2017, 2017, 2017, 2013, 2014, 2014, 2016, 2016, 2015, 2012, 2013, 2014, 2014, 2013, 2015, 2014, 2017, 2013, 2017, 2015, 2012, 2014, 2013, 2012, 2013, 2017, 2017, 2013, 2015, 2017, 2016, 2012, 2014, 2016, 2016, 2014, 2014, 2012, 2014, 2016, 2012, 2015, 2017, 2015, 2013, 2015, 2017, 2017, 2017, 2016, 2016, 2017, 2017, 2014, 2017, 2014, 2013, 2014, 2013, 2017, 2017, 2016, 2018, 2014, 2013, 2017, 2017, 2017, 2014, 2017, 2017, 2013, 2016, 2017, 2014, 2017, 2012, 2016, 2016, 2015, 2016, 2017, 2018, 2014, 2014, 2015, 2017, 2018, 2018, 2014, 2017, 2013, 2015, 2012, 2014, 2017, 2016, 2013, 2018, 2017, 2016, 2014, 2017, 2017, 2015, 2015, 2014, 2012, 2015, 2013, 2017, 2017, 2016, 2015, 2013, 2012, 2015, 2017, 2018, 2017, 2013, 2016, 2013, 2017, 2013, 2015, 2015, 2014, 2017, 2015, 2014, 2013, 2017, 2013, 2014, 2017, 2017, 2015, 2017, 2015, 2017, 2016, 2014, 2017, 2012, 2014, 2017, 2018, 2016, 2017, 2014, 2017, 2017, 2013, 2012, 2017, 2015, 2013, 2016, 2016, 2018, 2015, 2014, 2018, 2017, 2016, 2012, 2017, 2016, 2013, 2016, 2014, 2014, 2013, 2017, 2015, 2015, 2013, 2015, 2015, 2017, 2013, 2017, 2015, 2015, 2014, 2014, 2013, 2017, 2018, 2014, 2013, 2013, 2012, 2014, 2017, 2013, 2017, 2014, 2018, 2012, 2014, 2017, 2017, 2016, 2016, 2018, 2014, 2013, 2017, 2018, 2017, 2017, 2015, 2014, 2014, 2017, 2017, 2014, 2014, 2015, 2012, 2017, 2015, 2016, 2017, 2013, 2017, 2013, 2015, 2017, 2016, 2018, 2014, 2015, 2017, 2017, 2017, 2017, 2018, 2014, 2017, 2017, 2015, 2016, 2012, 2014, 2012, 2018, 2018, 2013, 2015, 2018, 2013, 2016, 2013, 2017, 2017, 2015, 2017, 2015, 2015, 2017, 2014, 2014, 2013, 2013, 2018, 2014, 2017, 2015, 2017, 2017, 2015, 2013, 2014, 2012, 2016, 2012, 2014, 2017, 2012, 2018, 2015, 2016, 2018, 2014, 2017, 2012, 2017, 2017, 2017, 2013, 2015, 2017, 2016, 2012, 2014, 2016, 2013, 2015, 2012, 2018, 2017, 2016, 2017, 2017, 2017, 2012, 2017, 2013, 2013, 2015, 2016, 2013, 2017, 2017, 2016, 2014, 2014, 2015, 2013, 2016, 2017, 2014, 2015, 2016, 2015, 2014, 2017, 2016, 2017, 2015, 2016, 2012, 2014, 2013, 2017, 2012, 2017, 2014, 2013, 2015, 2013, 2016, 2016, 2015, 2016, 2015, 2012, 2017, 2015, 2012, 2012, 2015, 2017, 2014, 2012, 2015, 2017, 2012, 2013, 2017, 2015, 2016, 2017, 2015, 2015, 2013, 2014, 2013, 2017, 2016, 2013, 2013, 2016, 2016, 2015, 2014, 2013, 2016, 2016, 2014, 2014, 2012, 2015, 2015, 2015, 2018, 2015, 2015, 2013, 2014, 2014, 2016, 2015, 2014, 2015, 2013, 2013, 2015, 2017, 2012, 2017, 2018, 2012, 2016, 2016, 2012, 2018, 2014, 2017, 2017, 2014, 2014, 2012, 2018, 2017, 2015, 2014, 2017, 2017, 2014, 2013, 2014, 2013, 2014, 2016, 2016, 2015, 2014, 2015, 2015, 2015, 2016, 2014, 2013, 2015, 2012, 2017, 2017, 2015, 2012, 2013, 2012, 2015, 2015, 2014, 2013, 2016, 2018, 2018, 2016, 2015, 2017, 2017, 2017, 2017, 2012, 2014, 2015, 2015, 2017, 2014, 2013, 2016, 2014, 2015, 2013, 2017, 2017, 2017, 2014, 2014, 2015, 2012, 2017, 2014, 2014, 2012, 2012, 2015, 2017, 2018, 2015, 2013, 2016, 2014, 2017, 2013, 2018, 2012, 2013, 2015, 2016, 2018, 2016, 2012, 2014, 2013, 2014, 2013, 2014, 2012, 2018, 2012, 2017, 2014, 2014, 2016, 2014, 2017, 2018, 2016, 2015, 2017, 2017, 2013, 2017, 2013, 2012, 2013, 2015, 2013, 2015, 2012, 2012, 2015, 2017, 2013, 2014, 2015, 2017, 2012, 2017, 2015, 2017, 2015, 2018, 2017, 2013, 2013, 2012, 2015, 2015, 2018, 2013, 2014, 2015, 2015, 2014, 2015, 2017, 2018, 2015, 2013, 2013, 2017, 2015, 2013, 2012, 2018, 2017, 2015, 2012, 2016, 2014, 2018, 2017, 2012, 2018, 2014, 2017, 2013, 2012, 2018, 2013, 2017, 2017, 2016, 2016, 2015, 2013, 2014, 2017, 2017, 2018, 2017, 2014, 2015, 2014, 2018, 2017, 2016, 2018, 2014, 2017, 2013, 2017, 2016, 2015, 2016, 2014, 2016, 2017, 2013, 2015, 2017, 2015, 2015, 2013, 2015, 2013, 2014, 2017, 2017, 2014, 2014, 2015, 2013, 2014, 2013, 2016, 2017, 2017, 2017, 2017, 2017, 2014, 2012, 2016, 2012, 2015, 2017, 2015, 2015, 2013, 2017, 2017, 2014, 2017, 2017, 2013, 2017, 2013, 2015, 2014, 2015, 2015, 2017, 2017, 2016, 2016, 2012, 2014, 2015, 2013, 2015, 2013, 2013, 2014, 2016, 2016, 2018, 2015, 2013, 2014, 2014, 2016, 2012, 2018, 2012, 2013, 2014, 2015, 2014, 2014, 2015, 2016, 2016, 2018, 2015, 2017, 2015, 2017, 2012, 2016, 2017, 2015, 2014, 2013, 2012, 2015, 2013, 2013, 2012, 2013, 2012, 2018, 2012, 2017, 2014, 2017, 2015, 2018, 2014, 2016, 2014, 2012, 2015, 2014, 2016, 2012, 2013, 2016, 2014, 2013, 2017, 2013, 2015, 2017, 2014, 2016, 2017, 2015, 2012, 2012, 2014, 2017, 2012, 2015, 2017, 2013, 2014, 2013, 2017, 2018, 2017, 2012, 2012, 2014, 2016, 2015, 2014, 2016, 2014, 2013, 2017, 2014, 2015, 2014, 2017, 2013, 2017, 2017, 2017, 2014, 2012, 2017, 2018, 2015, 2014, 2016, 2015, 2015, 2014, 2017, 2013, 2015, 2015, 2013, 2016, 2012, 2015, 2018, 2016, 2013, 2017, 2012, 2016, 2017, 2017, 2013, 2013, 2013, 2015, 2015, 2012, 2015, 2014, 2015, 2013, 2013, 2017, 2014, 2015, 2013, 2014, 2017, 2016, 2013, 2013, 2013, 2017, 2015, 2013, 2017, 2017, 2013, 2016, 2017, 2016, 2017, 2012, 2014, 2016, 2015, 2015, 2018, 2012, 2017, 2015, 2017, 2012, 2016, 2014, 2014, 2018, 2013, 2013, 2018, 2016, 2018, 2013, 2014, 2013, 2015, 2018, 2016, 2015, 2016, 2016, 2017, 2014, 2013, 2016, 2015, 2016, 2017, 2015, 2012, 2017, 2018, 2018, 2012, 2015, 2017, 2018, 2016, 2014, 2014, 2014, 2017, 2013, 2015, 2012, 2014, 2013, 2017, 2012, 2015, 2017, 2013, 2017, 2017, 2014, 2012, 2013, 2012, 2017, 2015, 2013, 2018, 2015, 2015, 2015, 2012, 2012, 2015, 2016, 2013, 2013, 2014, 2017, 2013, 2017, 2013, 2012, 2013, 2015, 2014, 2015, 2017, 2013, 2012, 2014, 2018, 2012, 2017, 2014, 2014, 2015, 2014, 2013, 2013, 2016, 2017, 2018, 2014, 2017, 2018, 2017, 2013, 2015, 2012, 2016, 2017, 2017, 2014, 2017, 2014, 2017, 2016, 2015, 2015, 2013, 2015, 2017, 2017, 2013, 2018, 2013, 2017, 2015, 2012, 2018, 2012, 2017, 2015, 2014, 2017, 2015, 2017, 2016, 2013, 2012, 2018, 2016, 2015, 2018, 2012, 2014, 2012, 2014, 2012, 2015, 2016, 2018, 2014, 2015, 2018, 2014, 2017, 2017, 2014, 2017, 2017, 2012, 2017, 2017, 2014, 2018, 2013, 2016, 2016, 2017, 2015, 2013, 2015, 2017, 2018, 2018, 2013, 2017, 2016, 2013, 2014, 2015, 2013, 2016, 2012, 2017, 2013, 2014, 2013, 2016, 2016, 2017, 2014, 2018, 2014, 2017, 2016, 2017, 2013, 2014, 2013, 2017, 2016, 2013, 2013, 2016, 2015, 2012, 2013, 2018, 2018, 2017, 2013, 2012, 2017, 2017, 2013, 2012, 2014, 2015, 2014, 2018, 2012, 2017, 2014, 2017, 2015, 2017, 2017, 2017, 2017, 2017, 2015, 2014, 2012, 2012, 2017, 2015, 2012, 2018, 2017, 2012, 2017, 2014, 2014, 2014, 2012, 2014, 2015, 2017, 2016, 2017, 2017, 2012, 2013, 2012, 2017, 2013, 2017, 2013, 2017, 2017, 2018, 2013, 2013, 2018, 2015, 2012, 2018, 2017, 2016, 2015, 2014, 2014, 2018, 2012, 2017, 2015, 2013, 2014, 2016, 2014, 2012, 2017, 2013, 2017, 2017, 2016, 2018, 2017, 2017, 2015, 2013, 2018, 2015, 2017, 2016, 2014, 2015, 2015, 2017, 2014, 2013, 2016, 2017, 2012, 2018, 2018, 2016, 2017, 2016, 2016, 2015, 2012, 2014, 2013, 2018, 2017, 2016, 2012, 2015, 2017, 2014, 2017, 2014, 2013, 2016, 2012, 2017, 2018, 2017, 2017, 2013, 2014, 2013, 2013, 2017, 2015, 2017, 2013, 2015, 2017, 2015, 2013, 2016, 2014, 2012, 2017, 2018, 2017, 2017, 2017, 2014, 2012, 2012, 2017, 2013, 2013, 2013, 2012, 2016, 2017, 2012, 2015, 2017, 2013, 2013, 2012, 2016, 2015, 2017, 2017, 2014, 2014, 2017, 2013, 2018, 2016, 2017, 2015, 2017, 2013, 2014, 2014, 2012, 2013, 2015, 2016, 2015, 2018, 2015, 2013, 2012, 2015, 2018, 2013, 2013, 2014, 2017, 2013, 2012, 2014, 2015, 2014, 2018, 2018, 2015, 2013, 2013, 2018, 2012, 2012, 2018, 2017, 2017, 2014, 2017, 2017, 2016, 2018, 2014, 2017, 2017, 2015, 2016, 2018, 2015, 2016, 2017, 2014, 2015, 2017, 2015, 2013, 2013, 2012, 2013, 2014, 2018, 2018, 2018, 2018, 2014, 2017, 2017, 2013, 2012, 2017, 2013, 2014, 2017, 2013, 2014, 2013, 2014, 2017, 2014, 2014, 2018, 2013, 2017, 2017, 2013, 2017, 2018, 2015, 2012, 2015, 2012, 2012, 2018, 2015, 2012, 2015, 2017, 2017, 2016, 2013, 2016, 2016, 2013, 2017, 2014, 2016, 2014, 2016, 2017, 2017, 2015, 2017, 2017, 2015, 2018, 2012, 2018, 2017, 2015, 2018, 2012, 2015, 2016, 2017, 2015, 2012, 2012, 2015, 2016, 2017, 2015, 2012, 2012, 2017, 2014, 2018, 2015, 2014, 2015, 2017, 2014, 2017, 2015, 2015, 2013, 2015, 2017, 2015, 2016, 2014, 2016, 2015, 2016, 2017, 2015, 2015, 2018, 2017, 2015, 2015, 2012, 2013, 2014, 2013, 2014, 2015, 2013, 2017, 2012, 2014, 2016, 2017, 2016, 2014, 2014, 2017, 2017, 2017, 2012, 2015, 2014, 2017, 2014, 2017, 2017, 2012, 2012, 2016, 2012, 2013, 2015, 2013, 2017, 2016, 2016, 2014, 2014, 2017, 2015, 2017, 2012, 2014, 2015, 2013, 2013, 2014, 2017, 2012, 2015, 2013, 2016, 2017, 2017, 2017, 2017, 2014, 2014, 2016, 2015, 2017, 2016, 2013, 2014, 2017, 2015, 2017, 2017, 2014, 2014, 2017, 2013, 2017, 2017, 2015, 2012, 2017, 2015, 2017, 2015, 2013, 2013, 2015, 2014, 2015, 2015, 2013, 2012, 2018, 2012, 2013, 2015, 2017, 2017, 2014, 2012, 2018, 2017, 2012, 2013, 2014, 2017, 2012, 2013, 2012, 2015, 2014, 2015, 2012, 2016, 2014, 2015, 2017, 2015, 2016, 2017, 2016, 2017, 2015, 2014, 2012, 2017, 2014, 2018, 2012, 2017, 2015, 2018, 2016, 2018, 2012, 2017, 2015, 2014, 2016, 2017, 2015, 2017, 2018, 2012, 2012, 2016, 2013, 2017, 2018, 2014, 2015, 2017, 2017, 2012, 2012, 2013, 2013, 2013, 2018, 2017, 2017, 2012, 2015, 2014, 2017, 2018, 2013, 2012, 2014, 2017, 2012, 2013, 2012, 2014, 2018, 2017, 2015, 2012, 2017, 2013, 2015, 2013, 2016, 2016, 2012, 2017, 2017, 2013, 2012, 2015, 2018, 2014, 2012, 2014, 2016, 2017, 2015, 2012, 2013, 2013, 2013, 2017, 2014, 2017, 2013, 2017, 2014, 2017, 2016, 2016, 2017, 2014, 2014, 2012, 2018, 2018, 2016, 2014, 2015, 2014, 2014, 2017, 2014, 2017, 2015, 2014, 2012, 2012, 2017, 2014, 2017, 2012, 2017, 2017, 2012, 2014, 2016, 2017, 2018, 2018, 2018, 2014, 2017, 2018, 2016, 2017, 2016, 2016, 2013, 2017, 2015, 2017, 2017, 2014, 2014, 2013, 2015, 2015, 2013, 2013, 2012, 2016, 2015, 2017, 2013, 2017, 2017, 2013, 2015, 2015, 2017, 2012, 2017, 2015, 2014, 2013, 2013, 2017, 2013, 2018, 2016, 2018, 2017, 2016, 2014, 2016, 2015, 2013, 2013, 2017, 2015, 2017, 2015, 2014, 2017, 2016, 2017, 2012, 2013, 2017, 2013, 2012, 2013, 2013, 2015, 2013, 2012, 2017, 2016, 2017, 2012, 2018, 2017, 2017, 2013, 2013, 2017, 2015, 2014, 2016, 2012, 2015, 2017, 2013, 2013, 2014, 2013, 2012, 2015, 2014, 2014, 2013, 2014, 2015, 2014, 2017, 2015, 2014, 2017, 2016, 2017, 2014, 2016, 2013, 2015, 2017, 2017, 2017, 2018, 2016, 2016, 2015, 2017, 2018, 2015, 2012, 2017, 2013, 2013, 2013, 2014, 2017, 2013, 2017, 2013, 2014, 2017, 2016, 2014, 2017, 2017, 2016, 2015, 2016, 2015, 2017, 2017, 2012, 2017, 2018, 2016, 2017, 2015, 2015, 2016, 2017, 2015, 2013, 2015, 2014, 2013, 2013, 2017, 2016, 2013, 2015, 2015, 2012, 2012, 2015, 2017, 2017, 2013, 2013, 2017, 2012, 2017, 2015, 2017, 2015, 2017, 2017, 2012, 2014, 2013, 2013, 2016, 2018, 2018, 2012, 2014, 2012, 2018, 2016, 2016, 2014, 2014, 2018, 2017, 2015, 2017, 2017, 2017, 2017, 2015, 2014, 2015, 2018, 2015, 2013, 2014, 2017, 2014, 2012, 2015, 2014, 2013, 2017, 2016, 2014, 2017, 2017, 2018, 2016, 2017, 2013, 2018, 2014, 2015, 2015, 2017, 2016, 2015, 2014, 2017, 2017, 2018, 2017, 2016, 2013, 2016, 2015, 2012, 2014, 2015, 2017, 2012, 2014, 2015, 2017, 2015, 2013, 2015, 2017, 2017, 2016, 2014, 2013, 2017, 2016, 2013, 2015, 2014, 2015, 2013, 2015, 2014, 2015, 2014, 2014, 2016, 2018, 2017, 2017, 2014, 2017, 2013, 2014, 2012, 2014, 2015, 2013, 2015, 2012, 2017, 2017, 2017, 2016, 2017, 2018, 2012, 2015, 2017, 2016, 2017, 2018, 2015, 2017, 2014, 2015, 2016, 2015, 2016, 2018, 2017, 2017, 2016, 2017, 2013, 2018, 2017, 2015, 2016, 2013, 2017, 2018, 2014, 2013, 2014, 2012, 2012, 2015, 2016, 2017, 2016, 2012, 2014, 2012, 2014, 2013, 2017, 2016, 2014, 2013, 2013, 2018, 2017, 2016, 2015, 2017, 2017, 2018, 2017, 2017, 2017, 2015, 2016, 2018, 2018, 2015, 2015, 2013, 2012, 2014, 2015, 2017, 2015, 2017, 2017, 2017, 2015, 2017, 2018, 2013, 2015, 2017, 2017, 2015, 2015, 2012, 2015, 2015, 2014, 2018, 2018, 2015, 2015, 2017, 2017, 2015, 2012, 2015, 2015, 2017, 2015, 2017, 2012, 2016, 2017, 2017, 2016, 2016, 2012, 2015, 2015, 2017, 2012, 2015, 2016, 2015, 2012, 2017, 2017, 2017, 2013, 2016, 2014, 2017, 2017, 2014, 2012, 2013, 2015, 2015, 2016, 2016, 2012, 2016, 2017, 2016, 2013, 2017, 2012, 2015, 2014, 2016, 2017, 2015, 2017, 2017, 2014, 2018, 2018, 2018, 2014, 2012, 2017, 2016, 2012, 2018, 2016, 2014, 2016, 2016, 2015, 2015, 2016, 2016, 2013, 2017, 2016, 2017, 2014, 2013, 2017, 2014, 2016, 2012, 2015, 2013, 2015, 2012, 2013, 2016, 2014, 2015, 2017, 2013, 2012, 2013, 2018, 2016, 2013, 2014, 2015, 2016, 2015, 2017, 2017, 2015, 2015, 2014, 2016, 2016, 2015, 2017, 2014, 2016, 2017, 2014, 2017, 2016, 2015, 2012, 2016, 2017, 2017, 2014, 2017, 2016, 2014, 2015, 2015, 2017, 2014, 2014, 2017, 2017, 2013, 2015, 2012, 2016, 2014, 2017, 2016, 2012, 2015, 2015, 2018, 2017, 2015, 2015, 2018, 2018, 2015, 2017, 2014, 2013, 2017, 2017, 2014, 2018, 2017, 2013, 2014, 2015, 2013, 2015, 2013, 2017, 2017, 2017, 2013, 2016, 2018, 2013, 2014, 2014, 2017, 2017, 2012, 2016, 2014, 2015, 2013, 2012, 2015, 2014, 2012, 2016, 2016, 2013, 2012, 2017, 2015, 2017, 2018, 2018, 2017, 2013, 2015, 2015, 2012, 2012, 2012, 2015, 2017, 2017, 2017, 2018, 2015, 2017, 2014, 2017, 2012, 2015, 2017, 2017, 2017, 2017, 2017, 2017, 2015, 2017, 2014, 2012, 2012, 2013, 2015, 2014, 2016, 2014, 2016, 2012, 2013, 2016, 2013, 2012, 2017, 2016, 2016, 2016, 2014, 2016, 2016, 2014, 2012, 2013, 2012, 2017, 2017, 2014, 2014, 2017, 2016, 2013, 2014, 2018, 2017, 2012, 2017, 2018, 2013, 2012, 2013, 2014, 2015, 2014, 2013, 2016, 2015, 2018, 2017, 2018, 2012, 2017, 2016, 2017, 2014, 2013, 2012, 2012, 2012, 2015, 2016, 2015, 2014, 2014, 2015, 2017, 2012, 2018, 2013, 2018, 2017, 2017, 2018, 2016, 2017, 2012, 2018, 2012, 2017, 2016, 2013, 2012, 2016, 2012, 2017, 2017, 2014, 2012, 2017, 2014, 2017, 2018, 2016, 2018, 2016, 2018, 2018, 2017, 2013, 2012, 2017, 2016, 2014, 2017, 2013, 2014, 2014, 2017, 2014, 2017, 2013, 2017, 2012, 2014, 2018, 2017, 2012, 2018, 2015, 2015, 2013, 2017, 2016, 2012, 2017, 2012, 2013, 2015, 2015, 2015, 2015, 2017, 2015, 2017, 2017, 2013, 2014, 2013, 2014, 2018, 2013, 2017, 2012, 2018, 2013, 2016, 2013, 2015, 2014, 2015, 2018, 2013, 2012, 2018, 2012, 2014, 2018, 2012, 2018, 2018, 2012, 2016, 2013, 2013, 2015, 2012, 2012, 2017, 2018, 2018, 2013, 2018, 2015, 2014, 2017, 2013, 2015, 2015, 2014, 2015, 2018, 2013, 2017, 2015, 2014, 2012, 2014, 2015, 2017, 2017, 2018, 2013, 2016, 2015, 2012, 2013, 2017, 2016, 2015, 2013, 2015, 2014, 2017, 2017, 2014, 2015, 2015, 2015, 2014, 2015, 2017, 2016, 2015, 2018, 2014, 2012, 2012, 2013, 2016, 2015, 2013, 2017, 2013, 2016, 2014, 2015, 2015, 2014, 2017, 2016, 2016, 2018, 2013, 2013, 2015, 2017, 2017, 2016, 2014, 2017, 2016, 2014, 2015, 2014, 2014, 2016, 2012, 2017, 2012, 2017, 2015, 2018, 2015, 2016, 2014, 2012, 2012, 2012, 2013, 2012, 2013, 2017, 2016, 2012, 2012, 2018, 2014, 2012, 2017, 2013, 2012, 2017, 2014, 2015, 2016, 2013, 2017, 2015, 2012, 2017, 2017, 2014, 2016, 2015, 2012, 2016, 2014, 2017, 2015, 2015, 2017, 2016, 2012, 2013, 2017, 2014, 2013, 2012, 2015, 2015, 2017, 2013, 2013, 2013, 2012, 2017, 2014, 2015, 2014, 2017, 2016, 2014, 2012, 2013, 2013, 2014, 2018, 2017, 2016, 2014, 2017, 2016, 2012, 2013, 2017, 2016, 2014, 2015, 2013, 2015, 2015, 2014, 2013, 2012, 2013, 2017, 2015, 2012, 2013, 2017, 2013, 2015, 2018, 2015, 2017, 2015, 2016, 2017, 2014, 2017, 2013, 2014, 2013, 2016, 2013, 2018, 2012, 2017, 2017, 2013, 2015, 2014, 2015, 2016, 2018, 2015, 2017, 2016, 2012, 2018, 2015, 2013, 2018, 2014, 2012, 2015, 2015, 2018, 2014, 2018, 2012, 2014, 2015, 2014, 2014, 2012, 2014, 2014, 2015, 2016, 2017, 2015, 2018, 2015, 2018, 2015, 2014, 2016, 2014, 2012, 2013, 2012, 2015, 2017, 2014, 2012, 2014, 2017, 2015, 2018, 2014, 2017, 2017, 2012, 2014, 2017, 2016, 2017, 2014, 2015, 2016, 2015, 2013, 2017, 2018, 2016, 2014, 2015, 2016, 2012, 2013, 2017, 2012, 2015, 2013, 2017, 2016, 2018, 2013, 2012, 2014, 2014, 2014, 2017, 2014, 2016, 2015, 2017, 2017, 2014, 2014, 2012, 2015, 2012, 2018, 2015, 2012, 2017, 2014, 2014, 2014, 2016, 2013, 2017, 2013, 2013, 2018, 2017, 2017, 2014, 2015, 2014, 2016, 2017, 2015, 2017, 2017, 2017, 2014, 2012, 2017, 2015, 2013, 2014, 2013, 2017, 2017, 2016, 2016, 2017, 2015, 2013, 2015, 2016, 2013, 2014, 2017, 2012, 2016, 2018, 2012, 2014, 2016, 2017, 2014, 2016, 2013, 2013, 2015, 2012, 2014, 2013, 2018, 2012, 2016, 2013, 2017, 2012, 2015, 2016, 2014, 2017, 2014, 2017, 2014, 2012, 2015, 2017, 2016, 2017, 2015, 2012, 2014, 2015, 2017, 2014, 2012, 2018, 2013, 2014, 2014, 2018, 2016, 2017, 2017, 2018, 2012, 2013, 2015, 2017, 2014, 2017, 2017, 2014, 2018, 2013, 2017, 2013, 2013, 2015, 2018, 2012, 2018, 2014, 2015, 2017, 2013, 2015, 2013, 2017, 2017, 2018, 2015, 2013, 2013, 2013, 2017, 2015, 2013, 2012, 2015, 2017, 2014, 2015, 2018, 2013, 2015, 2012, 2017, 2017, 2014, 2012, 2015, 2016, 2015, 2013, 2014, 2016, 2016, 2013, 2017, 2015, 2015, 2017, 2017, 2012, 2012, 2014, 2017, 2015, 2013, 2015, 2015, 2014, 2014, 2017, 2016, 2015, 2013, 2015, 2017, 2017, 2015, 2014, 2017, 2017, 2017, 2014, 2017, 2014, 2015, 2016, 2014, 2013, 2017, 2014, 2013, 2016, 2018, 2017, 2016, 2015, 2014, 2014, 2014, 2013, 2015, 2017, 2015, 2013, 2017, 2013, 2014, 2018, 2012, 2018, 2013, 2017, 2016, 2015, 2014, 2015, 2017, 2015, 2014, 2015, 2014, 2015, 2014, 2012, 2014, 2016, 2013, 2015, 2012, 2017, 2016, 2015, 2015, 2017, 2013, 2017, 2013, 2016, 2012, 2013, 2017, 2012, 2018, 2018, 2016, 2016, 2014, 2014, 2018, 2013, 2017, 2015, 2016, 2012, 2013, 2015, 2017, 2013, 2016, 2013, 2013, 2018, 2012, 2015]\n"
          ]
        }
      ],
      "source": [
        "#convert list to 1d array\n",
        "ages=df[\"JoiningYear\"]\n",
        "pd=h2o.as_list(df)\n",
        "joining_year_arr=pd[\"JoiningYear\"].tolist()\n",
        "print(joining_year_arr)"
      ]
    },
    {
      "cell_type": "code",
      "execution_count": 899,
      "metadata": {
        "id": "0_bg1sTTO_dw"
      },
      "outputs": [],
      "source": [
        "#lets take sample\n",
        "sample_size=100\n",
        "sample_age = np.random.choice(joining_year_arr,sample_size)"
      ]
    },
    {
      "cell_type": "code",
      "execution_count": 900,
      "metadata": {
        "colab": {
          "base_uri": "https://localhost:8080/"
        },
        "id": "hqpPd5_3I1az",
        "outputId": "a2a0a567-5375-467e-c4a7-b2799ac61d56"
      },
      "outputs": [
        {
          "name": "stdout",
          "output_type": "stream",
          "text": [
            "0.0\n"
          ]
        }
      ],
      "source": [
        "ttest,p_value=stats.ttest_1samp(joining_year_arr,30)\n",
        "print(p_value)"
      ]
    },
    {
      "cell_type": "code",
      "execution_count": 901,
      "metadata": {
        "colab": {
          "base_uri": "https://localhost:8080/"
        },
        "id": "NxldAdYeUS36",
        "outputId": "2ea51494-0def-4011-be57-46694ca151df"
      },
      "outputs": [
        {
          "name": "stdout",
          "output_type": "stream",
          "text": [
            "we are rejecting the null hypothesis\n"
          ]
        }
      ],
      "source": [
        "if p_value < 0.05:  #alpha value is 0.05\n",
        "  print(\"we are rejecting the null hypothesis\")\n",
        "else:\n",
        "  print(\"we are accepting the null hypothesis\")"
      ]
    },
    {
      "cell_type": "code",
      "execution_count": 867,
      "metadata": {
        "id": "0Pec6cDzzGL7"
      },
      "outputs": [],
      "source": [
        "#Assigning variables to X and y\n",
        "df\n",
        "X = df.drop(['Churn'], axis=1)\n",
        "X = df[['JoiningYear','Education','City','Gender','EverBenched','PaymentTier', 'ExperienceInCurrentDomain','Age']]\n",
        "y = df['LeaveOrNot']\n",
        "X = h2o.as_list(X)\n",
        "y = h2o.as_list(y)"
      ]
    },
    {
      "cell_type": "code",
      "execution_count": 868,
      "metadata": {
        "colab": {
          "base_uri": "https://localhost:8080/",
          "height": 423
        },
        "id": "Z3ajjtkAYdBr",
        "outputId": "09a24119-1c54-4627-8d24-434e8660b1e7"
      },
      "outputs": [
        {
          "data": {
            "text/html": [
              "\n",
              "  <div id=\"df-f88f5dec-6ba8-4a6f-9dbf-6e5dbd0e1a82\">\n",
              "    <div class=\"colab-df-container\">\n",
              "      <div>\n",
              "<style scoped>\n",
              "    .dataframe tbody tr th:only-of-type {\n",
              "        vertical-align: middle;\n",
              "    }\n",
              "\n",
              "    .dataframe tbody tr th {\n",
              "        vertical-align: top;\n",
              "    }\n",
              "\n",
              "    .dataframe thead th {\n",
              "        text-align: right;\n",
              "    }\n",
              "</style>\n",
              "<table border=\"1\" class=\"dataframe\">\n",
              "  <thead>\n",
              "    <tr style=\"text-align: right;\">\n",
              "      <th></th>\n",
              "      <th>JoiningYear</th>\n",
              "      <th>Education</th>\n",
              "      <th>City</th>\n",
              "      <th>Gender</th>\n",
              "      <th>EverBenched</th>\n",
              "      <th>PaymentTier</th>\n",
              "      <th>ExperienceInCurrentDomain</th>\n",
              "      <th>Age</th>\n",
              "    </tr>\n",
              "  </thead>\n",
              "  <tbody>\n",
              "    <tr>\n",
              "      <th>0</th>\n",
              "      <td>5</td>\n",
              "      <td>0</td>\n",
              "      <td>0</td>\n",
              "      <td>1</td>\n",
              "      <td>0</td>\n",
              "      <td>3</td>\n",
              "      <td>0</td>\n",
              "      <td>34</td>\n",
              "    </tr>\n",
              "    <tr>\n",
              "      <th>1</th>\n",
              "      <td>1</td>\n",
              "      <td>0</td>\n",
              "      <td>2</td>\n",
              "      <td>0</td>\n",
              "      <td>0</td>\n",
              "      <td>1</td>\n",
              "      <td>3</td>\n",
              "      <td>28</td>\n",
              "    </tr>\n",
              "    <tr>\n",
              "      <th>2</th>\n",
              "      <td>2</td>\n",
              "      <td>0</td>\n",
              "      <td>1</td>\n",
              "      <td>0</td>\n",
              "      <td>0</td>\n",
              "      <td>3</td>\n",
              "      <td>2</td>\n",
              "      <td>38</td>\n",
              "    </tr>\n",
              "    <tr>\n",
              "      <th>3</th>\n",
              "      <td>4</td>\n",
              "      <td>1</td>\n",
              "      <td>0</td>\n",
              "      <td>1</td>\n",
              "      <td>0</td>\n",
              "      <td>3</td>\n",
              "      <td>5</td>\n",
              "      <td>27</td>\n",
              "    </tr>\n",
              "    <tr>\n",
              "      <th>4</th>\n",
              "      <td>5</td>\n",
              "      <td>1</td>\n",
              "      <td>2</td>\n",
              "      <td>1</td>\n",
              "      <td>1</td>\n",
              "      <td>3</td>\n",
              "      <td>2</td>\n",
              "      <td>24</td>\n",
              "    </tr>\n",
              "    <tr>\n",
              "      <th>...</th>\n",
              "      <td>...</td>\n",
              "      <td>...</td>\n",
              "      <td>...</td>\n",
              "      <td>...</td>\n",
              "      <td>...</td>\n",
              "      <td>...</td>\n",
              "      <td>...</td>\n",
              "      <td>...</td>\n",
              "    </tr>\n",
              "    <tr>\n",
              "      <th>4648</th>\n",
              "      <td>1</td>\n",
              "      <td>0</td>\n",
              "      <td>0</td>\n",
              "      <td>0</td>\n",
              "      <td>0</td>\n",
              "      <td>3</td>\n",
              "      <td>4</td>\n",
              "      <td>26</td>\n",
              "    </tr>\n",
              "    <tr>\n",
              "      <th>4649</th>\n",
              "      <td>1</td>\n",
              "      <td>1</td>\n",
              "      <td>2</td>\n",
              "      <td>1</td>\n",
              "      <td>0</td>\n",
              "      <td>2</td>\n",
              "      <td>2</td>\n",
              "      <td>37</td>\n",
              "    </tr>\n",
              "    <tr>\n",
              "      <th>4650</th>\n",
              "      <td>6</td>\n",
              "      <td>1</td>\n",
              "      <td>1</td>\n",
              "      <td>1</td>\n",
              "      <td>0</td>\n",
              "      <td>3</td>\n",
              "      <td>5</td>\n",
              "      <td>27</td>\n",
              "    </tr>\n",
              "    <tr>\n",
              "      <th>4651</th>\n",
              "      <td>0</td>\n",
              "      <td>0</td>\n",
              "      <td>0</td>\n",
              "      <td>1</td>\n",
              "      <td>1</td>\n",
              "      <td>3</td>\n",
              "      <td>2</td>\n",
              "      <td>30</td>\n",
              "    </tr>\n",
              "    <tr>\n",
              "      <th>4652</th>\n",
              "      <td>3</td>\n",
              "      <td>0</td>\n",
              "      <td>0</td>\n",
              "      <td>1</td>\n",
              "      <td>1</td>\n",
              "      <td>3</td>\n",
              "      <td>4</td>\n",
              "      <td>33</td>\n",
              "    </tr>\n",
              "  </tbody>\n",
              "</table>\n",
              "<p>4653 rows × 8 columns</p>\n",
              "</div>\n",
              "      <button class=\"colab-df-convert\" onclick=\"convertToInteractive('df-f88f5dec-6ba8-4a6f-9dbf-6e5dbd0e1a82')\"\n",
              "              title=\"Convert this dataframe to an interactive table.\"\n",
              "              style=\"display:none;\">\n",
              "        \n",
              "  <svg xmlns=\"http://www.w3.org/2000/svg\" height=\"24px\"viewBox=\"0 0 24 24\"\n",
              "       width=\"24px\">\n",
              "    <path d=\"M0 0h24v24H0V0z\" fill=\"none\"/>\n",
              "    <path d=\"M18.56 5.44l.94 2.06.94-2.06 2.06-.94-2.06-.94-.94-2.06-.94 2.06-2.06.94zm-11 1L8.5 8.5l.94-2.06 2.06-.94-2.06-.94L8.5 2.5l-.94 2.06-2.06.94zm10 10l.94 2.06.94-2.06 2.06-.94-2.06-.94-.94-2.06-.94 2.06-2.06.94z\"/><path d=\"M17.41 7.96l-1.37-1.37c-.4-.4-.92-.59-1.43-.59-.52 0-1.04.2-1.43.59L10.3 9.45l-7.72 7.72c-.78.78-.78 2.05 0 2.83L4 21.41c.39.39.9.59 1.41.59.51 0 1.02-.2 1.41-.59l7.78-7.78 2.81-2.81c.8-.78.8-2.07 0-2.86zM5.41 20L4 18.59l7.72-7.72 1.47 1.35L5.41 20z\"/>\n",
              "  </svg>\n",
              "      </button>\n",
              "      \n",
              "  <style>\n",
              "    .colab-df-container {\n",
              "      display:flex;\n",
              "      flex-wrap:wrap;\n",
              "      gap: 12px;\n",
              "    }\n",
              "\n",
              "    .colab-df-convert {\n",
              "      background-color: #E8F0FE;\n",
              "      border: none;\n",
              "      border-radius: 50%;\n",
              "      cursor: pointer;\n",
              "      display: none;\n",
              "      fill: #1967D2;\n",
              "      height: 32px;\n",
              "      padding: 0 0 0 0;\n",
              "      width: 32px;\n",
              "    }\n",
              "\n",
              "    .colab-df-convert:hover {\n",
              "      background-color: #E2EBFA;\n",
              "      box-shadow: 0px 1px 2px rgba(60, 64, 67, 0.3), 0px 1px 3px 1px rgba(60, 64, 67, 0.15);\n",
              "      fill: #174EA6;\n",
              "    }\n",
              "\n",
              "    [theme=dark] .colab-df-convert {\n",
              "      background-color: #3B4455;\n",
              "      fill: #D2E3FC;\n",
              "    }\n",
              "\n",
              "    [theme=dark] .colab-df-convert:hover {\n",
              "      background-color: #434B5C;\n",
              "      box-shadow: 0px 1px 3px 1px rgba(0, 0, 0, 0.15);\n",
              "      filter: drop-shadow(0px 1px 2px rgba(0, 0, 0, 0.3));\n",
              "      fill: #FFFFFF;\n",
              "    }\n",
              "  </style>\n",
              "\n",
              "      <script>\n",
              "        const buttonEl =\n",
              "          document.querySelector('#df-f88f5dec-6ba8-4a6f-9dbf-6e5dbd0e1a82 button.colab-df-convert');\n",
              "        buttonEl.style.display =\n",
              "          google.colab.kernel.accessAllowed ? 'block' : 'none';\n",
              "\n",
              "        async function convertToInteractive(key) {\n",
              "          const element = document.querySelector('#df-f88f5dec-6ba8-4a6f-9dbf-6e5dbd0e1a82');\n",
              "          const dataTable =\n",
              "            await google.colab.kernel.invokeFunction('convertToInteractive',\n",
              "                                                     [key], {});\n",
              "          if (!dataTable) return;\n",
              "\n",
              "          const docLinkHtml = 'Like what you see? Visit the ' +\n",
              "            '<a target=\"_blank\" href=https://colab.research.google.com/notebooks/data_table.ipynb>data table notebook</a>'\n",
              "            + ' to learn more about interactive tables.';\n",
              "          element.innerHTML = '';\n",
              "          dataTable['output_type'] = 'display_data';\n",
              "          await google.colab.output.renderOutput(dataTable, element);\n",
              "          const docLink = document.createElement('div');\n",
              "          docLink.innerHTML = docLinkHtml;\n",
              "          element.appendChild(docLink);\n",
              "        }\n",
              "      </script>\n",
              "    </div>\n",
              "  </div>\n",
              "  "
            ],
            "text/plain": [
              "      JoiningYear  Education  City  ...  PaymentTier  ExperienceInCurrentDomain  Age\n",
              "0               5          0     0  ...            3                          0   34\n",
              "1               1          0     2  ...            1                          3   28\n",
              "2               2          0     1  ...            3                          2   38\n",
              "3               4          1     0  ...            3                          5   27\n",
              "4               5          1     2  ...            3                          2   24\n",
              "...           ...        ...   ...  ...          ...                        ...  ...\n",
              "4648            1          0     0  ...            3                          4   26\n",
              "4649            1          1     2  ...            2                          2   37\n",
              "4650            6          1     1  ...            3                          5   27\n",
              "4651            0          0     0  ...            3                          2   30\n",
              "4652            3          0     0  ...            3                          4   33\n",
              "\n",
              "[4653 rows x 8 columns]"
            ]
          },
          "execution_count": 868,
          "metadata": {},
          "output_type": "execute_result"
        }
      ],
      "source": [
        "import statsmodels.api as sm\n",
        "#First we will convert the categorical values to numeric values\n",
        "from sklearn.preprocessing import LabelEncoder\n",
        "X['JoiningYear']  = LabelEncoder().fit_transform(X['JoiningYear'])\n",
        "X['Education']  = LabelEncoder().fit_transform(X['Education'])\n",
        "X['City']  = LabelEncoder().fit_transform(X['City'])\n",
        "X['Gender']  = LabelEncoder().fit_transform(X['Gender'])\n",
        "X['EverBenched']  = LabelEncoder().fit_transform(X['EverBenched'])\n",
        "X"
      ]
    },
    {
      "cell_type": "markdown",
      "metadata": {
        "id": "9rvBfG9ZVOje"
      },
      "source": [
        "# 1) Is the relationship significant? \n",
        "Ans.After fitting the model, we can see that based on the p-values of the variables the relationship is significant."
      ]
    },
    {
      "cell_type": "code",
      "execution_count": 869,
      "metadata": {
        "colab": {
          "base_uri": "https://localhost:8080/"
        },
        "id": "arFJfCa9BoFS",
        "outputId": "240796aa-70e5-4060-e8d1-3ef5901852c1"
      },
      "outputs": [
        {
          "name": "stdout",
          "output_type": "stream",
          "text": [
            "                            OLS Regression Results                            \n",
            "==============================================================================\n",
            "Dep. Variable:             LeaveOrNot   R-squared:                       0.124\n",
            "Model:                            OLS   Adj. R-squared:                  0.123\n",
            "Method:                 Least Squares   F-statistic:                     82.30\n",
            "Date:                Mon, 14 Feb 2022   Prob (F-statistic):          8.03e-128\n",
            "Time:                        02:57:28   Log-Likelihood:                -2829.9\n",
            "No. Observations:                4653   AIC:                             5678.\n",
            "Df Residuals:                    4644   BIC:                             5736.\n",
            "Df Model:                           8                                         \n",
            "Covariance Type:            nonrobust                                         \n",
            "=============================================================================================\n",
            "                                coef    std err          t      P>|t|      [0.025      0.975]\n",
            "---------------------------------------------------------------------------------------------\n",
            "const                         0.6487      0.058     11.138      0.000       0.535       0.763\n",
            "JoiningYear                   0.0396      0.004     11.138      0.000       0.033       0.047\n",
            "Education                     0.0241      0.013      1.870      0.062      -0.001       0.049\n",
            "City                          0.0726      0.008      8.831      0.000       0.056       0.089\n",
            "Gender                       -0.1692      0.014    -12.284      0.000      -0.196      -0.142\n",
            "EverBenched                   0.1215      0.022      5.633      0.000       0.079       0.164\n",
            "PaymentTier                  -0.0850      0.013     -6.793      0.000      -0.110      -0.060\n",
            "ExperienceInCurrentDomain    -0.0083      0.004     -1.952      0.051      -0.017    3.56e-05\n",
            "Age                          -0.0050      0.001     -3.695      0.000      -0.008      -0.002\n",
            "==============================================================================\n",
            "Omnibus:                     2339.719   Durbin-Watson:                   2.041\n",
            "Prob(Omnibus):                  0.000   Jarque-Bera (JB):              491.073\n",
            "Skew:                           0.566   Prob(JB):                    2.32e-107\n",
            "Kurtosis:                       1.881   Cond. No.                         273.\n",
            "==============================================================================\n",
            "\n",
            "Warnings:\n",
            "[1] Standard Errors assume that the covariance matrix of the errors is correctly specified.\n"
          ]
        },
        {
          "name": "stderr",
          "output_type": "stream",
          "text": [
            "/usr/local/lib/python3.7/dist-packages/statsmodels/tsa/tsatools.py:117: FutureWarning: In a future version of pandas all arguments of concat except for the argument 'objs' will be keyword-only\n",
            "  x = pd.concat(x[::order], 1)\n"
          ]
        }
      ],
      "source": [
        "#fit a OLS model with intercept on Dependent Variables\n",
        "X = sm.add_constant(X)\n",
        "\n",
        "# Fit and summary:\n",
        "model = sm.OLS(y, X)\n",
        "results = model.fit()\n",
        "\n",
        "print(results.summary())"
      ]
    },
    {
      "cell_type": "markdown",
      "metadata": {
        "id": "Mkbh9EaqPoz7"
      },
      "source": [
        "# 4) In the multivariate models are predictor variables independent of all the other predictor variables? \n",
        "Ans. Yes the predictor variables are independent of all the other predictor variables, since there is no colinearity between them as shown in the pvalue of all the variables.\n",
        "\n",
        "# 5) In multivariate models, rank the most significant predictor variables and exclude insignificant ones from the model.\n",
        "Ans. The most significant variable is \"Joining Year\".\n",
        "\n",
        "# 8) Which independent variables are significant? \n",
        "Ans. The regression output example above shows that the 'JoiningYear','City','Gender','EverBenched','PaymentTier','Age' predictor variables are statistically significant because their p-values equal 0.000. On the other hand, Education and ExperienceInCurrentDomain are not statistically significant because its p-value (0.062) and (0.051) respectibely are greater than the usual significance level of 0.05."
      ]
    },
    {
      "cell_type": "markdown",
      "metadata": {
        "id": "YLoap_L2WtI9"
      },
      "source": [
        "# 3)Is there any multicollinearity in the model? \n",
        "We have used corelation table and graph to see the collinearity betwwen the variables. As per the values n the table none of them are close to 1, which shows that the predictor variables are not corelated.\n",
        "\n",
        "The variance inflation factor (VIF) also identifies correlation between independent variables and the strength of that correlation.(Done in Q2 below)"
      ]
    },
    {
      "cell_type": "code",
      "execution_count": 870,
      "metadata": {
        "colab": {
          "base_uri": "https://localhost:8080/",
          "height": 300
        },
        "id": "GehbS_eA4TPg",
        "outputId": "ecee7572-cb5a-4d8c-ec10-ec0faf9aa42b"
      },
      "outputs": [
        {
          "data": {
            "text/html": [
              "\n",
              "  <div id=\"df-3acb8a3a-8a30-49d6-ab0f-d62181f7a3fb\">\n",
              "    <div class=\"colab-df-container\">\n",
              "      <div>\n",
              "<style scoped>\n",
              "    .dataframe tbody tr th:only-of-type {\n",
              "        vertical-align: middle;\n",
              "    }\n",
              "\n",
              "    .dataframe tbody tr th {\n",
              "        vertical-align: top;\n",
              "    }\n",
              "\n",
              "    .dataframe thead th {\n",
              "        text-align: right;\n",
              "    }\n",
              "</style>\n",
              "<table border=\"1\" class=\"dataframe\">\n",
              "  <thead>\n",
              "    <tr style=\"text-align: right;\">\n",
              "      <th></th>\n",
              "      <th>JoiningYear</th>\n",
              "      <th>Education</th>\n",
              "      <th>City</th>\n",
              "      <th>Gender</th>\n",
              "      <th>EverBenched</th>\n",
              "      <th>PaymentTier</th>\n",
              "      <th>ExperienceInCurrentDomain</th>\n",
              "      <th>Age</th>\n",
              "    </tr>\n",
              "  </thead>\n",
              "  <tbody>\n",
              "    <tr>\n",
              "      <th>JoiningYear</th>\n",
              "      <td>1.000000</td>\n",
              "      <td>0.142670</td>\n",
              "      <td>0.051441</td>\n",
              "      <td>-0.012213</td>\n",
              "      <td>0.049353</td>\n",
              "      <td>-0.096078</td>\n",
              "      <td>-0.036525</td>\n",
              "      <td>0.013165</td>\n",
              "    </tr>\n",
              "    <tr>\n",
              "      <th>Education</th>\n",
              "      <td>0.142670</td>\n",
              "      <td>1.000000</td>\n",
              "      <td>0.149903</td>\n",
              "      <td>-0.010889</td>\n",
              "      <td>-0.052249</td>\n",
              "      <td>-0.140741</td>\n",
              "      <td>-0.004463</td>\n",
              "      <td>-0.010611</td>\n",
              "    </tr>\n",
              "    <tr>\n",
              "      <th>City</th>\n",
              "      <td>0.051441</td>\n",
              "      <td>0.149903</td>\n",
              "      <td>1.000000</td>\n",
              "      <td>-0.168546</td>\n",
              "      <td>-0.007046</td>\n",
              "      <td>-0.295884</td>\n",
              "      <td>-0.009925</td>\n",
              "      <td>-0.030706</td>\n",
              "    </tr>\n",
              "    <tr>\n",
              "      <th>Gender</th>\n",
              "      <td>-0.012213</td>\n",
              "      <td>-0.010889</td>\n",
              "      <td>-0.168546</td>\n",
              "      <td>1.000000</td>\n",
              "      <td>0.019653</td>\n",
              "      <td>0.235119</td>\n",
              "      <td>0.008745</td>\n",
              "      <td>-0.003866</td>\n",
              "    </tr>\n",
              "    <tr>\n",
              "      <th>EverBenched</th>\n",
              "      <td>0.049353</td>\n",
              "      <td>-0.052249</td>\n",
              "      <td>-0.007046</td>\n",
              "      <td>0.019653</td>\n",
              "      <td>1.000000</td>\n",
              "      <td>0.019207</td>\n",
              "      <td>0.001408</td>\n",
              "      <td>-0.016135</td>\n",
              "    </tr>\n",
              "    <tr>\n",
              "      <th>PaymentTier</th>\n",
              "      <td>-0.096078</td>\n",
              "      <td>-0.140741</td>\n",
              "      <td>-0.295884</td>\n",
              "      <td>0.235119</td>\n",
              "      <td>0.019207</td>\n",
              "      <td>1.000000</td>\n",
              "      <td>0.018314</td>\n",
              "      <td>0.007631</td>\n",
              "    </tr>\n",
              "    <tr>\n",
              "      <th>ExperienceInCurrentDomain</th>\n",
              "      <td>-0.036525</td>\n",
              "      <td>-0.004463</td>\n",
              "      <td>-0.009925</td>\n",
              "      <td>0.008745</td>\n",
              "      <td>0.001408</td>\n",
              "      <td>0.018314</td>\n",
              "      <td>1.000000</td>\n",
              "      <td>-0.134643</td>\n",
              "    </tr>\n",
              "    <tr>\n",
              "      <th>Age</th>\n",
              "      <td>0.013165</td>\n",
              "      <td>-0.010611</td>\n",
              "      <td>-0.030706</td>\n",
              "      <td>-0.003866</td>\n",
              "      <td>-0.016135</td>\n",
              "      <td>0.007631</td>\n",
              "      <td>-0.134643</td>\n",
              "      <td>1.000000</td>\n",
              "    </tr>\n",
              "  </tbody>\n",
              "</table>\n",
              "</div>\n",
              "      <button class=\"colab-df-convert\" onclick=\"convertToInteractive('df-3acb8a3a-8a30-49d6-ab0f-d62181f7a3fb')\"\n",
              "              title=\"Convert this dataframe to an interactive table.\"\n",
              "              style=\"display:none;\">\n",
              "        \n",
              "  <svg xmlns=\"http://www.w3.org/2000/svg\" height=\"24px\"viewBox=\"0 0 24 24\"\n",
              "       width=\"24px\">\n",
              "    <path d=\"M0 0h24v24H0V0z\" fill=\"none\"/>\n",
              "    <path d=\"M18.56 5.44l.94 2.06.94-2.06 2.06-.94-2.06-.94-.94-2.06-.94 2.06-2.06.94zm-11 1L8.5 8.5l.94-2.06 2.06-.94-2.06-.94L8.5 2.5l-.94 2.06-2.06.94zm10 10l.94 2.06.94-2.06 2.06-.94-2.06-.94-.94-2.06-.94 2.06-2.06.94z\"/><path d=\"M17.41 7.96l-1.37-1.37c-.4-.4-.92-.59-1.43-.59-.52 0-1.04.2-1.43.59L10.3 9.45l-7.72 7.72c-.78.78-.78 2.05 0 2.83L4 21.41c.39.39.9.59 1.41.59.51 0 1.02-.2 1.41-.59l7.78-7.78 2.81-2.81c.8-.78.8-2.07 0-2.86zM5.41 20L4 18.59l7.72-7.72 1.47 1.35L5.41 20z\"/>\n",
              "  </svg>\n",
              "      </button>\n",
              "      \n",
              "  <style>\n",
              "    .colab-df-container {\n",
              "      display:flex;\n",
              "      flex-wrap:wrap;\n",
              "      gap: 12px;\n",
              "    }\n",
              "\n",
              "    .colab-df-convert {\n",
              "      background-color: #E8F0FE;\n",
              "      border: none;\n",
              "      border-radius: 50%;\n",
              "      cursor: pointer;\n",
              "      display: none;\n",
              "      fill: #1967D2;\n",
              "      height: 32px;\n",
              "      padding: 0 0 0 0;\n",
              "      width: 32px;\n",
              "    }\n",
              "\n",
              "    .colab-df-convert:hover {\n",
              "      background-color: #E2EBFA;\n",
              "      box-shadow: 0px 1px 2px rgba(60, 64, 67, 0.3), 0px 1px 3px 1px rgba(60, 64, 67, 0.15);\n",
              "      fill: #174EA6;\n",
              "    }\n",
              "\n",
              "    [theme=dark] .colab-df-convert {\n",
              "      background-color: #3B4455;\n",
              "      fill: #D2E3FC;\n",
              "    }\n",
              "\n",
              "    [theme=dark] .colab-df-convert:hover {\n",
              "      background-color: #434B5C;\n",
              "      box-shadow: 0px 1px 3px 1px rgba(0, 0, 0, 0.15);\n",
              "      filter: drop-shadow(0px 1px 2px rgba(0, 0, 0, 0.3));\n",
              "      fill: #FFFFFF;\n",
              "    }\n",
              "  </style>\n",
              "\n",
              "      <script>\n",
              "        const buttonEl =\n",
              "          document.querySelector('#df-3acb8a3a-8a30-49d6-ab0f-d62181f7a3fb button.colab-df-convert');\n",
              "        buttonEl.style.display =\n",
              "          google.colab.kernel.accessAllowed ? 'block' : 'none';\n",
              "\n",
              "        async function convertToInteractive(key) {\n",
              "          const element = document.querySelector('#df-3acb8a3a-8a30-49d6-ab0f-d62181f7a3fb');\n",
              "          const dataTable =\n",
              "            await google.colab.kernel.invokeFunction('convertToInteractive',\n",
              "                                                     [key], {});\n",
              "          if (!dataTable) return;\n",
              "\n",
              "          const docLinkHtml = 'Like what you see? Visit the ' +\n",
              "            '<a target=\"_blank\" href=https://colab.research.google.com/notebooks/data_table.ipynb>data table notebook</a>'\n",
              "            + ' to learn more about interactive tables.';\n",
              "          element.innerHTML = '';\n",
              "          dataTable['output_type'] = 'display_data';\n",
              "          await google.colab.output.renderOutput(dataTable, element);\n",
              "          const docLink = document.createElement('div');\n",
              "          docLink.innerHTML = docLinkHtml;\n",
              "          element.appendChild(docLink);\n",
              "        }\n",
              "      </script>\n",
              "    </div>\n",
              "  </div>\n",
              "  "
            ],
            "text/plain": [
              "                           JoiningYear  ...       Age\n",
              "JoiningYear                   1.000000  ...  0.013165\n",
              "Education                     0.142670  ... -0.010611\n",
              "City                          0.051441  ... -0.030706\n",
              "Gender                       -0.012213  ... -0.003866\n",
              "EverBenched                   0.049353  ... -0.016135\n",
              "PaymentTier                  -0.096078  ...  0.007631\n",
              "ExperienceInCurrentDomain    -0.036525  ... -0.134643\n",
              "Age                           0.013165  ...  1.000000\n",
              "\n",
              "[8 rows x 8 columns]"
            ]
          },
          "execution_count": 870,
          "metadata": {},
          "output_type": "execute_result"
        }
      ],
      "source": [
        "# corelation between all the independent variables\n",
        "import matplotlib.pyplot as plt\n",
        "X.iloc[:,1:].corr()"
      ]
    },
    {
      "cell_type": "code",
      "execution_count": 902,
      "metadata": {
        "colab": {
          "base_uri": "https://localhost:8080/",
          "height": 1000
        },
        "id": "wUlTnYjDWAXF",
        "outputId": "46ea2df6-4de2-46cd-bb89-9ff04a63bdee"
      },
      "outputs": [
        {
          "data": {
            "text/plain": [
              "<seaborn.axisgrid.PairGrid at 0x7f0ba355b690>"
            ]
          },
          "execution_count": 902,
          "metadata": {},
          "output_type": "execute_result"
        },
        {
          "data": {
            "image/png": "[encoded data removed]",
            "text/plain": [
              "<Figure size 1620x1620 with 90 Axes>"
            ]
          },
          "metadata": {
            "needs_background": "light"
          },
          "output_type": "display_data"
        }
      ],
      "source": [
        "sns.pairplot(X)"
      ]
    },
    {
      "cell_type": "markdown",
      "metadata": {
        "id": "GBukry9M93bU"
      },
      "source": [
        "# Linear Regression using statsmodels"
      ]
    },
    {
      "cell_type": "code",
      "execution_count": 871,
      "metadata": {
        "id": "xVdTKTSyuoVY"
      },
      "outputs": [],
      "source": [
        "from sklearn.linear_model import LinearRegression\n",
        "from sklearn.model_selection import train_test_split\n",
        "from statsmodels.stats.outliers_influence import variance_inflation_factor\n",
        "import pandas as pd"
      ]
    },
    {
      "cell_type": "code",
      "execution_count": 872,
      "metadata": {
        "id": "MR3Dq1KSvrve"
      },
      "outputs": [],
      "source": [
        "import statsmodels.api as sm\n",
        "#First we will convert the categorical values to numeric values\n",
        "from sklearn.preprocessing import LabelEncoder\n",
        "X['JoiningYear']  = LabelEncoder().fit_transform(X['JoiningYear'])\n",
        "X['Education']  = LabelEncoder().fit_transform(X['Education'])\n",
        "X['City']  = LabelEncoder().fit_transform(X['City'])\n",
        "X['Gender']  = LabelEncoder().fit_transform(X['Gender'])\n",
        "X['EverBenched']  = LabelEncoder().fit_transform(X['EverBenched'])"
      ]
    },
    {
      "cell_type": "code",
      "execution_count": 873,
      "metadata": {
        "id": "yQu-zRSW6pTw"
      },
      "outputs": [],
      "source": [
        "# Split the data into train and test with 70% data being used for training\n",
        "# X = X.loc[:, X.columns != 'LeaveOrNot']\n",
        "# y = y.loc[:, 'LeaveOrNot']\n",
        "\n",
        "X_train, X_test, y_train, y_test = train_test_split(X, y, \n",
        "                                                    test_size=0.30, \n",
        "                                                    random_state=42)"
      ]
    },
    {
      "cell_type": "code",
      "execution_count": 874,
      "metadata": {
        "colab": {
          "base_uri": "https://localhost:8080/"
        },
        "id": "6pWwS4aT94E5",
        "outputId": "b9b8c988-12d7-46cf-c518-c84a0b6d14d9"
      },
      "outputs": [
        {
          "name": "stderr",
          "output_type": "stream",
          "text": [
            "/usr/local/lib/python3.7/dist-packages/statsmodels/tsa/tsatools.py:117: FutureWarning: In a future version of pandas all arguments of concat except for the argument 'objs' will be keyword-only\n",
            "  x = pd.concat(x[::order], 1)\n"
          ]
        }
      ],
      "source": [
        "# import statsmodels.api as sm\n",
        "X_with_constant = sm.add_constant(X_train)\n",
        "X_with_constant = X_with_constant.to_numpy()\n",
        "model = sm.OLS(y_train, X_with_constant)"
      ]
    },
    {
      "cell_type": "code",
      "execution_count": 875,
      "metadata": {
        "colab": {
          "base_uri": "https://localhost:8080/"
        },
        "id": "2L1RNc3AU026",
        "outputId": "1ab35aba-47ee-4c78-9909-32a0f9d0c872"
      },
      "outputs": [
        {
          "data": {
            "text/plain": [
              "const    0.586107\n",
              "x1       0.035638\n",
              "x2       0.024914\n",
              "x3       0.073564\n",
              "x4      -0.162310\n",
              "x5       0.126170\n",
              "x6      -0.083253\n",
              "x7      -0.010110\n",
              "x8      -0.002567\n",
              "dtype: float64"
            ]
          },
          "execution_count": 875,
          "metadata": {},
          "output_type": "execute_result"
        }
      ],
      "source": [
        "results = model.fit()\n",
        "results.params"
      ]
    },
    {
      "cell_type": "code",
      "execution_count": 876,
      "metadata": {
        "colab": {
          "base_uri": "https://localhost:8080/"
        },
        "id": "uXktcg6XU6YK",
        "outputId": "8c2f11df-8b83-406a-e257-8bde33c9fa54"
      },
      "outputs": [
        {
          "name": "stdout",
          "output_type": "stream",
          "text": [
            "                            OLS Regression Results                            \n",
            "==============================================================================\n",
            "Dep. Variable:             LeaveOrNot   R-squared:                       0.113\n",
            "Model:                            OLS   Adj. R-squared:                  0.111\n",
            "Method:                 Least Squares   F-statistic:                     51.90\n",
            "Date:                Mon, 14 Feb 2022   Prob (F-statistic):           1.54e-79\n",
            "Time:                        02:57:28   Log-Likelihood:                -2003.7\n",
            "No. Observations:                3257   AIC:                             4025.\n",
            "Df Residuals:                    3248   BIC:                             4080.\n",
            "Df Model:                           8                                         \n",
            "Covariance Type:            nonrobust                                         \n",
            "==============================================================================\n",
            "                 coef    std err          t      P>|t|      [0.025      0.975]\n",
            "------------------------------------------------------------------------------\n",
            "const          0.5861      0.070      8.353      0.000       0.449       0.724\n",
            "x1             0.0356      0.004      8.342      0.000       0.027       0.044\n",
            "x2             0.0249      0.015      1.609      0.108      -0.005       0.055\n",
            "x3             0.0736      0.010      7.357      0.000       0.054       0.093\n",
            "x4            -0.1623      0.017     -9.770      0.000      -0.195      -0.130\n",
            "x5             0.1262      0.027      4.760      0.000       0.074       0.178\n",
            "x6            -0.0833      0.015     -5.576      0.000      -0.113      -0.054\n",
            "x7            -0.0101      0.005     -1.990      0.047      -0.020      -0.000\n",
            "x8            -0.0026      0.002     -1.570      0.116      -0.006       0.001\n",
            "==============================================================================\n",
            "Omnibus:                     2074.572   Durbin-Watson:                   1.974\n",
            "Prob(Omnibus):                  0.000   Jarque-Bera (JB):              360.658\n",
            "Skew:                           0.574   Prob(JB):                     4.83e-79\n",
            "Kurtosis:                       1.843   Cond. No.                         273.\n",
            "==============================================================================\n",
            "\n",
            "Warnings:\n",
            "[1] Standard Errors assume that the covariance matrix of the errors is correctly specified.\n"
          ]
        }
      ],
      "source": [
        "print(results.summary())"
      ]
    },
    {
      "cell_type": "code",
      "execution_count": 877,
      "metadata": {
        "colab": {
          "base_uri": "https://localhost:8080/"
        },
        "id": "lLx0w23gVCOa",
        "outputId": "93160cac-26ad-4206-fb64-ef283628cfcd"
      },
      "outputs": [
        {
          "name": "stderr",
          "output_type": "stream",
          "text": [
            "/usr/local/lib/python3.7/dist-packages/statsmodels/tsa/tsatools.py:117: FutureWarning: In a future version of pandas all arguments of concat except for the argument 'objs' will be keyword-only\n",
            "  x = pd.concat(x[::order], 1)\n"
          ]
        }
      ],
      "source": [
        "#calculate how good the model is by calculating the residual\n",
        "X = X.loc[:, X.columns != 'LeaveOrNot']\n",
        "y = y.loc[:, 'LeaveOrNot']\n",
        "\n",
        "X_train, X_test, y_train, y_test = train_test_split(X, y, \n",
        "                                                    test_size=0.30, \n",
        "                                                    random_state=42)\n",
        "\n",
        "X_test = sm.add_constant(X_test)\n",
        "y_pred = results.predict(X_test)\n",
        "residual = y_test - y_pred"
      ]
    },
    {
      "cell_type": "markdown",
      "metadata": {
        "id": "c4CJ4zxJ6lgg"
      },
      "source": [
        "# 2) Are any model assumptions violated? \n",
        "Ans. We have use different Assumptions of linear regression to check if they are violated."
      ]
    },
    {
      "cell_type": "code",
      "execution_count": 878,
      "metadata": {
        "colab": {
          "base_uri": "https://localhost:8080/",
          "height": 81
        },
        "id": "4guyBipWSuEU",
        "outputId": "8b7e3aee-02fd-427e-a405-7f8e92535101"
      },
      "outputs": [
        {
          "data": {
            "text/html": [
              "\n",
              "  <div id=\"df-5f33fcd2-4929-4ca7-942b-59e9b5a9c1f1\">\n",
              "    <div class=\"colab-df-container\">\n",
              "      <div>\n",
              "<style scoped>\n",
              "    .dataframe tbody tr th:only-of-type {\n",
              "        vertical-align: middle;\n",
              "    }\n",
              "\n",
              "    .dataframe tbody tr th {\n",
              "        vertical-align: top;\n",
              "    }\n",
              "\n",
              "    .dataframe thead th {\n",
              "        text-align: right;\n",
              "    }\n",
              "</style>\n",
              "<table border=\"1\" class=\"dataframe\">\n",
              "  <thead>\n",
              "    <tr style=\"text-align: right;\">\n",
              "      <th></th>\n",
              "      <th>const</th>\n",
              "      <th>JoiningYear</th>\n",
              "      <th>Education</th>\n",
              "      <th>City</th>\n",
              "      <th>Gender</th>\n",
              "      <th>EverBenched</th>\n",
              "      <th>PaymentTier</th>\n",
              "      <th>ExperienceInCurrentDomain</th>\n",
              "      <th>Age</th>\n",
              "    </tr>\n",
              "  </thead>\n",
              "  <tbody>\n",
              "    <tr>\n",
              "      <th>vif</th>\n",
              "      <td>79.793746</td>\n",
              "      <td>1.031985</td>\n",
              "      <td>1.054529</td>\n",
              "      <td>1.127983</td>\n",
              "      <td>1.072032</td>\n",
              "      <td>1.006265</td>\n",
              "      <td>1.157219</td>\n",
              "      <td>1.019442</td>\n",
              "      <td>1.020392</td>\n",
              "    </tr>\n",
              "  </tbody>\n",
              "</table>\n",
              "</div>\n",
              "      <button class=\"colab-df-convert\" onclick=\"convertToInteractive('df-5f33fcd2-4929-4ca7-942b-59e9b5a9c1f1')\"\n",
              "              title=\"Convert this dataframe to an interactive table.\"\n",
              "              style=\"display:none;\">\n",
              "        \n",
              "  <svg xmlns=\"http://www.w3.org/2000/svg\" height=\"24px\"viewBox=\"0 0 24 24\"\n",
              "       width=\"24px\">\n",
              "    <path d=\"M0 0h24v24H0V0z\" fill=\"none\"/>\n",
              "    <path d=\"M18.56 5.44l.94 2.06.94-2.06 2.06-.94-2.06-.94-.94-2.06-.94 2.06-2.06.94zm-11 1L8.5 8.5l.94-2.06 2.06-.94-2.06-.94L8.5 2.5l-.94 2.06-2.06.94zm10 10l.94 2.06.94-2.06 2.06-.94-2.06-.94-.94-2.06-.94 2.06-2.06.94z\"/><path d=\"M17.41 7.96l-1.37-1.37c-.4-.4-.92-.59-1.43-.59-.52 0-1.04.2-1.43.59L10.3 9.45l-7.72 7.72c-.78.78-.78 2.05 0 2.83L4 21.41c.39.39.9.59 1.41.59.51 0 1.02-.2 1.41-.59l7.78-7.78 2.81-2.81c.8-.78.8-2.07 0-2.86zM5.41 20L4 18.59l7.72-7.72 1.47 1.35L5.41 20z\"/>\n",
              "  </svg>\n",
              "      </button>\n",
              "      \n",
              "  <style>\n",
              "    .colab-df-container {\n",
              "      display:flex;\n",
              "      flex-wrap:wrap;\n",
              "      gap: 12px;\n",
              "    }\n",
              "\n",
              "    .colab-df-convert {\n",
              "      background-color: #E8F0FE;\n",
              "      border: none;\n",
              "      border-radius: 50%;\n",
              "      cursor: pointer;\n",
              "      display: none;\n",
              "      fill: #1967D2;\n",
              "      height: 32px;\n",
              "      padding: 0 0 0 0;\n",
              "      width: 32px;\n",
              "    }\n",
              "\n",
              "    .colab-df-convert:hover {\n",
              "      background-color: #E2EBFA;\n",
              "      box-shadow: 0px 1px 2px rgba(60, 64, 67, 0.3), 0px 1px 3px 1px rgba(60, 64, 67, 0.15);\n",
              "      fill: #174EA6;\n",
              "    }\n",
              "\n",
              "    [theme=dark] .colab-df-convert {\n",
              "      background-color: #3B4455;\n",
              "      fill: #D2E3FC;\n",
              "    }\n",
              "\n",
              "    [theme=dark] .colab-df-convert:hover {\n",
              "      background-color: #434B5C;\n",
              "      box-shadow: 0px 1px 3px 1px rgba(0, 0, 0, 0.15);\n",
              "      filter: drop-shadow(0px 1px 2px rgba(0, 0, 0, 0.3));\n",
              "      fill: #FFFFFF;\n",
              "    }\n",
              "  </style>\n",
              "\n",
              "      <script>\n",
              "        const buttonEl =\n",
              "          document.querySelector('#df-5f33fcd2-4929-4ca7-942b-59e9b5a9c1f1 button.colab-df-convert');\n",
              "        buttonEl.style.display =\n",
              "          google.colab.kernel.accessAllowed ? 'block' : 'none';\n",
              "\n",
              "        async function convertToInteractive(key) {\n",
              "          const element = document.querySelector('#df-5f33fcd2-4929-4ca7-942b-59e9b5a9c1f1');\n",
              "          const dataTable =\n",
              "            await google.colab.kernel.invokeFunction('convertToInteractive',\n",
              "                                                     [key], {});\n",
              "          if (!dataTable) return;\n",
              "\n",
              "          const docLinkHtml = 'Like what you see? Visit the ' +\n",
              "            '<a target=\"_blank\" href=https://colab.research.google.com/notebooks/data_table.ipynb>data table notebook</a>'\n",
              "            + ' to learn more about interactive tables.';\n",
              "          element.innerHTML = '';\n",
              "          dataTable['output_type'] = 'display_data';\n",
              "          await google.colab.output.renderOutput(dataTable, element);\n",
              "          const docLink = document.createElement('div');\n",
              "          docLink.innerHTML = docLinkHtml;\n",
              "          element.appendChild(docLink);\n",
              "        }\n",
              "      </script>\n",
              "    </div>\n",
              "  </div>\n",
              "  "
            ],
            "text/plain": [
              "         const  JoiningYear  ...  ExperienceInCurrentDomain       Age\n",
              "vif  79.793746     1.031985  ...                   1.019442  1.020392\n",
              "\n",
              "[1 rows x 9 columns]"
            ]
          },
          "execution_count": 878,
          "metadata": {},
          "output_type": "execute_result"
        }
      ],
      "source": [
        "#1) Multicolinearity\n",
        "#Ans. Since all the feature values are below 5 we can conclude that there is no multicolinearity\n",
        "vif = [variance_inflation_factor(X_train.values, i) for i in range(X_train.shape[1])]\n",
        "pd.DataFrame({'vif': vif[0:]}, index=X_train.columns).T"
      ]
    },
    {
      "cell_type": "code",
      "execution_count": 879,
      "metadata": {
        "colab": {
          "base_uri": "https://localhost:8080/",
          "height": 337
        },
        "id": "yLgrZfg3YA_c",
        "outputId": "87d66075-c307-4371-8c2d-69c9b9ae6191"
      },
      "outputs": [
        {
          "name": "stderr",
          "output_type": "stream",
          "text": [
            "/usr/local/lib/python3.7/dist-packages/seaborn/distributions.py:2619: FutureWarning: `distplot` is a deprecated function and will be removed in a future version. Please adapt your code to use either `displot` (a figure-level function with similar flexibility) or `histplot` (an axes-level function for histograms).\n",
            "  warnings.warn(msg, FutureWarning)\n"
          ]
        },
        {
          "data": {
            "text/plain": [
              "<matplotlib.axes._subplots.AxesSubplot at 0x7f0ba4054510>"
            ]
          },
          "execution_count": 879,
          "metadata": {},
          "output_type": "execute_result"
        },
        {
          "data": {
            "image/png": "[encoded data removed]",
            "text/plain": [
              "<Figure size 432x288 with 1 Axes>"
            ]
          },
          "metadata": {
            "needs_background": "light"
          },
          "output_type": "display_data"
        }
      ],
      "source": [
        "#2) Normality of Residual\n",
        "#The plot is between 0.5->1.0 and -0.5->0.0, we can assume that the distribution is near normal.\n",
        "import seaborn as sns\n",
        "sns.distplot(residual)"
      ]
    },
    {
      "cell_type": "code",
      "execution_count": 880,
      "metadata": {
        "colab": {
          "base_uri": "https://localhost:8080/",
          "height": 214
        },
        "id": "fUFmkU1FYQQb",
        "outputId": "24ff511a-f48e-4243-f26e-27ecc50cd2bf"
      },
      "outputs": [
        {
          "data": {
            "image/png": "[encoded data removed]",
            "text/plain": [
              "<Figure size 432x180 with 1 Axes>"
            ]
          },
          "metadata": {
            "needs_background": "light"
          },
          "output_type": "display_data"
        }
      ],
      "source": [
        "# most of the Observed and the Theoritical plots fall on the same line, which shows that it is a normal distiribution\n",
        "\n",
        "import scipy as sp\n",
        "fig, ax = plt.subplots(figsize=(6,2.5))\n",
        "_, (__, ___, r) = sp.stats.probplot(residual, plot=ax, fit=True)"
      ]
    },
    {
      "cell_type": "code",
      "execution_count": 881,
      "metadata": {
        "colab": {
          "base_uri": "https://localhost:8080/"
        },
        "id": "VUSVAm4VYZdD",
        "outputId": "a5c5a439-d49c-4201-b88c-453a7919c61e"
      },
      "outputs": [
        {
          "data": {
            "text/plain": [
              "-0.009931873406140225"
            ]
          },
          "execution_count": 881,
          "metadata": {},
          "output_type": "execute_result"
        }
      ],
      "source": [
        "#The mean value is very less, which is safe enough to say that distirbution is near normal\n",
        "np.mean(residual)"
      ]
    },
    {
      "cell_type": "code",
      "execution_count": 882,
      "metadata": {
        "colab": {
          "base_uri": "https://localhost:8080/",
          "height": 186
        },
        "id": "1JbM370-Ycyk",
        "outputId": "3cfccdf1-1dd4-46e0-d95d-2f0fcc97fbe0"
      },
      "outputs": [
        {
          "data": {
            "image/png": "[encoded data removed]",
            "text/plain": [
              "<Figure size 432x180 with 1 Axes>"
            ]
          },
          "metadata": {
            "needs_background": "light"
          },
          "output_type": "display_data"
        }
      ],
      "source": [
        "##3)Homoscedasticity\n",
        "## Since there is a pattern here we can say that there might be a violation here.\n",
        "fig, ax = plt.subplots(figsize=(6,2.5))\n",
        "_ = ax.scatter(y_pred, residual)"
      ]
    },
    {
      "cell_type": "code",
      "execution_count": 883,
      "metadata": {
        "colab": {
          "base_uri": "https://localhost:8080/",
          "height": 281
        },
        "id": "9phBNRUmYiW7",
        "outputId": "9e7e213b-cdcc-44e2-e082-b2fb22b0a2f7"
      },
      "outputs": [
        {
          "data": {
            "image/png": "[encoded data removed]",
            "text/plain": [
              "<Figure size 432x288 with 1 Axes>"
            ]
          },
          "metadata": {
            "needs_background": "light"
          },
          "output_type": "display_data"
        }
      ],
      "source": [
        "##3)No autocorrelation of residuals\n",
        "#Ans. No value exceeds the threshold of the significance corelation, so we can say that there is no corelation between the residuals.\n",
        "import statsmodels.tsa.api as smt\n",
        "acf = smt.graphics.plot_acf(residual, lags=40 , alpha=0.05)\n",
        "acf.show()"
      ]
    },
    {
      "cell_type": "markdown",
      "metadata": {
        "id": "O9yF-8xYSLOL"
      },
      "source": [
        "# 7) Does regularization help? \n",
        "Ans. First we will do the linear regression on the model and then compare it with ridge and lasso *regression*.\n",
        "\n",
        "Linear Regression Mean:-0.198792893204153\n",
        "Ridge Regression Mean:-0.1987819916022421\n",
        "Lasso Regression Mean:-0.198792893204153\n",
        "\n",
        "Since there is not much difference between the means of Linear, Ridge and Lasso, we can conclude that the regularization is not required.\n",
        "\n",
        "\n",
        "\n",
        "\n",
        "\n"
      ]
    },
    {
      "cell_type": "code",
      "execution_count": 884,
      "metadata": {
        "colab": {
          "base_uri": "https://localhost:8080/"
        },
        "id": "jf_8xdGkHwoM",
        "outputId": "afd36377-6c04-422d-d214-8fa95c19fdd5"
      },
      "outputs": [
        {
          "name": "stdout",
          "output_type": "stream",
          "text": [
            "-0.198792893204153\n"
          ]
        }
      ],
      "source": [
        "#Linear Regression\n",
        "from sklearn.model_selection import cross_val_score\n",
        "from sklearn.linear_model import LinearRegression\n",
        "\n",
        "lin_regressor=LinearRegression()\n",
        "mse=cross_val_score(lin_regressor,X,y,scoring='neg_mean_squared_error',cv=5)\n",
        "mean_mse=np.mean(mse)\n",
        "print(mean_mse)"
      ]
    },
    {
      "cell_type": "code",
      "execution_count": 885,
      "metadata": {
        "colab": {
          "base_uri": "https://localhost:8080/"
        },
        "id": "zZBaS5WdZL4L",
        "outputId": "f6bccef9-1456-411b-b1f9-e565c1f76ae7"
      },
      "outputs": [
        {
          "name": "stderr",
          "output_type": "stream",
          "text": [
            "/usr/local/lib/python3.7/dist-packages/sklearn/linear_model/_ridge.py:157: LinAlgWarning: Ill-conditioned matrix (rcond=1.02491e-20): result may not be accurate.\n",
            "  return linalg.solve(A, Xy, sym_pos=True, overwrite_a=True).T\n",
            "/usr/local/lib/python3.7/dist-packages/sklearn/linear_model/_ridge.py:157: LinAlgWarning: Ill-conditioned matrix (rcond=1.01076e-20): result may not be accurate.\n",
            "  return linalg.solve(A, Xy, sym_pos=True, overwrite_a=True).T\n",
            "/usr/local/lib/python3.7/dist-packages/sklearn/linear_model/_ridge.py:157: LinAlgWarning: Ill-conditioned matrix (rcond=9.29598e-21): result may not be accurate.\n",
            "  return linalg.solve(A, Xy, sym_pos=True, overwrite_a=True).T\n",
            "/usr/local/lib/python3.7/dist-packages/sklearn/linear_model/_ridge.py:157: LinAlgWarning: Ill-conditioned matrix (rcond=1.54098e-20): result may not be accurate.\n",
            "  return linalg.solve(A, Xy, sym_pos=True, overwrite_a=True).T\n",
            "/usr/local/lib/python3.7/dist-packages/sklearn/linear_model/_ridge.py:157: LinAlgWarning: Ill-conditioned matrix (rcond=1.32458e-20): result may not be accurate.\n",
            "  return linalg.solve(A, Xy, sym_pos=True, overwrite_a=True).T\n"
          ]
        },
        {
          "data": {
            "text/plain": [
              "GridSearchCV(cv=5, estimator=Ridge(),\n",
              "             param_grid={'alpha': [1e-15, 1e-10, 1e-08, 0.001, 0.01, 1, 5, 10,\n",
              "                                   20, 30, 35, 40, 45, 50, 55, 100]},\n",
              "             scoring='neg_mean_squared_error')"
            ]
          },
          "execution_count": 885,
          "metadata": {},
          "output_type": "execute_result"
        }
      ],
      "source": [
        "#Ridge Regression\n",
        "from sklearn.linear_model import Ridge\n",
        "from sklearn.model_selection import GridSearchCV\n",
        "\n",
        "ridge=Ridge()\n",
        "parameters={'alpha':[1e-15,1e-10,1e-8,1e-3,1e-2,1,5,10,20,30,35,40,45,50,55,100]}\n",
        "ridge_regressor=GridSearchCV(ridge,parameters,scoring='neg_mean_squared_error',cv=5)\n",
        "ridge_regressor.fit(X,y)"
      ]
    },
    {
      "cell_type": "code",
      "execution_count": 886,
      "metadata": {
        "colab": {
          "base_uri": "https://localhost:8080/"
        },
        "id": "Qw2rSHU_H2mc",
        "outputId": "e4af4817-531e-41d9-9108-162b3d66ea3f"
      },
      "outputs": [
        {
          "name": "stdout",
          "output_type": "stream",
          "text": [
            "{'alpha': 20}\n",
            "-0.1987819916022421\n"
          ]
        }
      ],
      "source": [
        "print(ridge_regressor.best_params_)\n",
        "print(ridge_regressor.best_score_)"
      ]
    },
    {
      "cell_type": "code",
      "execution_count": 887,
      "metadata": {
        "colab": {
          "base_uri": "https://localhost:8080/"
        },
        "id": "wpkGQ_vBIO19",
        "outputId": "87eb51e9-bc5d-4ac2-9ee0-6d7869ad6c24"
      },
      "outputs": [
        {
          "name": "stdout",
          "output_type": "stream",
          "text": [
            "{'alpha': 1e-15}\n",
            "-0.198792893204153\n"
          ]
        }
      ],
      "source": [
        "#Lasso Regression\n",
        "from sklearn.linear_model import Lasso\n",
        "from sklearn.model_selection import GridSearchCV\n",
        "lasso=Lasso()\n",
        "parameters={'alpha':[1e-15,1e-10,1e-8,1e-3,1e-2,1,5,10,20,30,35,40,45,50,55,100]}\n",
        "lasso_regressor=GridSearchCV(lasso,parameters,scoring='neg_mean_squared_error',cv=5)\n",
        "\n",
        "lasso_regressor.fit(X,y)\n",
        "print(lasso_regressor.best_params_)\n",
        "print(lasso_regressor.best_score_)"
      ]
    },
    {
      "cell_type": "code",
      "execution_count": 888,
      "metadata": {
        "colab": {
          "base_uri": "https://localhost:8080/",
          "height": 351
        },
        "id": "YWRbzD_EIb1T",
        "outputId": "1c3cc5b3-0651-4a39-f579-d3d5cb909843"
      },
      "outputs": [
        {
          "name": "stderr",
          "output_type": "stream",
          "text": [
            "/usr/local/lib/python3.7/dist-packages/seaborn/distributions.py:2619: FutureWarning: `distplot` is a deprecated function and will be removed in a future version. Please adapt your code to use either `displot` (a figure-level function with similar flexibility) or `histplot` (an axes-level function for histograms).\n",
            "  warnings.warn(msg, FutureWarning)\n"
          ]
        },
        {
          "data": {
            "text/plain": [
              "<matplotlib.axes._subplots.AxesSubplot at 0x7f0ba3b52f10>"
            ]
          },
          "execution_count": 888,
          "metadata": {},
          "output_type": "execute_result"
        },
        {
          "data": {
            "image/png": "[encoded data removed]",
            "text/plain": [
              "<Figure size 432x288 with 1 Axes>"
            ]
          },
          "metadata": {
            "needs_background": "light"
          },
          "output_type": "display_data"
        }
      ],
      "source": [
        "from sklearn.model_selection import train_test_split\n",
        "X_train, X_test, y_train, y_test = train_test_split(X, y, test_size=0.3, random_state=0)\n",
        "prediction_lasso=lasso_regressor.predict(X_test)\n",
        "prediction_ridge=ridge_regressor.predict(X_test)\n",
        "import seaborn as sns\n",
        "\n",
        "sns.distplot(y_test-prediction_lasso)"
      ]
    },
    {
      "cell_type": "code",
      "execution_count": 889,
      "metadata": {
        "colab": {
          "base_uri": "https://localhost:8080/",
          "height": 351
        },
        "id": "AiySahaAJBld",
        "outputId": "51032d44-51e4-4d58-b3b8-f39cb37f730c"
      },
      "outputs": [
        {
          "name": "stderr",
          "output_type": "stream",
          "text": [
            "/usr/local/lib/python3.7/dist-packages/seaborn/distributions.py:2619: FutureWarning: `distplot` is a deprecated function and will be removed in a future version. Please adapt your code to use either `displot` (a figure-level function with similar flexibility) or `histplot` (an axes-level function for histograms).\n",
            "  warnings.warn(msg, FutureWarning)\n"
          ]
        },
        {
          "data": {
            "text/plain": [
              "<matplotlib.axes._subplots.AxesSubplot at 0x7f0ba605d050>"
            ]
          },
          "execution_count": 889,
          "metadata": {},
          "output_type": "execute_result"
        },
        {
          "data": {
            "image/png": "[encoded data removed]",
            "text/plain": [
              "<Figure size 432x288 with 1 Axes>"
            ]
          },
          "metadata": {
            "needs_background": "light"
          },
          "output_type": "display_data"
        }
      ],
      "source": [
        "import seaborn as sns\n",
        "\n",
        "sns.distplot(y_test-prediction_ridge)"
      ]
    },
    {
      "cell_type": "markdown",
      "metadata": {
        "id": "Wxex1Q4ITKJD"
      },
      "source": [
        "# 9)  Which hyperparameters are important? \n",
        "Ans. Here we tried to perform the GridSearchCV to find out the best hyperparameters and we can conclude that below are the best HyperParameters:\n",
        "\n",
        "Output:\n",
        "Accuracy:0.8360200039268678\n",
        "\n",
        "{'bootstrap': True, 'ccp_alpha': 0.0, 'class_weight': None, 'criterion': 'gini', 'max_depth': 5, 'max_features': 'auto', 'max_leaf_nodes': None, 'max_samples': None, 'min_impurity_decrease': 0.0, 'min_samples_leaf': 1, 'min_samples_split': 2, 'min_weight_fraction_leaf': 0.0, 'n_estimators': 300, 'n_jobs': -1, 'oob_score': False, 'random_state': None, 'verbose': 0, 'warm_start': False}"
      ]
    },
    {
      "cell_type": "code",
      "execution_count": 891,
      "metadata": {
        "id": "8rvxa4SrDWNt"
      },
      "outputs": [],
      "source": [
        "classifier= ensemble.RandomForestClassifier(n_jobs=-1)\n",
        "param_grid = {\n",
        "    \"n_estimators\": [100, 200, 300, 400, 500],\n",
        "    \"max_depth\": [1,2,3,4,5],\n",
        "    \"criterion\": [\"gini\",\"entropy\"]\n",
        "    }"
      ]
    },
    {
      "cell_type": "code",
      "execution_count": 892,
      "metadata": {
        "id": "Niksx_foCxxl"
      },
      "outputs": [],
      "source": [
        "from sklearn import model_selection\n",
        "from sklearn import ensemble\n",
        "model = model_selection.GridSearchCV(\n",
        "    estimator= classifier,\n",
        "    param_grid=param_grid,\n",
        "    scoring=\"accuracy\",\n",
        "    verbose=10,\n",
        "    n_jobs=1,\n",
        "    cv=5,\n",
        ")"
      ]
    },
    {
      "cell_type": "code",
      "execution_count": 893,
      "metadata": {
        "colab": {
          "base_uri": "https://localhost:8080/"
        },
        "id": "p2AtbguPAunk",
        "outputId": "b28cd473-da48-4758-c67a-c6fe08ee012c"
      },
      "outputs": [
        {
          "name": "stdout",
          "output_type": "stream",
          "text": [
            "Fitting 5 folds for each of 50 candidates, totalling 250 fits\n",
            "[CV 1/5; 1/50] START criterion=gini, max_depth=1, n_estimators=100..............\n",
            "[CV 1/5; 1/50] END criterion=gini, max_depth=1, n_estimators=100;, score=0.723 total time=   1.4s\n",
            "[CV 2/5; 1/50] START criterion=gini, max_depth=1, n_estimators=100..............\n",
            "[CV 2/5; 1/50] END criterion=gini, max_depth=1, n_estimators=100;, score=0.733 total time=   0.4s\n",
            "[CV 3/5; 1/50] START criterion=gini, max_depth=1, n_estimators=100..............\n",
            "[CV 3/5; 1/50] END criterion=gini, max_depth=1, n_estimators=100;, score=0.690 total time=   0.4s\n",
            "[CV 4/5; 1/50] START criterion=gini, max_depth=1, n_estimators=100..............\n",
            "[CV 4/5; 1/50] END criterion=gini, max_depth=1, n_estimators=100;, score=0.698 total time=   0.4s\n",
            "[CV 5/5; 1/50] START criterion=gini, max_depth=1, n_estimators=100..............\n",
            "[CV 5/5; 1/50] END criterion=gini, max_depth=1, n_estimators=100;, score=0.744 total time=   0.4s\n",
            "[CV 1/5; 2/50] START criterion=gini, max_depth=1, n_estimators=200..............\n",
            "[CV 1/5; 2/50] END criterion=gini, max_depth=1, n_estimators=200;, score=0.723 total time=   0.7s\n",
            "[CV 2/5; 2/50] START criterion=gini, max_depth=1, n_estimators=200..............\n",
            "[CV 2/5; 2/50] END criterion=gini, max_depth=1, n_estimators=200;, score=0.733 total time=   1.1s\n",
            "[CV 3/5; 2/50] START criterion=gini, max_depth=1, n_estimators=200..............\n",
            "[CV 3/5; 2/50] END criterion=gini, max_depth=1, n_estimators=200;, score=0.723 total time=   0.9s\n",
            "[CV 4/5; 2/50] START criterion=gini, max_depth=1, n_estimators=200..............\n",
            "[CV 4/5; 2/50] END criterion=gini, max_depth=1, n_estimators=200;, score=0.742 total time=   0.6s\n",
            "[CV 5/5; 2/50] START criterion=gini, max_depth=1, n_estimators=200..............\n",
            "[CV 5/5; 2/50] END criterion=gini, max_depth=1, n_estimators=200;, score=0.744 total time=   0.6s\n",
            "[CV 1/5; 3/50] START criterion=gini, max_depth=1, n_estimators=300..............\n",
            "[CV 1/5; 3/50] END criterion=gini, max_depth=1, n_estimators=300;, score=0.723 total time=   0.9s\n",
            "[CV 2/5; 3/50] START criterion=gini, max_depth=1, n_estimators=300..............\n",
            "[CV 2/5; 3/50] END criterion=gini, max_depth=1, n_estimators=300;, score=0.733 total time=   0.9s\n",
            "[CV 3/5; 3/50] START criterion=gini, max_depth=1, n_estimators=300..............\n",
            "[CV 3/5; 3/50] END criterion=gini, max_depth=1, n_estimators=300;, score=0.723 total time=   0.9s\n",
            "[CV 4/5; 3/50] START criterion=gini, max_depth=1, n_estimators=300..............\n",
            "[CV 4/5; 3/50] END criterion=gini, max_depth=1, n_estimators=300;, score=0.698 total time=   0.9s\n",
            "[CV 5/5; 3/50] START criterion=gini, max_depth=1, n_estimators=300..............\n",
            "[CV 5/5; 3/50] END criterion=gini, max_depth=1, n_estimators=300;, score=0.744 total time=   0.9s\n",
            "[CV 1/5; 4/50] START criterion=gini, max_depth=1, n_estimators=400..............\n",
            "[CV 1/5; 4/50] END criterion=gini, max_depth=1, n_estimators=400;, score=0.723 total time=   1.1s\n",
            "[CV 2/5; 4/50] START criterion=gini, max_depth=1, n_estimators=400..............\n",
            "[CV 2/5; 4/50] END criterion=gini, max_depth=1, n_estimators=400;, score=0.733 total time=   1.1s\n",
            "[CV 3/5; 4/50] START criterion=gini, max_depth=1, n_estimators=400..............\n",
            "[CV 3/5; 4/50] END criterion=gini, max_depth=1, n_estimators=400;, score=0.723 total time=   1.1s\n",
            "[CV 4/5; 4/50] START criterion=gini, max_depth=1, n_estimators=400..............\n",
            "[CV 4/5; 4/50] END criterion=gini, max_depth=1, n_estimators=400;, score=0.742 total time=   1.1s\n",
            "[CV 5/5; 4/50] START criterion=gini, max_depth=1, n_estimators=400..............\n",
            "[CV 5/5; 4/50] END criterion=gini, max_depth=1, n_estimators=400;, score=0.744 total time=   1.1s\n",
            "[CV 1/5; 5/50] START criterion=gini, max_depth=1, n_estimators=500..............\n",
            "[CV 1/5; 5/50] END criterion=gini, max_depth=1, n_estimators=500;, score=0.723 total time=   1.3s\n",
            "[CV 2/5; 5/50] START criterion=gini, max_depth=1, n_estimators=500..............\n",
            "[CV 2/5; 5/50] END criterion=gini, max_depth=1, n_estimators=500;, score=0.733 total time=   1.3s\n",
            "[CV 3/5; 5/50] START criterion=gini, max_depth=1, n_estimators=500..............\n",
            "[CV 3/5; 5/50] END criterion=gini, max_depth=1, n_estimators=500;, score=0.723 total time=   2.3s\n",
            "[CV 4/5; 5/50] START criterion=gini, max_depth=1, n_estimators=500..............\n",
            "[CV 4/5; 5/50] END criterion=gini, max_depth=1, n_estimators=500;, score=0.742 total time=   1.3s\n",
            "[CV 5/5; 5/50] START criterion=gini, max_depth=1, n_estimators=500..............\n",
            "[CV 5/5; 5/50] END criterion=gini, max_depth=1, n_estimators=500;, score=0.744 total time=   1.3s\n",
            "[CV 1/5; 6/50] START criterion=gini, max_depth=2, n_estimators=100..............\n",
            "[CV 1/5; 6/50] END criterion=gini, max_depth=2, n_estimators=100;, score=0.785 total time=   0.4s\n",
            "[CV 2/5; 6/50] START criterion=gini, max_depth=2, n_estimators=100..............\n",
            "[CV 2/5; 6/50] END criterion=gini, max_depth=2, n_estimators=100;, score=0.800 total time=   0.4s\n",
            "[CV 3/5; 6/50] START criterion=gini, max_depth=2, n_estimators=100..............\n",
            "[CV 3/5; 6/50] END criterion=gini, max_depth=2, n_estimators=100;, score=0.783 total time=   0.4s\n",
            "[CV 4/5; 6/50] START criterion=gini, max_depth=2, n_estimators=100..............\n",
            "[CV 4/5; 6/50] END criterion=gini, max_depth=2, n_estimators=100;, score=0.800 total time=   0.4s\n",
            "[CV 5/5; 6/50] START criterion=gini, max_depth=2, n_estimators=100..............\n",
            "[CV 5/5; 6/50] END criterion=gini, max_depth=2, n_estimators=100;, score=0.802 total time=   0.4s\n",
            "[CV 1/5; 7/50] START criterion=gini, max_depth=2, n_estimators=200..............\n",
            "[CV 1/5; 7/50] END criterion=gini, max_depth=2, n_estimators=200;, score=0.785 total time=   0.6s\n",
            "[CV 2/5; 7/50] START criterion=gini, max_depth=2, n_estimators=200..............\n",
            "[CV 2/5; 7/50] END criterion=gini, max_depth=2, n_estimators=200;, score=0.800 total time=   0.6s\n",
            "[CV 3/5; 7/50] START criterion=gini, max_depth=2, n_estimators=200..............\n",
            "[CV 3/5; 7/50] END criterion=gini, max_depth=2, n_estimators=200;, score=0.783 total time=   0.6s\n",
            "[CV 4/5; 7/50] START criterion=gini, max_depth=2, n_estimators=200..............\n",
            "[CV 4/5; 7/50] END criterion=gini, max_depth=2, n_estimators=200;, score=0.800 total time=   0.6s\n",
            "[CV 5/5; 7/50] START criterion=gini, max_depth=2, n_estimators=200..............\n",
            "[CV 5/5; 7/50] END criterion=gini, max_depth=2, n_estimators=200;, score=0.802 total time=   0.6s\n",
            "[CV 1/5; 8/50] START criterion=gini, max_depth=2, n_estimators=300..............\n",
            "[CV 1/5; 8/50] END criterion=gini, max_depth=2, n_estimators=300;, score=0.785 total time=   0.9s\n",
            "[CV 2/5; 8/50] START criterion=gini, max_depth=2, n_estimators=300..............\n",
            "[CV 2/5; 8/50] END criterion=gini, max_depth=2, n_estimators=300;, score=0.800 total time=   0.9s\n",
            "[CV 3/5; 8/50] START criterion=gini, max_depth=2, n_estimators=300..............\n",
            "[CV 3/5; 8/50] END criterion=gini, max_depth=2, n_estimators=300;, score=0.783 total time=   0.9s\n",
            "[CV 4/5; 8/50] START criterion=gini, max_depth=2, n_estimators=300..............\n",
            "[CV 4/5; 8/50] END criterion=gini, max_depth=2, n_estimators=300;, score=0.800 total time=   0.9s\n",
            "[CV 5/5; 8/50] START criterion=gini, max_depth=2, n_estimators=300..............\n",
            "[CV 5/5; 8/50] END criterion=gini, max_depth=2, n_estimators=300;, score=0.802 total time=   0.9s\n",
            "[CV 1/5; 9/50] START criterion=gini, max_depth=2, n_estimators=400..............\n",
            "[CV 1/5; 9/50] END criterion=gini, max_depth=2, n_estimators=400;, score=0.785 total time=   1.1s\n",
            "[CV 2/5; 9/50] START criterion=gini, max_depth=2, n_estimators=400..............\n",
            "[CV 2/5; 9/50] END criterion=gini, max_depth=2, n_estimators=400;, score=0.800 total time=   1.1s\n",
            "[CV 3/5; 9/50] START criterion=gini, max_depth=2, n_estimators=400..............\n",
            "[CV 3/5; 9/50] END criterion=gini, max_depth=2, n_estimators=400;, score=0.783 total time=   1.1s\n",
            "[CV 4/5; 9/50] START criterion=gini, max_depth=2, n_estimators=400..............\n",
            "[CV 4/5; 9/50] END criterion=gini, max_depth=2, n_estimators=400;, score=0.800 total time=   1.1s\n",
            "[CV 5/5; 9/50] START criterion=gini, max_depth=2, n_estimators=400..............\n",
            "[CV 5/5; 9/50] END criterion=gini, max_depth=2, n_estimators=400;, score=0.802 total time=   1.1s\n",
            "[CV 1/5; 10/50] START criterion=gini, max_depth=2, n_estimators=500.............\n",
            "[CV 1/5; 10/50] END criterion=gini, max_depth=2, n_estimators=500;, score=0.785 total time=   1.3s\n",
            "[CV 2/5; 10/50] START criterion=gini, max_depth=2, n_estimators=500.............\n",
            "[CV 2/5; 10/50] END criterion=gini, max_depth=2, n_estimators=500;, score=0.800 total time=   1.3s\n",
            "[CV 3/5; 10/50] START criterion=gini, max_depth=2, n_estimators=500.............\n",
            "[CV 3/5; 10/50] END criterion=gini, max_depth=2, n_estimators=500;, score=0.783 total time=   1.3s\n",
            "[CV 4/5; 10/50] START criterion=gini, max_depth=2, n_estimators=500.............\n",
            "[CV 4/5; 10/50] END criterion=gini, max_depth=2, n_estimators=500;, score=0.800 total time=   1.3s\n",
            "[CV 5/5; 10/50] START criterion=gini, max_depth=2, n_estimators=500.............\n",
            "[CV 5/5; 10/50] END criterion=gini, max_depth=2, n_estimators=500;, score=0.802 total time=   2.0s\n",
            "[CV 1/5; 11/50] START criterion=gini, max_depth=3, n_estimators=100.............\n",
            "[CV 1/5; 11/50] END criterion=gini, max_depth=3, n_estimators=100;, score=0.785 total time=   0.6s\n",
            "[CV 2/5; 11/50] START criterion=gini, max_depth=3, n_estimators=100.............\n",
            "[CV 2/5; 11/50] END criterion=gini, max_depth=3, n_estimators=100;, score=0.800 total time=   0.4s\n",
            "[CV 3/5; 11/50] START criterion=gini, max_depth=3, n_estimators=100.............\n",
            "[CV 3/5; 11/50] END criterion=gini, max_depth=3, n_estimators=100;, score=0.784 total time=   0.4s\n",
            "[CV 4/5; 11/50] START criterion=gini, max_depth=3, n_estimators=100.............\n",
            "[CV 4/5; 11/50] END criterion=gini, max_depth=3, n_estimators=100;, score=0.800 total time=   0.4s\n",
            "[CV 5/5; 11/50] START criterion=gini, max_depth=3, n_estimators=100.............\n",
            "[CV 5/5; 11/50] END criterion=gini, max_depth=3, n_estimators=100;, score=0.806 total time=   0.4s\n",
            "[CV 1/5; 12/50] START criterion=gini, max_depth=3, n_estimators=200.............\n",
            "[CV 1/5; 12/50] END criterion=gini, max_depth=3, n_estimators=200;, score=0.792 total time=   0.6s\n",
            "[CV 2/5; 12/50] START criterion=gini, max_depth=3, n_estimators=200.............\n",
            "[CV 2/5; 12/50] END criterion=gini, max_depth=3, n_estimators=200;, score=0.800 total time=   0.6s\n",
            "[CV 3/5; 12/50] START criterion=gini, max_depth=3, n_estimators=200.............\n",
            "[CV 3/5; 12/50] END criterion=gini, max_depth=3, n_estimators=200;, score=0.783 total time=   0.6s\n",
            "[CV 4/5; 12/50] START criterion=gini, max_depth=3, n_estimators=200.............\n",
            "[CV 4/5; 12/50] END criterion=gini, max_depth=3, n_estimators=200;, score=0.800 total time=   0.6s\n",
            "[CV 5/5; 12/50] START criterion=gini, max_depth=3, n_estimators=200.............\n",
            "[CV 5/5; 12/50] END criterion=gini, max_depth=3, n_estimators=200;, score=0.802 total time=   0.6s\n",
            "[CV 1/5; 13/50] START criterion=gini, max_depth=3, n_estimators=300.............\n",
            "[CV 1/5; 13/50] END criterion=gini, max_depth=3, n_estimators=300;, score=0.785 total time=   0.9s\n",
            "[CV 2/5; 13/50] START criterion=gini, max_depth=3, n_estimators=300.............\n",
            "[CV 2/5; 13/50] END criterion=gini, max_depth=3, n_estimators=300;, score=0.800 total time=   1.0s\n",
            "[CV 3/5; 13/50] START criterion=gini, max_depth=3, n_estimators=300.............\n",
            "[CV 3/5; 13/50] END criterion=gini, max_depth=3, n_estimators=300;, score=0.783 total time=   0.9s\n",
            "[CV 4/5; 13/50] START criterion=gini, max_depth=3, n_estimators=300.............\n",
            "[CV 4/5; 13/50] END criterion=gini, max_depth=3, n_estimators=300;, score=0.800 total time=   1.0s\n",
            "[CV 5/5; 13/50] START criterion=gini, max_depth=3, n_estimators=300.............\n",
            "[CV 5/5; 13/50] END criterion=gini, max_depth=3, n_estimators=300;, score=0.802 total time=   1.0s\n",
            "[CV 1/5; 14/50] START criterion=gini, max_depth=3, n_estimators=400.............\n",
            "[CV 1/5; 14/50] END criterion=gini, max_depth=3, n_estimators=400;, score=0.785 total time=   1.2s\n",
            "[CV 2/5; 14/50] START criterion=gini, max_depth=3, n_estimators=400.............\n",
            "[CV 2/5; 14/50] END criterion=gini, max_depth=3, n_estimators=400;, score=0.800 total time=   1.2s\n",
            "[CV 3/5; 14/50] START criterion=gini, max_depth=3, n_estimators=400.............\n",
            "[CV 3/5; 14/50] END criterion=gini, max_depth=3, n_estimators=400;, score=0.783 total time=   1.1s\n",
            "[CV 4/5; 14/50] START criterion=gini, max_depth=3, n_estimators=400.............\n",
            "[CV 4/5; 14/50] END criterion=gini, max_depth=3, n_estimators=400;, score=0.800 total time=   1.2s\n",
            "[CV 5/5; 14/50] START criterion=gini, max_depth=3, n_estimators=400.............\n",
            "[CV 5/5; 14/50] END criterion=gini, max_depth=3, n_estimators=400;, score=0.802 total time=   1.1s\n",
            "[CV 1/5; 15/50] START criterion=gini, max_depth=3, n_estimators=500.............\n",
            "[CV 1/5; 15/50] END criterion=gini, max_depth=3, n_estimators=500;, score=0.785 total time=   1.3s\n",
            "[CV 2/5; 15/50] START criterion=gini, max_depth=3, n_estimators=500.............\n",
            "[CV 2/5; 15/50] END criterion=gini, max_depth=3, n_estimators=500;, score=0.800 total time=   1.5s\n",
            "[CV 3/5; 15/50] START criterion=gini, max_depth=3, n_estimators=500.............\n",
            "[CV 3/5; 15/50] END criterion=gini, max_depth=3, n_estimators=500;, score=0.783 total time=   1.4s\n",
            "[CV 4/5; 15/50] START criterion=gini, max_depth=3, n_estimators=500.............\n",
            "[CV 4/5; 15/50] END criterion=gini, max_depth=3, n_estimators=500;, score=0.800 total time=   1.4s\n",
            "[CV 5/5; 15/50] START criterion=gini, max_depth=3, n_estimators=500.............\n",
            "[CV 5/5; 15/50] END criterion=gini, max_depth=3, n_estimators=500;, score=0.801 total time=   1.4s\n",
            "[CV 1/5; 16/50] START criterion=gini, max_depth=4, n_estimators=100.............\n",
            "[CV 1/5; 16/50] END criterion=gini, max_depth=4, n_estimators=100;, score=0.800 total time=   0.4s\n",
            "[CV 2/5; 16/50] START criterion=gini, max_depth=4, n_estimators=100.............\n",
            "[CV 2/5; 16/50] END criterion=gini, max_depth=4, n_estimators=100;, score=0.812 total time=   0.4s\n",
            "[CV 3/5; 16/50] START criterion=gini, max_depth=4, n_estimators=100.............\n",
            "[CV 3/5; 16/50] END criterion=gini, max_depth=4, n_estimators=100;, score=0.793 total time=   0.4s\n",
            "[CV 4/5; 16/50] START criterion=gini, max_depth=4, n_estimators=100.............\n",
            "[CV 4/5; 16/50] END criterion=gini, max_depth=4, n_estimators=100;, score=0.809 total time=   0.4s\n",
            "[CV 5/5; 16/50] START criterion=gini, max_depth=4, n_estimators=100.............\n",
            "[CV 5/5; 16/50] END criterion=gini, max_depth=4, n_estimators=100;, score=0.819 total time=   0.4s\n",
            "[CV 1/5; 17/50] START criterion=gini, max_depth=4, n_estimators=200.............\n",
            "[CV 1/5; 17/50] END criterion=gini, max_depth=4, n_estimators=200;, score=0.801 total time=   0.6s\n",
            "[CV 2/5; 17/50] START criterion=gini, max_depth=4, n_estimators=200.............\n",
            "[CV 2/5; 17/50] END criterion=gini, max_depth=4, n_estimators=200;, score=0.809 total time=   0.6s\n",
            "[CV 3/5; 17/50] START criterion=gini, max_depth=4, n_estimators=200.............\n",
            "[CV 3/5; 17/50] END criterion=gini, max_depth=4, n_estimators=200;, score=0.792 total time=   0.6s\n",
            "[CV 4/5; 17/50] START criterion=gini, max_depth=4, n_estimators=200.............\n",
            "[CV 4/5; 17/50] END criterion=gini, max_depth=4, n_estimators=200;, score=0.806 total time=   0.6s\n",
            "[CV 5/5; 17/50] START criterion=gini, max_depth=4, n_estimators=200.............\n",
            "[CV 5/5; 17/50] END criterion=gini, max_depth=4, n_estimators=200;, score=0.811 total time=   0.6s\n",
            "[CV 1/5; 18/50] START criterion=gini, max_depth=4, n_estimators=300.............\n",
            "[CV 1/5; 18/50] END criterion=gini, max_depth=4, n_estimators=300;, score=0.796 total time=   1.0s\n",
            "[CV 2/5; 18/50] START criterion=gini, max_depth=4, n_estimators=300.............\n",
            "[CV 2/5; 18/50] END criterion=gini, max_depth=4, n_estimators=300;, score=0.810 total time=   1.0s\n",
            "[CV 3/5; 18/50] START criterion=gini, max_depth=4, n_estimators=300.............\n",
            "[CV 3/5; 18/50] END criterion=gini, max_depth=4, n_estimators=300;, score=0.812 total time=   1.0s\n",
            "[CV 4/5; 18/50] START criterion=gini, max_depth=4, n_estimators=300.............\n",
            "[CV 4/5; 18/50] END criterion=gini, max_depth=4, n_estimators=300;, score=0.805 total time=   1.0s\n",
            "[CV 5/5; 18/50] START criterion=gini, max_depth=4, n_estimators=300.............\n",
            "[CV 5/5; 18/50] END criterion=gini, max_depth=4, n_estimators=300;, score=0.820 total time=   1.0s\n",
            "[CV 1/5; 19/50] START criterion=gini, max_depth=4, n_estimators=400.............\n",
            "[CV 1/5; 19/50] END criterion=gini, max_depth=4, n_estimators=400;, score=0.798 total time=   1.2s\n",
            "[CV 2/5; 19/50] START criterion=gini, max_depth=4, n_estimators=400.............\n",
            "[CV 2/5; 19/50] END criterion=gini, max_depth=4, n_estimators=400;, score=0.810 total time=   1.2s\n",
            "[CV 3/5; 19/50] START criterion=gini, max_depth=4, n_estimators=400.............\n",
            "[CV 3/5; 19/50] END criterion=gini, max_depth=4, n_estimators=400;, score=0.792 total time=   1.2s\n",
            "[CV 4/5; 19/50] START criterion=gini, max_depth=4, n_estimators=400.............\n",
            "[CV 4/5; 19/50] END criterion=gini, max_depth=4, n_estimators=400;, score=0.811 total time=   1.3s\n",
            "[CV 5/5; 19/50] START criterion=gini, max_depth=4, n_estimators=400.............\n",
            "[CV 5/5; 19/50] END criterion=gini, max_depth=4, n_estimators=400;, score=0.817 total time=   2.2s\n",
            "[CV 1/5; 20/50] START criterion=gini, max_depth=4, n_estimators=500.............\n",
            "[CV 1/5; 20/50] END criterion=gini, max_depth=4, n_estimators=500;, score=0.797 total time=   1.6s\n",
            "[CV 2/5; 20/50] START criterion=gini, max_depth=4, n_estimators=500.............\n",
            "[CV 2/5; 20/50] END criterion=gini, max_depth=4, n_estimators=500;, score=0.809 total time=   1.9s\n",
            "[CV 3/5; 20/50] START criterion=gini, max_depth=4, n_estimators=500.............\n",
            "[CV 3/5; 20/50] END criterion=gini, max_depth=4, n_estimators=500;, score=0.797 total time=   1.9s\n",
            "[CV 4/5; 20/50] START criterion=gini, max_depth=4, n_estimators=500.............\n",
            "[CV 4/5; 20/50] END criterion=gini, max_depth=4, n_estimators=500;, score=0.805 total time=   1.4s\n",
            "[CV 5/5; 20/50] START criterion=gini, max_depth=4, n_estimators=500.............\n",
            "[CV 5/5; 20/50] END criterion=gini, max_depth=4, n_estimators=500;, score=0.815 total time=   1.4s\n",
            "[CV 1/5; 21/50] START criterion=gini, max_depth=5, n_estimators=100.............\n",
            "[CV 1/5; 21/50] END criterion=gini, max_depth=5, n_estimators=100;, score=0.817 total time=   0.4s\n",
            "[CV 2/5; 21/50] START criterion=gini, max_depth=5, n_estimators=100.............\n",
            "[CV 2/5; 21/50] END criterion=gini, max_depth=5, n_estimators=100;, score=0.837 total time=   0.4s\n",
            "[CV 3/5; 21/50] START criterion=gini, max_depth=5, n_estimators=100.............\n",
            "[CV 3/5; 21/50] END criterion=gini, max_depth=5, n_estimators=100;, score=0.829 total time=   0.4s\n",
            "[CV 4/5; 21/50] START criterion=gini, max_depth=5, n_estimators=100.............\n",
            "[CV 4/5; 21/50] END criterion=gini, max_depth=5, n_estimators=100;, score=0.841 total time=   0.4s\n",
            "[CV 5/5; 21/50] START criterion=gini, max_depth=5, n_estimators=100.............\n",
            "[CV 5/5; 21/50] END criterion=gini, max_depth=5, n_estimators=100;, score=0.837 total time=   0.4s\n",
            "[CV 1/5; 22/50] START criterion=gini, max_depth=5, n_estimators=200.............\n",
            "[CV 1/5; 22/50] END criterion=gini, max_depth=5, n_estimators=200;, score=0.821 total time=   0.7s\n",
            "[CV 2/5; 22/50] START criterion=gini, max_depth=5, n_estimators=200.............\n",
            "[CV 2/5; 22/50] END criterion=gini, max_depth=5, n_estimators=200;, score=0.837 total time=   0.6s\n",
            "[CV 3/5; 22/50] START criterion=gini, max_depth=5, n_estimators=200.............\n",
            "[CV 3/5; 22/50] END criterion=gini, max_depth=5, n_estimators=200;, score=0.836 total time=   0.6s\n",
            "[CV 4/5; 22/50] START criterion=gini, max_depth=5, n_estimators=200.............\n",
            "[CV 4/5; 22/50] END criterion=gini, max_depth=5, n_estimators=200;, score=0.832 total time=   0.6s\n",
            "[CV 5/5; 22/50] START criterion=gini, max_depth=5, n_estimators=200.............\n",
            "[CV 5/5; 22/50] END criterion=gini, max_depth=5, n_estimators=200;, score=0.841 total time=   0.6s\n",
            "[CV 1/5; 23/50] START criterion=gini, max_depth=5, n_estimators=300.............\n",
            "[CV 1/5; 23/50] END criterion=gini, max_depth=5, n_estimators=300;, score=0.818 total time=   1.0s\n",
            "[CV 2/5; 23/50] START criterion=gini, max_depth=5, n_estimators=300.............\n",
            "[CV 2/5; 23/50] END criterion=gini, max_depth=5, n_estimators=300;, score=0.847 total time=   1.0s\n",
            "[CV 3/5; 23/50] START criterion=gini, max_depth=5, n_estimators=300.............\n",
            "[CV 3/5; 23/50] END criterion=gini, max_depth=5, n_estimators=300;, score=0.841 total time=   1.0s\n",
            "[CV 4/5; 23/50] START criterion=gini, max_depth=5, n_estimators=300.............\n",
            "[CV 4/5; 23/50] END criterion=gini, max_depth=5, n_estimators=300;, score=0.832 total time=   1.0s\n",
            "[CV 5/5; 23/50] START criterion=gini, max_depth=5, n_estimators=300.............\n",
            "[CV 5/5; 23/50] END criterion=gini, max_depth=5, n_estimators=300;, score=0.841 total time=   1.0s\n",
            "[CV 1/5; 24/50] START criterion=gini, max_depth=5, n_estimators=400.............\n",
            "[CV 1/5; 24/50] END criterion=gini, max_depth=5, n_estimators=400;, score=0.816 total time=   1.2s\n",
            "[CV 2/5; 24/50] START criterion=gini, max_depth=5, n_estimators=400.............\n",
            "[CV 2/5; 24/50] END criterion=gini, max_depth=5, n_estimators=400;, score=0.842 total time=   1.2s\n",
            "[CV 3/5; 24/50] START criterion=gini, max_depth=5, n_estimators=400.............\n",
            "[CV 3/5; 24/50] END criterion=gini, max_depth=5, n_estimators=400;, score=0.838 total time=   1.2s\n",
            "[CV 4/5; 24/50] START criterion=gini, max_depth=5, n_estimators=400.............\n",
            "[CV 4/5; 24/50] END criterion=gini, max_depth=5, n_estimators=400;, score=0.833 total time=   1.2s\n",
            "[CV 5/5; 24/50] START criterion=gini, max_depth=5, n_estimators=400.............\n",
            "[CV 5/5; 24/50] END criterion=gini, max_depth=5, n_estimators=400;, score=0.835 total time=   1.2s\n",
            "[CV 1/5; 25/50] START criterion=gini, max_depth=5, n_estimators=500.............\n",
            "[CV 1/5; 25/50] END criterion=gini, max_depth=5, n_estimators=500;, score=0.817 total time=   1.4s\n",
            "[CV 2/5; 25/50] START criterion=gini, max_depth=5, n_estimators=500.............\n",
            "[CV 2/5; 25/50] END criterion=gini, max_depth=5, n_estimators=500;, score=0.845 total time=   1.6s\n",
            "[CV 3/5; 25/50] START criterion=gini, max_depth=5, n_estimators=500.............\n",
            "[CV 3/5; 25/50] END criterion=gini, max_depth=5, n_estimators=500;, score=0.835 total time=   1.6s\n",
            "[CV 4/5; 25/50] START criterion=gini, max_depth=5, n_estimators=500.............\n",
            "[CV 4/5; 25/50] END criterion=gini, max_depth=5, n_estimators=500;, score=0.837 total time=   1.4s\n",
            "[CV 5/5; 25/50] START criterion=gini, max_depth=5, n_estimators=500.............\n",
            "[CV 5/5; 25/50] END criterion=gini, max_depth=5, n_estimators=500;, score=0.841 total time=   1.5s\n",
            "[CV 1/5; 26/50] START criterion=entropy, max_depth=1, n_estimators=100..........\n",
            "[CV 1/5; 26/50] END criterion=entropy, max_depth=1, n_estimators=100;, score=0.723 total time=   0.4s\n",
            "[CV 2/5; 26/50] START criterion=entropy, max_depth=1, n_estimators=100..........\n",
            "[CV 2/5; 26/50] END criterion=entropy, max_depth=1, n_estimators=100;, score=0.733 total time=   0.4s\n",
            "[CV 3/5; 26/50] START criterion=entropy, max_depth=1, n_estimators=100..........\n",
            "[CV 3/5; 26/50] END criterion=entropy, max_depth=1, n_estimators=100;, score=0.710 total time=   0.4s\n",
            "[CV 4/5; 26/50] START criterion=entropy, max_depth=1, n_estimators=100..........\n",
            "[CV 4/5; 26/50] END criterion=entropy, max_depth=1, n_estimators=100;, score=0.742 total time=   0.4s\n",
            "[CV 5/5; 26/50] START criterion=entropy, max_depth=1, n_estimators=100..........\n",
            "[CV 5/5; 26/50] END criterion=entropy, max_depth=1, n_estimators=100;, score=0.698 total time=   0.4s\n",
            "[CV 1/5; 27/50] START criterion=entropy, max_depth=1, n_estimators=200..........\n",
            "[CV 1/5; 27/50] END criterion=entropy, max_depth=1, n_estimators=200;, score=0.723 total time=   0.6s\n",
            "[CV 2/5; 27/50] START criterion=entropy, max_depth=1, n_estimators=200..........\n",
            "[CV 2/5; 27/50] END criterion=entropy, max_depth=1, n_estimators=200;, score=0.733 total time=   0.6s\n",
            "[CV 3/5; 27/50] START criterion=entropy, max_depth=1, n_estimators=200..........\n",
            "[CV 3/5; 27/50] END criterion=entropy, max_depth=1, n_estimators=200;, score=0.723 total time=   0.6s\n",
            "[CV 4/5; 27/50] START criterion=entropy, max_depth=1, n_estimators=200..........\n",
            "[CV 4/5; 27/50] END criterion=entropy, max_depth=1, n_estimators=200;, score=0.742 total time=   0.6s\n",
            "[CV 5/5; 27/50] START criterion=entropy, max_depth=1, n_estimators=200..........\n",
            "[CV 5/5; 27/50] END criterion=entropy, max_depth=1, n_estimators=200;, score=0.744 total time=   0.6s\n",
            "[CV 1/5; 28/50] START criterion=entropy, max_depth=1, n_estimators=300..........\n",
            "[CV 1/5; 28/50] END criterion=entropy, max_depth=1, n_estimators=300;, score=0.723 total time=   1.2s\n",
            "[CV 2/5; 28/50] START criterion=entropy, max_depth=1, n_estimators=300..........\n",
            "[CV 2/5; 28/50] END criterion=entropy, max_depth=1, n_estimators=300;, score=0.733 total time=   1.5s\n",
            "[CV 3/5; 28/50] START criterion=entropy, max_depth=1, n_estimators=300..........\n",
            "[CV 3/5; 28/50] END criterion=entropy, max_depth=1, n_estimators=300;, score=0.708 total time=   0.9s\n",
            "[CV 4/5; 28/50] START criterion=entropy, max_depth=1, n_estimators=300..........\n",
            "[CV 4/5; 28/50] END criterion=entropy, max_depth=1, n_estimators=300;, score=0.742 total time=   0.9s\n",
            "[CV 5/5; 28/50] START criterion=entropy, max_depth=1, n_estimators=300..........\n",
            "[CV 5/5; 28/50] END criterion=entropy, max_depth=1, n_estimators=300;, score=0.744 total time=   0.9s\n",
            "[CV 1/5; 29/50] START criterion=entropy, max_depth=1, n_estimators=400..........\n",
            "[CV 1/5; 29/50] END criterion=entropy, max_depth=1, n_estimators=400;, score=0.723 total time=   1.1s\n",
            "[CV 2/5; 29/50] START criterion=entropy, max_depth=1, n_estimators=400..........\n",
            "[CV 2/5; 29/50] END criterion=entropy, max_depth=1, n_estimators=400;, score=0.733 total time=   1.1s\n",
            "[CV 3/5; 29/50] START criterion=entropy, max_depth=1, n_estimators=400..........\n",
            "[CV 3/5; 29/50] END criterion=entropy, max_depth=1, n_estimators=400;, score=0.723 total time=   1.1s\n",
            "[CV 4/5; 29/50] START criterion=entropy, max_depth=1, n_estimators=400..........\n",
            "[CV 4/5; 29/50] END criterion=entropy, max_depth=1, n_estimators=400;, score=0.697 total time=   1.1s\n",
            "[CV 5/5; 29/50] START criterion=entropy, max_depth=1, n_estimators=400..........\n",
            "[CV 5/5; 29/50] END criterion=entropy, max_depth=1, n_estimators=400;, score=0.744 total time=   1.1s\n",
            "[CV 1/5; 30/50] START criterion=entropy, max_depth=1, n_estimators=500..........\n",
            "[CV 1/5; 30/50] END criterion=entropy, max_depth=1, n_estimators=500;, score=0.685 total time=   1.3s\n",
            "[CV 2/5; 30/50] START criterion=entropy, max_depth=1, n_estimators=500..........\n",
            "[CV 2/5; 30/50] END criterion=entropy, max_depth=1, n_estimators=500;, score=0.733 total time=   1.3s\n",
            "[CV 3/5; 30/50] START criterion=entropy, max_depth=1, n_estimators=500..........\n",
            "[CV 3/5; 30/50] END criterion=entropy, max_depth=1, n_estimators=500;, score=0.723 total time=   1.3s\n",
            "[CV 4/5; 30/50] START criterion=entropy, max_depth=1, n_estimators=500..........\n",
            "[CV 4/5; 30/50] END criterion=entropy, max_depth=1, n_estimators=500;, score=0.742 total time=   1.3s\n",
            "[CV 5/5; 30/50] START criterion=entropy, max_depth=1, n_estimators=500..........\n",
            "[CV 5/5; 30/50] END criterion=entropy, max_depth=1, n_estimators=500;, score=0.744 total time=   1.3s\n",
            "[CV 1/5; 31/50] START criterion=entropy, max_depth=2, n_estimators=100..........\n",
            "[CV 1/5; 31/50] END criterion=entropy, max_depth=2, n_estimators=100;, score=0.785 total time=   0.4s\n",
            "[CV 2/5; 31/50] START criterion=entropy, max_depth=2, n_estimators=100..........\n",
            "[CV 2/5; 31/50] END criterion=entropy, max_depth=2, n_estimators=100;, score=0.800 total time=   0.4s\n",
            "[CV 3/5; 31/50] START criterion=entropy, max_depth=2, n_estimators=100..........\n",
            "[CV 3/5; 31/50] END criterion=entropy, max_depth=2, n_estimators=100;, score=0.783 total time=   0.4s\n",
            "[CV 4/5; 31/50] START criterion=entropy, max_depth=2, n_estimators=100..........\n",
            "[CV 4/5; 31/50] END criterion=entropy, max_depth=2, n_estimators=100;, score=0.800 total time=   0.4s\n",
            "[CV 5/5; 31/50] START criterion=entropy, max_depth=2, n_estimators=100..........\n",
            "[CV 5/5; 31/50] END criterion=entropy, max_depth=2, n_estimators=100;, score=0.802 total time=   0.4s\n",
            "[CV 1/5; 32/50] START criterion=entropy, max_depth=2, n_estimators=200..........\n",
            "[CV 1/5; 32/50] END criterion=entropy, max_depth=2, n_estimators=200;, score=0.785 total time=   0.6s\n",
            "[CV 2/5; 32/50] START criterion=entropy, max_depth=2, n_estimators=200..........\n",
            "[CV 2/5; 32/50] END criterion=entropy, max_depth=2, n_estimators=200;, score=0.800 total time=   0.6s\n",
            "[CV 3/5; 32/50] START criterion=entropy, max_depth=2, n_estimators=200..........\n",
            "[CV 3/5; 32/50] END criterion=entropy, max_depth=2, n_estimators=200;, score=0.783 total time=   0.6s\n",
            "[CV 4/5; 32/50] START criterion=entropy, max_depth=2, n_estimators=200..........\n",
            "[CV 4/5; 32/50] END criterion=entropy, max_depth=2, n_estimators=200;, score=0.800 total time=   0.6s\n",
            "[CV 5/5; 32/50] START criterion=entropy, max_depth=2, n_estimators=200..........\n",
            "[CV 5/5; 32/50] END criterion=entropy, max_depth=2, n_estimators=200;, score=0.802 total time=   0.6s\n",
            "[CV 1/5; 33/50] START criterion=entropy, max_depth=2, n_estimators=300..........\n",
            "[CV 1/5; 33/50] END criterion=entropy, max_depth=2, n_estimators=300;, score=0.785 total time=   0.9s\n",
            "[CV 2/5; 33/50] START criterion=entropy, max_depth=2, n_estimators=300..........\n",
            "[CV 2/5; 33/50] END criterion=entropy, max_depth=2, n_estimators=300;, score=0.800 total time=   0.9s\n",
            "[CV 3/5; 33/50] START criterion=entropy, max_depth=2, n_estimators=300..........\n",
            "[CV 3/5; 33/50] END criterion=entropy, max_depth=2, n_estimators=300;, score=0.783 total time=   0.9s\n",
            "[CV 4/5; 33/50] START criterion=entropy, max_depth=2, n_estimators=300..........\n",
            "[CV 4/5; 33/50] END criterion=entropy, max_depth=2, n_estimators=300;, score=0.800 total time=   1.0s\n",
            "[CV 5/5; 33/50] START criterion=entropy, max_depth=2, n_estimators=300..........\n",
            "[CV 5/5; 33/50] END criterion=entropy, max_depth=2, n_estimators=300;, score=0.802 total time=   0.9s\n",
            "[CV 1/5; 34/50] START criterion=entropy, max_depth=2, n_estimators=400..........\n",
            "[CV 1/5; 34/50] END criterion=entropy, max_depth=2, n_estimators=400;, score=0.785 total time=   1.1s\n",
            "[CV 2/5; 34/50] START criterion=entropy, max_depth=2, n_estimators=400..........\n",
            "[CV 2/5; 34/50] END criterion=entropy, max_depth=2, n_estimators=400;, score=0.800 total time=   1.1s\n",
            "[CV 3/5; 34/50] START criterion=entropy, max_depth=2, n_estimators=400..........\n",
            "[CV 3/5; 34/50] END criterion=entropy, max_depth=2, n_estimators=400;, score=0.783 total time=   1.2s\n",
            "[CV 4/5; 34/50] START criterion=entropy, max_depth=2, n_estimators=400..........\n",
            "[CV 4/5; 34/50] END criterion=entropy, max_depth=2, n_estimators=400;, score=0.800 total time=   1.1s\n",
            "[CV 5/5; 34/50] START criterion=entropy, max_depth=2, n_estimators=400..........\n",
            "[CV 5/5; 34/50] END criterion=entropy, max_depth=2, n_estimators=400;, score=0.802 total time=   1.2s\n",
            "[CV 1/5; 35/50] START criterion=entropy, max_depth=2, n_estimators=500..........\n",
            "[CV 1/5; 35/50] END criterion=entropy, max_depth=2, n_estimators=500;, score=0.785 total time=   1.3s\n",
            "[CV 2/5; 35/50] START criterion=entropy, max_depth=2, n_estimators=500..........\n",
            "[CV 2/5; 35/50] END criterion=entropy, max_depth=2, n_estimators=500;, score=0.800 total time=   1.4s\n",
            "[CV 3/5; 35/50] START criterion=entropy, max_depth=2, n_estimators=500..........\n",
            "[CV 3/5; 35/50] END criterion=entropy, max_depth=2, n_estimators=500;, score=0.783 total time=   1.3s\n",
            "[CV 4/5; 35/50] START criterion=entropy, max_depth=2, n_estimators=500..........\n",
            "[CV 4/5; 35/50] END criterion=entropy, max_depth=2, n_estimators=500;, score=0.800 total time=   1.3s\n",
            "[CV 5/5; 35/50] START criterion=entropy, max_depth=2, n_estimators=500..........\n",
            "[CV 5/5; 35/50] END criterion=entropy, max_depth=2, n_estimators=500;, score=0.802 total time=   1.3s\n",
            "[CV 1/5; 36/50] START criterion=entropy, max_depth=3, n_estimators=100..........\n",
            "[CV 1/5; 36/50] END criterion=entropy, max_depth=3, n_estimators=100;, score=0.787 total time=   0.7s\n",
            "[CV 2/5; 36/50] START criterion=entropy, max_depth=3, n_estimators=100..........\n",
            "[CV 2/5; 36/50] END criterion=entropy, max_depth=3, n_estimators=100;, score=0.800 total time=   0.7s\n",
            "[CV 3/5; 36/50] START criterion=entropy, max_depth=3, n_estimators=100..........\n",
            "[CV 3/5; 36/50] END criterion=entropy, max_depth=3, n_estimators=100;, score=0.783 total time=   0.6s\n",
            "[CV 4/5; 36/50] START criterion=entropy, max_depth=3, n_estimators=100..........\n",
            "[CV 4/5; 36/50] END criterion=entropy, max_depth=3, n_estimators=100;, score=0.800 total time=   0.4s\n",
            "[CV 5/5; 36/50] START criterion=entropy, max_depth=3, n_estimators=100..........\n",
            "[CV 5/5; 36/50] END criterion=entropy, max_depth=3, n_estimators=100;, score=0.802 total time=   0.4s\n",
            "[CV 1/5; 37/50] START criterion=entropy, max_depth=3, n_estimators=200..........\n",
            "[CV 1/5; 37/50] END criterion=entropy, max_depth=3, n_estimators=200;, score=0.785 total time=   0.6s\n",
            "[CV 2/5; 37/50] START criterion=entropy, max_depth=3, n_estimators=200..........\n",
            "[CV 2/5; 37/50] END criterion=entropy, max_depth=3, n_estimators=200;, score=0.800 total time=   0.6s\n",
            "[CV 3/5; 37/50] START criterion=entropy, max_depth=3, n_estimators=200..........\n",
            "[CV 3/5; 37/50] END criterion=entropy, max_depth=3, n_estimators=200;, score=0.784 total time=   0.6s\n",
            "[CV 4/5; 37/50] START criterion=entropy, max_depth=3, n_estimators=200..........\n",
            "[CV 4/5; 37/50] END criterion=entropy, max_depth=3, n_estimators=200;, score=0.800 total time=   0.6s\n",
            "[CV 5/5; 37/50] START criterion=entropy, max_depth=3, n_estimators=200..........\n",
            "[CV 5/5; 37/50] END criterion=entropy, max_depth=3, n_estimators=200;, score=0.802 total time=   0.6s\n",
            "[CV 1/5; 38/50] START criterion=entropy, max_depth=3, n_estimators=300..........\n",
            "[CV 1/5; 38/50] END criterion=entropy, max_depth=3, n_estimators=300;, score=0.785 total time=   1.0s\n",
            "[CV 2/5; 38/50] START criterion=entropy, max_depth=3, n_estimators=300..........\n",
            "[CV 2/5; 38/50] END criterion=entropy, max_depth=3, n_estimators=300;, score=0.801 total time=   1.0s\n",
            "[CV 3/5; 38/50] START criterion=entropy, max_depth=3, n_estimators=300..........\n",
            "[CV 3/5; 38/50] END criterion=entropy, max_depth=3, n_estimators=300;, score=0.783 total time=   1.0s\n",
            "[CV 4/5; 38/50] START criterion=entropy, max_depth=3, n_estimators=300..........\n",
            "[CV 4/5; 38/50] END criterion=entropy, max_depth=3, n_estimators=300;, score=0.800 total time=   0.9s\n",
            "[CV 5/5; 38/50] START criterion=entropy, max_depth=3, n_estimators=300..........\n",
            "[CV 5/5; 38/50] END criterion=entropy, max_depth=3, n_estimators=300;, score=0.802 total time=   0.9s\n",
            "[CV 1/5; 39/50] START criterion=entropy, max_depth=3, n_estimators=400..........\n",
            "[CV 1/5; 39/50] END criterion=entropy, max_depth=3, n_estimators=400;, score=0.785 total time=   1.2s\n",
            "[CV 2/5; 39/50] START criterion=entropy, max_depth=3, n_estimators=400..........\n",
            "[CV 2/5; 39/50] END criterion=entropy, max_depth=3, n_estimators=400;, score=0.800 total time=   1.2s\n",
            "[CV 3/5; 39/50] START criterion=entropy, max_depth=3, n_estimators=400..........\n",
            "[CV 3/5; 39/50] END criterion=entropy, max_depth=3, n_estimators=400;, score=0.783 total time=   1.2s\n",
            "[CV 4/5; 39/50] START criterion=entropy, max_depth=3, n_estimators=400..........\n",
            "[CV 4/5; 39/50] END criterion=entropy, max_depth=3, n_estimators=400;, score=0.800 total time=   1.2s\n",
            "[CV 5/5; 39/50] START criterion=entropy, max_depth=3, n_estimators=400..........\n",
            "[CV 5/5; 39/50] END criterion=entropy, max_depth=3, n_estimators=400;, score=0.802 total time=   1.1s\n",
            "[CV 1/5; 40/50] START criterion=entropy, max_depth=3, n_estimators=500..........\n",
            "[CV 1/5; 40/50] END criterion=entropy, max_depth=3, n_estimators=500;, score=0.785 total time=   1.4s\n",
            "[CV 2/5; 40/50] START criterion=entropy, max_depth=3, n_estimators=500..........\n",
            "[CV 2/5; 40/50] END criterion=entropy, max_depth=3, n_estimators=500;, score=0.801 total time=   1.4s\n",
            "[CV 3/5; 40/50] START criterion=entropy, max_depth=3, n_estimators=500..........\n",
            "[CV 3/5; 40/50] END criterion=entropy, max_depth=3, n_estimators=500;, score=0.783 total time=   1.4s\n",
            "[CV 4/5; 40/50] START criterion=entropy, max_depth=3, n_estimators=500..........\n",
            "[CV 4/5; 40/50] END criterion=entropy, max_depth=3, n_estimators=500;, score=0.800 total time=   1.4s\n",
            "[CV 5/5; 40/50] START criterion=entropy, max_depth=3, n_estimators=500..........\n",
            "[CV 5/5; 40/50] END criterion=entropy, max_depth=3, n_estimators=500;, score=0.802 total time=   1.4s\n",
            "[CV 1/5; 41/50] START criterion=entropy, max_depth=4, n_estimators=100..........\n",
            "[CV 1/5; 41/50] END criterion=entropy, max_depth=4, n_estimators=100;, score=0.788 total time=   0.4s\n",
            "[CV 2/5; 41/50] START criterion=entropy, max_depth=4, n_estimators=100..........\n",
            "[CV 2/5; 41/50] END criterion=entropy, max_depth=4, n_estimators=100;, score=0.806 total time=   0.4s\n",
            "[CV 3/5; 41/50] START criterion=entropy, max_depth=4, n_estimators=100..........\n",
            "[CV 3/5; 41/50] END criterion=entropy, max_depth=4, n_estimators=100;, score=0.793 total time=   0.4s\n",
            "[CV 4/5; 41/50] START criterion=entropy, max_depth=4, n_estimators=100..........\n",
            "[CV 4/5; 41/50] END criterion=entropy, max_depth=4, n_estimators=100;, score=0.803 total time=   0.4s\n",
            "[CV 5/5; 41/50] START criterion=entropy, max_depth=4, n_estimators=100..........\n",
            "[CV 5/5; 41/50] END criterion=entropy, max_depth=4, n_estimators=100;, score=0.824 total time=   0.4s\n",
            "[CV 1/5; 42/50] START criterion=entropy, max_depth=4, n_estimators=200..........\n",
            "[CV 1/5; 42/50] END criterion=entropy, max_depth=4, n_estimators=200;, score=0.800 total time=   0.8s\n",
            "[CV 2/5; 42/50] START criterion=entropy, max_depth=4, n_estimators=200..........\n",
            "[CV 2/5; 42/50] END criterion=entropy, max_depth=4, n_estimators=200;, score=0.823 total time=   0.6s\n",
            "[CV 3/5; 42/50] START criterion=entropy, max_depth=4, n_estimators=200..........\n",
            "[CV 3/5; 42/50] END criterion=entropy, max_depth=4, n_estimators=200;, score=0.796 total time=   0.6s\n",
            "[CV 4/5; 42/50] START criterion=entropy, max_depth=4, n_estimators=200..........\n",
            "[CV 4/5; 42/50] END criterion=entropy, max_depth=4, n_estimators=200;, score=0.812 total time=   0.6s\n",
            "[CV 5/5; 42/50] START criterion=entropy, max_depth=4, n_estimators=200..........\n",
            "[CV 5/5; 42/50] END criterion=entropy, max_depth=4, n_estimators=200;, score=0.817 total time=   0.6s\n",
            "[CV 1/5; 43/50] START criterion=entropy, max_depth=4, n_estimators=300..........\n",
            "[CV 1/5; 43/50] END criterion=entropy, max_depth=4, n_estimators=300;, score=0.798 total time=   1.0s\n",
            "[CV 2/5; 43/50] START criterion=entropy, max_depth=4, n_estimators=300..........\n",
            "[CV 2/5; 43/50] END criterion=entropy, max_depth=4, n_estimators=300;, score=0.807 total time=   0.9s\n",
            "[CV 3/5; 43/50] START criterion=entropy, max_depth=4, n_estimators=300..........\n",
            "[CV 3/5; 43/50] END criterion=entropy, max_depth=4, n_estimators=300;, score=0.792 total time=   1.0s\n",
            "[CV 4/5; 43/50] START criterion=entropy, max_depth=4, n_estimators=300..........\n",
            "[CV 4/5; 43/50] END criterion=entropy, max_depth=4, n_estimators=300;, score=0.804 total time=   1.0s\n",
            "[CV 5/5; 43/50] START criterion=entropy, max_depth=4, n_estimators=300..........\n",
            "[CV 5/5; 43/50] END criterion=entropy, max_depth=4, n_estimators=300;, score=0.809 total time=   1.0s\n",
            "[CV 1/5; 44/50] START criterion=entropy, max_depth=4, n_estimators=400..........\n",
            "[CV 1/5; 44/50] END criterion=entropy, max_depth=4, n_estimators=400;, score=0.801 total time=   1.2s\n",
            "[CV 2/5; 44/50] START criterion=entropy, max_depth=4, n_estimators=400..........\n",
            "[CV 2/5; 44/50] END criterion=entropy, max_depth=4, n_estimators=400;, score=0.814 total time=   1.2s\n",
            "[CV 3/5; 44/50] START criterion=entropy, max_depth=4, n_estimators=400..........\n",
            "[CV 3/5; 44/50] END criterion=entropy, max_depth=4, n_estimators=400;, score=0.792 total time=   1.2s\n",
            "[CV 4/5; 44/50] START criterion=entropy, max_depth=4, n_estimators=400..........\n",
            "[CV 4/5; 44/50] END criterion=entropy, max_depth=4, n_estimators=400;, score=0.804 total time=   1.2s\n",
            "[CV 5/5; 44/50] START criterion=entropy, max_depth=4, n_estimators=400..........\n",
            "[CV 5/5; 44/50] END criterion=entropy, max_depth=4, n_estimators=400;, score=0.812 total time=   1.2s\n",
            "[CV 1/5; 45/50] START criterion=entropy, max_depth=4, n_estimators=500..........\n",
            "[CV 1/5; 45/50] END criterion=entropy, max_depth=4, n_estimators=500;, score=0.798 total time=   1.4s\n",
            "[CV 2/5; 45/50] START criterion=entropy, max_depth=4, n_estimators=500..........\n",
            "[CV 2/5; 45/50] END criterion=entropy, max_depth=4, n_estimators=500;, score=0.806 total time=   1.5s\n",
            "[CV 3/5; 45/50] START criterion=entropy, max_depth=4, n_estimators=500..........\n",
            "[CV 3/5; 45/50] END criterion=entropy, max_depth=4, n_estimators=500;, score=0.793 total time=   1.4s\n",
            "[CV 4/5; 45/50] START criterion=entropy, max_depth=4, n_estimators=500..........\n",
            "[CV 4/5; 45/50] END criterion=entropy, max_depth=4, n_estimators=500;, score=0.808 total time=   1.5s\n",
            "[CV 5/5; 45/50] START criterion=entropy, max_depth=4, n_estimators=500..........\n",
            "[CV 5/5; 45/50] END criterion=entropy, max_depth=4, n_estimators=500;, score=0.817 total time=   2.7s\n",
            "[CV 1/5; 46/50] START criterion=entropy, max_depth=5, n_estimators=100..........\n",
            "[CV 1/5; 46/50] END criterion=entropy, max_depth=5, n_estimators=100;, score=0.816 total time=   0.4s\n",
            "[CV 2/5; 46/50] START criterion=entropy, max_depth=5, n_estimators=100..........\n",
            "[CV 2/5; 46/50] END criterion=entropy, max_depth=5, n_estimators=100;, score=0.828 total time=   0.4s\n",
            "[CV 3/5; 46/50] START criterion=entropy, max_depth=5, n_estimators=100..........\n",
            "[CV 3/5; 46/50] END criterion=entropy, max_depth=5, n_estimators=100;, score=0.841 total time=   0.4s\n",
            "[CV 4/5; 46/50] START criterion=entropy, max_depth=5, n_estimators=100..........\n",
            "[CV 4/5; 46/50] END criterion=entropy, max_depth=5, n_estimators=100;, score=0.831 total time=   0.4s\n",
            "[CV 5/5; 46/50] START criterion=entropy, max_depth=5, n_estimators=100..........\n",
            "[CV 5/5; 46/50] END criterion=entropy, max_depth=5, n_estimators=100;, score=0.835 total time=   0.4s\n",
            "[CV 1/5; 47/50] START criterion=entropy, max_depth=5, n_estimators=200..........\n",
            "[CV 1/5; 47/50] END criterion=entropy, max_depth=5, n_estimators=200;, score=0.821 total time=   1.3s\n",
            "[CV 2/5; 47/50] START criterion=entropy, max_depth=5, n_estimators=200..........\n",
            "[CV 2/5; 47/50] END criterion=entropy, max_depth=5, n_estimators=200;, score=0.850 total time=   1.3s\n",
            "[CV 3/5; 47/50] START criterion=entropy, max_depth=5, n_estimators=200..........\n",
            "[CV 3/5; 47/50] END criterion=entropy, max_depth=5, n_estimators=200;, score=0.829 total time=   0.6s\n",
            "[CV 4/5; 47/50] START criterion=entropy, max_depth=5, n_estimators=200..........\n",
            "[CV 4/5; 47/50] END criterion=entropy, max_depth=5, n_estimators=200;, score=0.840 total time=   0.6s\n",
            "[CV 5/5; 47/50] START criterion=entropy, max_depth=5, n_estimators=200..........\n",
            "[CV 5/5; 47/50] END criterion=entropy, max_depth=5, n_estimators=200;, score=0.833 total time=   1.2s\n",
            "[CV 1/5; 48/50] START criterion=entropy, max_depth=5, n_estimators=300..........\n",
            "[CV 1/5; 48/50] END criterion=entropy, max_depth=5, n_estimators=300;, score=0.814 total time=   1.0s\n",
            "[CV 2/5; 48/50] START criterion=entropy, max_depth=5, n_estimators=300..........\n",
            "[CV 2/5; 48/50] END criterion=entropy, max_depth=5, n_estimators=300;, score=0.825 total time=   1.0s\n",
            "[CV 3/5; 48/50] START criterion=entropy, max_depth=5, n_estimators=300..........\n",
            "[CV 3/5; 48/50] END criterion=entropy, max_depth=5, n_estimators=300;, score=0.839 total time=   1.0s\n",
            "[CV 4/5; 48/50] START criterion=entropy, max_depth=5, n_estimators=300..........\n",
            "[CV 4/5; 48/50] END criterion=entropy, max_depth=5, n_estimators=300;, score=0.840 total time=   1.0s\n",
            "[CV 5/5; 48/50] START criterion=entropy, max_depth=5, n_estimators=300..........\n",
            "[CV 5/5; 48/50] END criterion=entropy, max_depth=5, n_estimators=300;, score=0.834 total time=   1.0s\n",
            "[CV 1/5; 49/50] START criterion=entropy, max_depth=5, n_estimators=400..........\n",
            "[CV 1/5; 49/50] END criterion=entropy, max_depth=5, n_estimators=400;, score=0.820 total time=   1.4s\n",
            "[CV 2/5; 49/50] START criterion=entropy, max_depth=5, n_estimators=400..........\n",
            "[CV 2/5; 49/50] END criterion=entropy, max_depth=5, n_estimators=400;, score=0.845 total time=   2.4s\n",
            "[CV 3/5; 49/50] START criterion=entropy, max_depth=5, n_estimators=400..........\n",
            "[CV 3/5; 49/50] END criterion=entropy, max_depth=5, n_estimators=400;, score=0.836 total time=   1.2s\n",
            "[CV 4/5; 49/50] START criterion=entropy, max_depth=5, n_estimators=400..........\n",
            "[CV 4/5; 49/50] END criterion=entropy, max_depth=5, n_estimators=400;, score=0.835 total time=   1.2s\n",
            "[CV 5/5; 49/50] START criterion=entropy, max_depth=5, n_estimators=400..........\n",
            "[CV 5/5; 49/50] END criterion=entropy, max_depth=5, n_estimators=400;, score=0.837 total time=   1.2s\n",
            "[CV 1/5; 50/50] START criterion=entropy, max_depth=5, n_estimators=500..........\n",
            "[CV 1/5; 50/50] END criterion=entropy, max_depth=5, n_estimators=500;, score=0.820 total time=   1.4s\n",
            "[CV 2/5; 50/50] START criterion=entropy, max_depth=5, n_estimators=500..........\n",
            "[CV 2/5; 50/50] END criterion=entropy, max_depth=5, n_estimators=500;, score=0.820 total time=   1.5s\n",
            "[CV 3/5; 50/50] START criterion=entropy, max_depth=5, n_estimators=500..........\n",
            "[CV 3/5; 50/50] END criterion=entropy, max_depth=5, n_estimators=500;, score=0.839 total time=   1.5s\n",
            "[CV 4/5; 50/50] START criterion=entropy, max_depth=5, n_estimators=500..........\n",
            "[CV 4/5; 50/50] END criterion=entropy, max_depth=5, n_estimators=500;, score=0.832 total time=   1.5s\n",
            "[CV 5/5; 50/50] START criterion=entropy, max_depth=5, n_estimators=500..........\n",
            "[CV 5/5; 50/50] END criterion=entropy, max_depth=5, n_estimators=500;, score=0.840 total time=   1.4s\n",
            "0.8360200039268678\n",
            "{'bootstrap': True, 'ccp_alpha': 0.0, 'class_weight': None, 'criterion': 'gini', 'max_depth': 5, 'max_features': 'auto', 'max_leaf_nodes': None, 'max_samples': None, 'min_impurity_decrease': 0.0, 'min_samples_leaf': 1, 'min_samples_split': 2, 'min_weight_fraction_leaf': 0.0, 'n_estimators': 300, 'n_jobs': -1, 'oob_score': False, 'random_state': None, 'verbose': 0, 'warm_start': False}\n"
          ]
        }
      ],
      "source": [
        "model.fit(X,y)\n",
        "print(model.best_score_) \n",
        "print(model.best_estimator_.get_params()) "
      ]
    },
    {
      "cell_type": "markdown",
      "metadata": {
        "id": "R7KBOCFIfnOC"
      },
      "source": [
        "# Cite:\n",
        "Assumptions of Linear Regression:Feb 3, 2021:DATAtab\n",
        "https://www.youtube.com/watch?v=sDrAoR17pNM&ab_channel=DATAtab\n",
        "\n",
        "Verifying the Assumptions of Linear Regression in Python:Dec 7, 2019:\n",
        "Bhavesh Bhatt\n",
        "https://www.youtube.com/watch?v=rw84t7QU2O0&ab_channel=BhaveshBhatt\n",
        "\n",
        "Tutorial 28-MultiCollinearity In Linear Regression- Part 2:\n",
        "Mar 29, 2020:Krish Naik\n",
        "https://www.youtube.com/watch?v=NAPhUDjgG_s&ab_channel=KrishNaik\n",
        "\n",
        "Tutorial 33- P Value,T test, Correlation Implementation with Python- Hypothesis Testing\n",
        "Jan 23, 2020:Krish Naik\n",
        "https://www.youtube.com/watch?v=4-rxTA_5_xA&ab_channel=KrishNaik\n",
        "\n",
        "Tutorial 28- Ridge and Lasso Regression using Python and Sklearn\n",
        "Krish Naik\n",
        "https://www.youtube.com/watch?v=0yI0-r3Ly40&ab_channel=KrishNaik\n",
        "\n",
        "author = {Krish Naik.},\n",
        "  title = {Lassoand Regression},\n",
        "  Date={Dec 11, 2019}\n",
        "Lassoand Regression.ipynb\n",
        "https://github.com/krishnaik06/RegressionandLasso/blob/master/Lassoand%20Regression.ipynb\n",
        "\n",
        "Hyperparameter Optimization: This Tutorial Is All You Need\n",
        "Abhishek Thakur:Jul 19, 2020\n",
        "https://www.youtube.com/watch?v=5nYqK-HaoKY&ab_channel=AbhishekThakur\n",
        "\n",
        "author = {Krish Naik},\n",
        "  title = {Hyper Parameter Optimization},\n",
        "  Date={Jul 23, 2020}\n",
        "https://github.com/krishnaik06/All-Hyperparamter-Optimization/blob/master/Hyper%20Parameter%20Optimization.ipynb\n",
        "\n",
        "author = {Akhilendra},\n",
        "  title = {\n",
        "Evaluation Metrics for Regression models- MAE Vs MSE Vs RMSE vs RMSLE},\n",
        "  Date={March 20, 2019}\n",
        "https://akhilendra.com/evaluation-metrics-regression-mae-mse-rmse-rmsle/\n",
        "\n"
      ]
    }
  ],
  "metadata": {
    "colab": {
      "collapsed_sections": [],
      "name": "Assignment2_Employee future prediction.ipynb",
      "provenance": []
    },
    "kernelspec": {
      "display_name": "Python 3",
      "language": "python",
      "name": "python3"
    },
    "language_info": {
      "name": "python",
      "version": "3.10.6 (tags/v3.10.6:9c7b4bd, Aug  1 2022, 21:53:49) [MSC v.1932 64 bit (AMD64)]"
    },
    "vscode": {
      "interpreter": {
        "hash": "68bee56d91ef4929a139f7ed5d848871f80488f33410b50571468da30e61c96b"
      }
    }
  },
  "nbformat": 4,
  "nbformat_minor": 0
}
