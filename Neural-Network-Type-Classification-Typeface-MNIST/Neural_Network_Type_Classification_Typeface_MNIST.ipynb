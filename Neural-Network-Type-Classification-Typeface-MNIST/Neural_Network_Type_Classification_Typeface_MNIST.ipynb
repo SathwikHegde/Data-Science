{
  "cells": [
    {
      "cell_type": "markdown",
      "metadata": {
        "id": "qyC57szmK3Ns"
      },
      "source": [
        "Kaggle Link: https://www.kaggle.com/code/sathwikhegde15/neural-network-type-classification-typeface-mnist\n"
      ]
    },
    {
      "cell_type": "markdown",
      "metadata": {
        "id": "61J5fEtRN0yI"
      },
      "source": [
        "**Abstract:**\n",
        "\n",
        "In this notebook, We will create a model that can identify handwriting digits by using TMNIST dataset.\n",
        "We are trying to solve here is to classify grayscale images of handwritten digits(28 x 28), into the categories 0-9. \n",
        "\n",
        "This dataset we are using is the MNIST database for handwritten digits. It consists of images representing digits from 0-9 produced using 2,990 google fonts files.\n",
        "\n",
        "Solving MNIST is like Hello World problem of Deep learning.\n",
        "\n",
        "The dataset consists of a single file:TMNIST_Data.csv\n",
        "\n",
        "This file consists of 29,900 examples with labels and font names."
      ]
    },
    {
      "cell_type": "code",
      "execution_count": 1,
      "metadata": {
        "id": "EbbLvymp7Eg4"
      },
      "outputs": [],
      "source": [
        "import numpy as np\n",
        "import pandas as pd\n",
        "import matplotlib.pyplot as plt\n",
        "from tensorflow import keras\n",
        "%matplotlib inline\n",
        "\n",
        "\n",
        "import keras\n",
        "from sklearn.model_selection import train_test_split\n",
        "import torch\n",
        "import torch.nn as nn\n",
        "from torch.utils.data import Dataset, DataLoader, TensorDataset\n",
        "from sklearn.preprocessing import LabelBinarizer\n",
        "import os\n",
        "os.environ['CUDA_VISIBLE_DEVICES'] = \"0\"\n",
        "device = torch.device(\"cuda\" if torch.cuda.is_available() else \"cpu\")"
      ]
    },
    {
      "cell_type": "markdown",
      "metadata": {
        "id": "yFS_YQr--9yc"
      },
      "source": [
        "# Load Data"
      ]
    },
    {
      "cell_type": "code",
      "execution_count": 2,
      "metadata": {
        "id": "eumOMNhR8ntS"
      },
      "outputs": [],
      "source": [
        "# The dataset is in the form set of 4 numpy arrays\n",
        "data = pd.read_csv(\"TMNIST_Data.csv\")\n",
        "X = data.drop(columns={'names', 'labels'})\n",
        "y = data[['labels']]\n",
        "X_train, X_test, y_train, y_test = train_test_split(X, y, test_size=0.2)"
      ]
    },
    {
      "cell_type": "code",
      "execution_count": 3,
      "metadata": {
        "id": "dbH8V2ntxX-g"
      },
      "outputs": [],
      "source": [
        "y_train = y_train.values.reshape((-1,))\n",
        "y_test = y_test.values.reshape((-1,))"
      ]
    },
    {
      "cell_type": "code",
      "execution_count": 4,
      "metadata": {
        "id": "pBXVtYyk8Bqt"
      },
      "outputs": [],
      "source": [
        "# from keras.datasets import mnist\n",
        "# (train_images, train_labels), (test_images, test_labels)=mnist.load_data()"
      ]
    },
    {
      "cell_type": "markdown",
      "metadata": {
        "id": "if-TPowcGgzI"
      },
      "source": [
        "We will train  the images and the labels form the training_sets, which isthe data the model will learn from. The model will then be tested on the \"test_set\", test_images and test_labels"
      ]
    },
    {
      "cell_type": "code",
      "execution_count": 5,
      "metadata": {
        "colab": {
          "base_uri": "https://localhost:8080/"
        },
        "id": "tJnpc6KdG556",
        "outputId": "f1919493-42f3-498e-87e2-8ec05062a7d9"
      },
      "outputs": [
        {
          "data": {
            "text/plain": [
              "(23920, 784)"
            ]
          },
          "execution_count": 5,
          "metadata": {},
          "output_type": "execute_result"
        }
      ],
      "source": [
        "X_train.shape"
      ]
    },
    {
      "cell_type": "code",
      "execution_count": 6,
      "metadata": {
        "colab": {
          "base_uri": "https://localhost:8080/"
        },
        "id": "mWmaWMquHB0C",
        "outputId": "78c016c3-8a13-434a-a2de-7d86300c2da7"
      },
      "outputs": [
        {
          "data": {
            "text/plain": [
              "(5980, 784)"
            ]
          },
          "execution_count": 6,
          "metadata": {},
          "output_type": "execute_result"
        }
      ],
      "source": [
        "X_test.shape"
      ]
    },
    {
      "cell_type": "code",
      "execution_count": 7,
      "metadata": {
        "colab": {
          "base_uri": "https://localhost:8080/"
        },
        "id": "JwslVq1Ux1LO",
        "outputId": "9c4bc4f6-f69b-4569-cf27-55399b616d3b"
      },
      "outputs": [
        {
          "data": {
            "text/plain": [
              "(23920,)"
            ]
          },
          "execution_count": 7,
          "metadata": {},
          "output_type": "execute_result"
        }
      ],
      "source": [
        "y_train.shape"
      ]
    },
    {
      "cell_type": "code",
      "execution_count": 8,
      "metadata": {
        "colab": {
          "base_uri": "https://localhost:8080/"
        },
        "id": "vLyIORgrxzit",
        "outputId": "8a7e3b4a-b57e-4d53-e7f4-7f5f4cd8a048"
      },
      "outputs": [
        {
          "data": {
            "text/plain": [
              "(5980,)"
            ]
          },
          "execution_count": 8,
          "metadata": {},
          "output_type": "execute_result"
        }
      ],
      "source": [
        "y_test.shape"
      ]
    },
    {
      "cell_type": "markdown",
      "metadata": {
        "id": "97gfep22U8P1"
      },
      "source": [
        "We have a 28x28 pixel image sample dataset."
      ]
    },
    {
      "cell_type": "markdown",
      "metadata": {
        "id": "zxJj-RDGHHUI"
      },
      "source": [
        "## Building Model"
      ]
    },
    {
      "cell_type": "code",
      "execution_count": 9,
      "metadata": {
        "id": "iWtPzUgQHJC5"
      },
      "outputs": [],
      "source": [
        "from keras import models\n",
        "from keras import layers\n",
        "\n",
        "model = models.Sequential()\n",
        "model.add(layers.Dense(512,activation='relu', input_shape=(28*28,)))\n",
        "model.add(layers.Dense(10,activation='softmax'))"
      ]
    },
    {
      "cell_type": "markdown",
      "metadata": {
        "id": "6u6qGuGZAWk_"
      },
      "source": [
        "Our network consists of 2 dense layers (fully connected neural layers). The second layer is softmax layer which will return an array of 10 scores.Sequential means we are have a stack of layers in our neural network. Since it is a stack it will accept every layer as an element. Here we have defined input as 784 neurons and input as 10 neurons. We are using activation function as softmax."
      ]
    },
    {
      "cell_type": "markdown",
      "metadata": {
        "id": "2AhV6BdxJkU6"
      },
      "source": [
        "## Compile the Keras Model"
      ]
    },
    {
      "cell_type": "code",
      "execution_count": 10,
      "metadata": {
        "id": "aGVFiLveJm9A"
      },
      "outputs": [],
      "source": [
        "model.compile(optimizer=\"rmsprop\",\n",
        "              loss=\"categorical_crossentropy\",\n",
        "              metrics=['accuracy'])"
      ]
    },
    {
      "cell_type": "markdown",
      "metadata": {
        "id": "eGAqL4aSA-4G"
      },
      "source": [
        "After running the model we have to compile the model.\n",
        "We are using three parameters,\n",
        "1) optimizer = \"rmsprop\". It will help to achieve gobal optimization in an efficient way.\n",
        "2) loss = categorical_crossentropy. Which means, the output label is assigned one-hot category encoding value in form of 0s and 1. The output label, if present in integer form, is converted into categorical encoding using keras. 3) metrics = accuracy, since our goal is to make it more accurate."
      ]
    },
    {
      "cell_type": "markdown",
      "metadata": {
        "id": "rGcPbq-OJ-nM"
      },
      "source": [
        "# Preprocess Data:\n",
        "We are going to flatten the data using reshape function and convert it into 1d array fom 2d array.\n",
        "Then we will scale our data by dividing it by 255 to improve the accuracy. We will transform it to a shape float32, so the values are between 0 and 1.\n",
        "\n"
      ]
    },
    {
      "cell_type": "code",
      "execution_count": 11,
      "metadata": {
        "id": "WbbJ9ddhJ_tW"
      },
      "outputs": [],
      "source": [
        "X_train=X_train.values.reshape(23920,784)\n",
        "X_train=X_train.astype('float32')/255\n",
        "\n",
        "X_test=X_test.values.reshape(5980,784)\n",
        "X_test=X_test.astype('float32')/255"
      ]
    },
    {
      "cell_type": "markdown",
      "metadata": {
        "id": "r8ybkH7Tanhh"
      },
      "source": [
        "Now we will catgorically encode the labels"
      ]
    },
    {
      "cell_type": "code",
      "execution_count": 12,
      "metadata": {
        "id": "2iP9xevaMLIl"
      },
      "outputs": [],
      "source": [
        "from tensorflow.keras.utils import to_categorical\n",
        "\n",
        "y_train=to_categorical(y_train)\n",
        "y_test=to_categorical(y_test) "
      ]
    },
    {
      "cell_type": "markdown",
      "metadata": {
        "id": "2Tekiz3mMwq7"
      },
      "source": [
        "We will now train the model by doing Fit on the keras model"
      ]
    },
    {
      "cell_type": "code",
      "execution_count": 13,
      "metadata": {
        "colab": {
          "base_uri": "https://localhost:8080/"
        },
        "id": "oMGo7BONMx5-",
        "outputId": "c66638b1-bcc9-4e0e-de08-60af8eef7359"
      },
      "outputs": [
        {
          "name": "stdout",
          "output_type": "stream",
          "text": [
            "Epoch 1/5\n",
            "187/187 [==============================] - 4s 16ms/step - loss: 0.2587 - accuracy: 0.9333\n",
            "Epoch 2/5\n",
            "187/187 [==============================] - 3s 18ms/step - loss: 0.1083 - accuracy: 0.9705\n",
            "Epoch 3/5\n",
            "187/187 [==============================] - 3s 18ms/step - loss: 0.0805 - accuracy: 0.9787\n",
            "Epoch 4/5\n",
            "187/187 [==============================] - 3s 17ms/step - loss: 0.0633 - accuracy: 0.9826\n",
            "Epoch 5/5\n",
            "187/187 [==============================] - 3s 16ms/step - loss: 0.0504 - accuracy: 0.9859\n"
          ]
        }
      ],
      "source": [
        "result = model.fit(X_train,y_train, epochs = 5, batch_size=128)"
      ]
    },
    {
      "cell_type": "markdown",
      "metadata": {
        "id": "9WvqOpnw9VFv"
      },
      "source": [
        "After running it for 5 epochs we get an accuracy of 98%. Lets try by increasing the epochs if we get an increased accuracy. We will run it for 10 epochs."
      ]
    },
    {
      "cell_type": "code",
      "execution_count": 14,
      "metadata": {
        "colab": {
          "base_uri": "https://localhost:8080/"
        },
        "id": "hf_BBmbz7R9D",
        "outputId": "5b489006-ea96-469e-c308-1cd7b8189013"
      },
      "outputs": [
        {
          "name": "stdout",
          "output_type": "stream",
          "text": [
            "Epoch 1/10\n",
            "187/187 [==============================] - 2s 12ms/step - loss: 0.0409 - accuracy: 0.9883\n",
            "Epoch 2/10\n",
            "187/187 [==============================] - 2s 9ms/step - loss: 0.0333 - accuracy: 0.9908\n",
            "Epoch 3/10\n",
            "187/187 [==============================] - 2s 9ms/step - loss: 0.0276 - accuracy: 0.9921\n",
            "Epoch 4/10\n",
            "187/187 [==============================] - 2s 9ms/step - loss: 0.0224 - accuracy: 0.9941\n",
            "Epoch 5/10\n",
            "187/187 [==============================] - 2s 9ms/step - loss: 0.0195 - accuracy: 0.9950\n",
            "Epoch 6/10\n",
            "187/187 [==============================] - 2s 9ms/step - loss: 0.0155 - accuracy: 0.9957\n",
            "Epoch 7/10\n",
            "187/187 [==============================] - 2s 9ms/step - loss: 0.0142 - accuracy: 0.9959\n",
            "Epoch 8/10\n",
            "187/187 [==============================] - 2s 9ms/step - loss: 0.0119 - accuracy: 0.9970\n",
            "Epoch 9/10\n",
            "187/187 [==============================] - 2s 9ms/step - loss: 0.0124 - accuracy: 0.9972\n",
            "Epoch 10/10\n",
            "187/187 [==============================] - 2s 9ms/step - loss: 0.0094 - accuracy: 0.9977\n"
          ]
        }
      ],
      "source": [
        "result = model.fit(X_train,y_train, epochs = 10, batch_size=128)"
      ]
    },
    {
      "cell_type": "markdown",
      "metadata": {
        "id": "CEl5Ntip9jHb"
      },
      "source": [
        "The accuracy increases to 99.77% after running it for 10 epochs."
      ]
    },
    {
      "cell_type": "markdown",
      "metadata": {
        "id": "_JoVssrub343"
      },
      "source": [
        "Evaluate the Keras Model"
      ]
    },
    {
      "cell_type": "code",
      "execution_count": 15,
      "metadata": {
        "colab": {
          "base_uri": "https://localhost:8080/"
        },
        "id": "eASYY4nZ9nNd",
        "outputId": "c6655834-d39b-4636-aee3-ef3ceb3c900a"
      },
      "outputs": [
        {
          "name": "stdout",
          "output_type": "stream",
          "text": [
            "748/748 [==============================] - 2s 2ms/step - loss: 0.0055 - accuracy: 0.9989\n"
          ]
        }
      ],
      "source": [
        "train_loss, train_acc=model.evaluate(X_train, y_train)"
      ]
    },
    {
      "cell_type": "code",
      "execution_count": 16,
      "metadata": {
        "colab": {
          "base_uri": "https://localhost:8080/"
        },
        "id": "3VMh3I709x-R",
        "outputId": "50c9011a-71f6-4926-d6fe-87e1200dc59b"
      },
      "outputs": [
        {
          "name": "stdout",
          "output_type": "stream",
          "text": [
            "Train Accuracy: 0.998913049697876\n",
            "Train loss: 0.005451668053865433\n"
          ]
        }
      ],
      "source": [
        "print('Train Accuracy:', train_acc)\n",
        "print('Train loss:', train_loss)"
      ]
    },
    {
      "cell_type": "markdown",
      "metadata": {
        "id": "Nke5xjxMbBzd"
      },
      "source": [
        "We get an accuracy of 99% on the training data"
      ]
    },
    {
      "cell_type": "markdown",
      "metadata": {
        "id": "c_AFSU1tbH61"
      },
      "source": [
        "Next we will check on the test data"
      ]
    },
    {
      "cell_type": "code",
      "execution_count": 17,
      "metadata": {
        "colab": {
          "base_uri": "https://localhost:8080/"
        },
        "id": "skhkyijgb62t",
        "outputId": "563bdc78-b927-4d6f-f226-0a04e0343065"
      },
      "outputs": [
        {
          "name": "stdout",
          "output_type": "stream",
          "text": [
            "187/187 [==============================] - 0s 3ms/step - loss: 0.0664 - accuracy: 0.9866\n"
          ]
        }
      ],
      "source": [
        "test_loss, test_acc=model.evaluate(X_test, y_test)"
      ]
    },
    {
      "cell_type": "code",
      "execution_count": 18,
      "metadata": {
        "colab": {
          "base_uri": "https://localhost:8080/"
        },
        "id": "9rh8uO_3Oxkk",
        "outputId": "b69684d6-215d-4cb7-d416-893d7a818c9c"
      },
      "outputs": [
        {
          "name": "stdout",
          "output_type": "stream",
          "text": [
            "Test Accuracy: 0.9866220951080322\n",
            "Test loss: 0.0664043202996254\n"
          ]
        }
      ],
      "source": [
        "print('Test Accuracy:', test_acc)\n",
        "print('Test loss:', test_loss)"
      ]
    },
    {
      "cell_type": "markdown",
      "metadata": {
        "id": "rkn6zMPeSZ4J"
      },
      "source": [
        "We get an accuracy of 98%"
      ]
    },
    {
      "cell_type": "markdown",
      "metadata": {
        "id": "ZBLE3aO83bOc"
      },
      "source": []
    },
    {
      "cell_type": "markdown",
      "metadata": {
        "id": "3dNuDGZVNhkO"
      },
      "source": [
        "**Conclusion:**\n",
        "\n",
        "We have a train accuracy of 98.5% when we run on 5 epochs but we get an accuracy of 99% when we increase the epoch to 10. The test accuracy of 98.66% which is just slightly less than the train accuracy, which could be a clear case of overfitting."
      ]
    },
    {
      "cell_type": "markdown",
      "metadata": {
        "id": "fTf12aDZ9t8k"
      },
      "source": [
        "References:\n",
        "https://www.youtube.com/watch?v=bee0GrKBCrE\n",
        "https://www.youtube.com/watch?v=iqQgED9vV7k"
      ]
    },
    {
      "cell_type": "markdown",
      "metadata": {
        "id": "yhvonp0eNYeq"
      },
      "source": [
        "Licensing\n",
        "Copyright 2022 Sathwik Hegde\n",
        "\n",
        "Redistribution and use in source and binary forms, with or without modification, are permitted provided that the following conditions are met:\n",
        "\n",
        "Redistributions of source code must retain the above copyright notice, this list of conditions and the following disclaimer.\n",
        "\n",
        "Redistributions in binary form must reproduce the above copyright notice, this list of conditions and the following disclaimer in the documentation and/or other materials provided with the distribution.\n",
        "\n",
        "THIS SOFTWARE IS PROVIDED BY THE COPYRIGHT HOLDERS AND CONTRIBUTORS \"AS IS\" AND ANY EXPRESS OR IMPLIED WARRANTIES, INCLUDING, BUT NOT LIMITED TO, THE IMPLIED WARRANTIES OF MERCHANTABILITY AND FITNESS FOR A PARTICULAR PURPOSE ARE DISCLAIMED. IN NO EVENT SHALL THE COPYRIGHT HOLDER OR CONTRIBUTORS BE LIABLE FOR ANY DIRECT, INDIRECT, INCIDENTAL, SPECIAL, EXEMPLARY, OR CONSEQUENTIAL DAMAGES (INCLUDING, BUT NOT LIMITED TO, PROCUREMENT OF SUBSTITUTE GOODS OR SERVICES; LOSS OF USE, DATA, OR PROFITS; OR BUSINESS INTERRUPTION) HOWEVER CAUSED AND ON ANY THEORY OF LIABILITY, WHETHER IN CONTRACT, STRICT LIABILITY, OR TORT (INCLUDING NEGLIGENCE OR OTHERWISE) ARISING IN ANY WAY OUT OF THE USE OF THIS SOFTWARE, EVEN IF ADVISED OF THE POSSIBILITY OF SUCH DAMAGE."
      ]
    }
  ],
  "metadata": {
    "colab": {
      "collapsed_sections": [],
      "name": "Neural Network Type Classification_Typeface MNIST Sathwik Hegde 002194830.ipynb",
      "provenance": []
    },
    "kernelspec": {
      "display_name": "Python 3",
      "language": "python",
      "name": "python3"
    },
    "language_info": {
      "name": "python",
      "version": "3.10.6 (tags/v3.10.6:9c7b4bd, Aug  1 2022, 21:53:49) [MSC v.1932 64 bit (AMD64)]"
    },
    "vscode": {
      "interpreter": {
        "hash": "68bee56d91ef4929a139f7ed5d848871f80488f33410b50571468da30e61c96b"
      }
    }
  },
  "nbformat": 4,
  "nbformat_minor": 0
}
